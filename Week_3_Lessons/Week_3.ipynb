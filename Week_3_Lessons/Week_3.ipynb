{
 "cells": [
  {
   "cell_type": "markdown",
   "id": "9a197237",
   "metadata": {},
   "source": [
    "### Loops with Conditions - Print Numbers"
   ]
  },
  {
   "cell_type": "code",
   "execution_count": 1,
   "id": "38bcfa51",
   "metadata": {},
   "outputs": [
    {
     "name": "stdout",
     "output_type": "stream",
     "text": [
      "2\n",
      "4\n",
      "6\n",
      "8\n",
      "10\n",
      "12\n",
      "14\n",
      "16\n",
      "18\n",
      "20\n",
      "22\n",
      "24\n",
      "26\n",
      "28\n",
      "30\n"
     ]
    }
   ],
   "source": [
    "for number in range (2, 31):\n",
    "    if number % 2 == 0:\n",
    "        print(number)"
   ]
  },
  {
   "cell_type": "markdown",
   "id": "cafab1e3",
   "metadata": {},
   "source": [
    "### Loops with Conditions - Fix the code: Countdown"
   ]
  },
  {
   "cell_type": "code",
   "execution_count": 2,
   "id": "86d71cae",
   "metadata": {},
   "outputs": [
    {
     "name": "stdout",
     "output_type": "stream",
     "text": [
      "Are you ready?\n",
      "Please type in a number: 5\n",
      "5\n",
      "4\n",
      "3\n",
      "2\n",
      "1\n",
      "Now!\n"
     ]
    }
   ],
   "source": [
    "print(\"Are you ready?\")\n",
    "number = int(input(\"Please type in a number: \"))\n",
    "print(f\"Please type in a number: {number}\")\n",
    "while number > 0:\n",
    "    print(number)\n",
    "    number = number - 1\n",
    "\n",
    "print(\"Now!\")"
   ]
  },
  {
   "cell_type": "markdown",
   "id": "3779bb81",
   "metadata": {},
   "source": [
    "### Loops with Conditions - Numbers"
   ]
  },
  {
   "cell_type": "code",
   "execution_count": 5,
   "id": "88280f79",
   "metadata": {},
   "outputs": [
    {
     "name": "stdout",
     "output_type": "stream",
     "text": [
      "Upper limit: 5\n",
      "1\n",
      "2\n",
      "3\n",
      "4\n"
     ]
    }
   ],
   "source": [
    "limit = int(input(\"Please enter a number: \"))\n",
    "start = 1\n",
    "print(f\"Upper limit: {limit}\")\n",
    "\n",
    "while start < limit:\n",
    "    print(start)\n",
    "    start = start + 1\n",
    "\n"
   ]
  },
  {
   "cell_type": "markdown",
   "id": "030c9cca",
   "metadata": {},
   "source": [
    "### Loops with Conditions - Power of two"
   ]
  },
  {
   "cell_type": "code",
   "execution_count": 11,
   "id": "58dadc75",
   "metadata": {},
   "outputs": [
    {
     "name": "stdout",
     "output_type": "stream",
     "text": [
      "Upper limit: 100\n",
      "1\n",
      "2\n",
      "4\n",
      "8\n",
      "16\n",
      "32\n",
      "64\n"
     ]
    }
   ],
   "source": [
    "limit = int(input(\"Please enter a number: \"))\n",
    "start = 1\n",
    "print(f\"Upper limit: {limit}\")\n",
    "\n",
    "while start <= limit:\n",
    "    print(start)\n",
    "    start = start * 2"
   ]
  },
  {
   "cell_type": "markdown",
   "id": "5095ecbd",
   "metadata": {},
   "source": [
    "### Loops with Conditions - Power of base n"
   ]
  },
  {
   "cell_type": "code",
   "execution_count": 14,
   "id": "cea863be",
   "metadata": {},
   "outputs": [
    {
     "name": "stdout",
     "output_type": "stream",
     "text": [
      "Upper limit: 1234567\n",
      "Base: 10\n",
      "1\n",
      "10\n",
      "100\n",
      "1000\n",
      "10000\n",
      "100000\n",
      "1000000\n"
     ]
    }
   ],
   "source": [
    "limit = int(input(\"Please enter a number: \"))\n",
    "base = int(input(\"Please enter a base number: \"))\n",
    "start = 1\n",
    "print(f\"Upper limit: {limit}\")\n",
    "print(f\"Base: {base}\")\n",
    "\n",
    "while start <= limit:\n",
    "    print(start)\n",
    "    start = start * base"
   ]
  },
  {
   "cell_type": "markdown",
   "id": "4e728754",
   "metadata": {},
   "source": [
    "### Loops with Conditions - The sum of consecutive numbers, version 1"
   ]
  },
  {
   "cell_type": "code",
   "execution_count": 20,
   "id": "f66aab57",
   "metadata": {},
   "outputs": [
    {
     "name": "stdout",
     "output_type": "stream",
     "text": [
      "Limit: 18\n",
      "21\n"
     ]
    }
   ],
   "source": [
    "limit = int(input(\"Please type in a number: \"))\n",
    "sum = 0\n",
    "number = 1\n",
    "print(f\"Limit: {limit}\")\n",
    "while sum < limit:\n",
    "    sum += number\n",
    "    number += 1\n",
    "\n",
    "print(sum)"
   ]
  },
  {
   "cell_type": "markdown",
   "id": "dab14cdd",
   "metadata": {},
   "source": [
    "### Loops with Conditions - The sum of consecutive numbers, version 2"
   ]
  },
  {
   "cell_type": "code",
   "execution_count": 40,
   "id": "c59444d3",
   "metadata": {},
   "outputs": [
    {
     "name": "stdout",
     "output_type": "stream",
     "text": [
      "Limit: 2\n",
      "The consecutive sum: 1 + 2 +  = 3\n"
     ]
    }
   ],
   "source": [
    "limit = int(input(\"Please type in a number: \"))\n",
    "sum = 0\n",
    "number = 1\n",
    "sentence = \"\"\n",
    "print(f\"Limit: {limit}\")\n",
    "while number <= limit:\n",
    "    sentence += f\"{number} + \"\n",
    "    sum += number\n",
    "    number += 1\n",
    "    \n",
    "\n",
    "print(f\"The consecutive sum: {sentence} = {sum}\")"
   ]
  },
  {
   "cell_type": "markdown",
   "id": "9ed3a2b5",
   "metadata": {},
   "source": [
    "### Working with Strings - String multiplied"
   ]
  },
  {
   "cell_type": "code",
   "execution_count": 41,
   "id": "6cd46241",
   "metadata": {},
   "outputs": [
    {
     "name": "stdout",
     "output_type": "stream",
     "text": [
      "Please type in a string: hiya\n",
      "Please type in an amount: 4\n",
      "hiyahiyahiyahiya\n"
     ]
    }
   ],
   "source": [
    "string = input(\"Please type in a string: \")\n",
    "amount = int(input(\"Please type in an amount: \"))\n",
    "print(f\"Please type in a string: {string}\")\n",
    "print(f\"Please type in an amount: {amount}\")\n",
    "print(string * amount)"
   ]
  },
  {
   "cell_type": "markdown",
   "id": "df5f1a1b",
   "metadata": {},
   "source": [
    "### Working with Strings - The longer string"
   ]
  },
  {
   "cell_type": "code",
   "execution_count": 47,
   "id": "60b000fe",
   "metadata": {},
   "outputs": [
    {
     "name": "stdout",
     "output_type": "stream",
     "text": [
      "Please type in string 1: hey\n",
      "Please type in string 2: bye\n",
      "The strings are equally long\n"
     ]
    }
   ],
   "source": [
    "string1 = input(\"Please type in string 1: \")\n",
    "string2 = input(\"Please type in string 2: \")\n",
    "print(f\"Please type in string 1: {string1}\")\n",
    "print(f\"Please type in string 2: {string2}\")\n",
    "string1_length = len(string1)\n",
    "string2_length = len(string2)\n",
    "\n",
    "if string1_length > string2_length:\n",
    "    print(f\"{string1} is longer\")\n",
    "elif string2_length > string1_length:\n",
    "    print(f\"{string2} is longer\")\n",
    "else:\n",
    "    print(\"The strings are equally long\")"
   ]
  }
 ],
 "metadata": {
  "kernelspec": {
   "display_name": "Python 3",
   "language": "python",
   "name": "python3"
  },
  "language_info": {
   "codemirror_mode": {
    "name": "ipython",
    "version": 3
   },
   "file_extension": ".py",
   "mimetype": "text/x-python",
   "name": "python",
   "nbconvert_exporter": "python",
   "pygments_lexer": "ipython3",
   "version": "3.12.9"
  }
 },
 "nbformat": 4,
 "nbformat_minor": 5
}
