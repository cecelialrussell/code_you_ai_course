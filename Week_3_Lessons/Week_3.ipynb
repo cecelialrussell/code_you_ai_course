{
 "cells": [
  {
   "cell_type": "markdown",
   "id": "9a197237",
   "metadata": {},
   "source": [
    "### Loops with Conditions - Print Numbers"
   ]
  },
  {
   "cell_type": "code",
   "execution_count": 13,
   "id": "38bcfa51",
   "metadata": {},
   "outputs": [
    {
     "name": "stdout",
     "output_type": "stream",
     "text": [
      "2\n",
      "4\n",
      "6\n",
      "8\n",
      "10\n",
      "12\n",
      "14\n",
      "16\n",
      "18\n",
      "20\n",
      "22\n",
      "24\n",
      "26\n",
      "28\n",
      "30\n"
     ]
    }
   ],
   "source": [
    "for number in range (2, 31):\n",
    "    if number % 2 == 0:\n",
    "        print(number)"
   ]
  },
  {
   "cell_type": "markdown",
   "id": "cafab1e3",
   "metadata": {},
   "source": [
    "### Loops with Conditions - Fix the code: Countdown"
   ]
  },
  {
   "cell_type": "code",
   "execution_count": null,
   "id": "86d71cae",
   "metadata": {},
   "outputs": [
    {
     "name": "stdout",
     "output_type": "stream",
     "text": [
      "Are you ready?\n"
     ]
    }
   ],
   "source": [
    "print(\"Are you ready?\")\n",
    "number = int(input(\"Please type in a number: \"))\n",
    "print(f\"Please type in a number: {number}\")\n",
    "while number > 0:\n",
    "    print(number)\n",
    "    number = number - 1\n",
    "\n",
    "print(\"Now!\")"
   ]
  },
  {
   "cell_type": "markdown",
   "id": "3779bb81",
   "metadata": {},
   "source": [
    "### Loops with Conditions - Numbers"
   ]
  },
  {
   "cell_type": "code",
   "execution_count": null,
   "id": "88280f79",
   "metadata": {},
   "outputs": [
    {
     "name": "stdout",
     "output_type": "stream",
     "text": [
      "Upper limit: 5\n",
      "1\n",
      "2\n",
      "3\n",
      "4\n"
     ]
    }
   ],
   "source": [
    "limit = int(input(\"Please enter a number: \"))\n",
    "start = 1\n",
    "print(f\"Upper limit: {limit}\")\n",
    "\n",
    "while start < limit:\n",
    "    print(start)\n",
    "    start = start + 1\n",
    "\n"
   ]
  },
  {
   "cell_type": "markdown",
   "id": "030c9cca",
   "metadata": {},
   "source": [
    "### Loops with Conditions - Power of two"
   ]
  },
  {
   "cell_type": "code",
   "execution_count": null,
   "id": "58dadc75",
   "metadata": {},
   "outputs": [
    {
     "name": "stdout",
     "output_type": "stream",
     "text": [
      "Upper limit: 100\n",
      "1\n",
      "2\n",
      "4\n",
      "8\n",
      "16\n",
      "32\n",
      "64\n"
     ]
    }
   ],
   "source": [
    "limit = int(input(\"Please enter a number: \"))\n",
    "start = 1\n",
    "print(f\"Upper limit: {limit}\")\n",
    "\n",
    "while start <= limit:\n",
    "    print(start)\n",
    "    start = start * 2"
   ]
  },
  {
   "cell_type": "markdown",
   "id": "5095ecbd",
   "metadata": {},
   "source": [
    "### Loops with Conditions - Power of base n"
   ]
  },
  {
   "cell_type": "code",
   "execution_count": null,
   "id": "cea863be",
   "metadata": {},
   "outputs": [
    {
     "name": "stdout",
     "output_type": "stream",
     "text": [
      "Upper limit: 1234567\n",
      "Base: 10\n",
      "1\n",
      "10\n",
      "100\n",
      "1000\n",
      "10000\n",
      "100000\n",
      "1000000\n"
     ]
    }
   ],
   "source": [
    "limit = int(input(\"Please enter a number: \"))\n",
    "base = int(input(\"Please enter a base number: \"))\n",
    "start = 1\n",
    "print(f\"Upper limit: {limit}\")\n",
    "print(f\"Base: {base}\")\n",
    "\n",
    "while start <= limit:\n",
    "    print(start)\n",
    "    start = start * base"
   ]
  },
  {
   "cell_type": "markdown",
   "id": "4e728754",
   "metadata": {},
   "source": [
    "### Loops with Conditions - The sum of consecutive numbers, version 1"
   ]
  },
  {
   "cell_type": "code",
   "execution_count": null,
   "id": "f66aab57",
   "metadata": {},
   "outputs": [
    {
     "name": "stdout",
     "output_type": "stream",
     "text": [
      "Limit: 18\n",
      "21\n"
     ]
    }
   ],
   "source": [
    "limit = int(input(\"Please type in a number: \"))\n",
    "sum = 0\n",
    "number = 1\n",
    "print(f\"Limit: {limit}\")\n",
    "while sum < limit:\n",
    "    sum += number\n",
    "    number += 1\n",
    "\n",
    "print(sum)"
   ]
  },
  {
   "cell_type": "markdown",
   "id": "dab14cdd",
   "metadata": {},
   "source": [
    "### Loops with Conditions - The sum of consecutive numbers, version 2"
   ]
  },
  {
   "cell_type": "code",
   "execution_count": null,
   "id": "c59444d3",
   "metadata": {},
   "outputs": [
    {
     "name": "stdout",
     "output_type": "stream",
     "text": [
      "Limit: 2\n",
      "The consecutive sum: 1 + 2 +  = 3\n"
     ]
    }
   ],
   "source": [
    "limit = int(input(\"Please type in a number: \"))\n",
    "sum = 0\n",
    "number = 1\n",
    "sentence = \"\"\n",
    "print(f\"Limit: {limit}\")\n",
    "while number <= limit:\n",
    "    sentence += f\"{number} + \"\n",
    "    sum += number\n",
    "    number += 1\n",
    "    \n",
    "\n",
    "print(f\"The consecutive sum: {sentence} = {sum}\")"
   ]
  },
  {
   "cell_type": "markdown",
   "id": "9ed3a2b5",
   "metadata": {},
   "source": [
    "### Working with Strings - String multiplied"
   ]
  },
  {
   "cell_type": "code",
   "execution_count": null,
   "id": "6cd46241",
   "metadata": {},
   "outputs": [
    {
     "name": "stdout",
     "output_type": "stream",
     "text": [
      "Please type in a string: hiya\n",
      "Please type in an amount: 4\n",
      "hiyahiyahiyahiya\n"
     ]
    }
   ],
   "source": [
    "string = input(\"Please type in a string: \")\n",
    "amount = int(input(\"Please type in an amount: \"))\n",
    "print(f\"Please type in a string: {string}\")\n",
    "print(f\"Please type in an amount: {amount}\")\n",
    "print(string * amount)"
   ]
  },
  {
   "cell_type": "markdown",
   "id": "df5f1a1b",
   "metadata": {},
   "source": [
    "### Working with Strings - The longer string"
   ]
  },
  {
   "cell_type": "code",
   "execution_count": null,
   "id": "60b000fe",
   "metadata": {},
   "outputs": [
    {
     "name": "stdout",
     "output_type": "stream",
     "text": [
      "Please type in string 1: hey\n",
      "Please type in string 2: bye\n",
      "The strings are equally long\n"
     ]
    }
   ],
   "source": [
    "string1 = input(\"Please type in string 1: \")\n",
    "string2 = input(\"Please type in string 2: \")\n",
    "print(f\"Please type in string 1: {string1}\")\n",
    "print(f\"Please type in string 2: {string2}\")\n",
    "string1_length = len(string1)\n",
    "string2_length = len(string2)\n",
    "\n",
    "if string1_length > string2_length:\n",
    "    print(f\"{string1} is longer\")\n",
    "elif string2_length > string1_length:\n",
    "    print(f\"{string2} is longer\")\n",
    "else:\n",
    "    print(\"The strings are equally long\")"
   ]
  },
  {
   "cell_type": "markdown",
   "id": "23b827be",
   "metadata": {},
   "source": [
    "### Class Exercise 1 4.17.25"
   ]
  },
  {
   "cell_type": "code",
   "execution_count": null,
   "id": "5c15d0e1",
   "metadata": {},
   "outputs": [
    {
     "name": "stdout",
     "output_type": "stream",
     "text": [
      "Current average: 10.0C\n",
      "Current average: 15.0C\n"
     ]
    }
   ],
   "source": [
    "temps = []\n",
    "while True:\n",
    "    entry = input(\"Enter temperature (C) or 'done': \")\n",
    "    if entry.lower() == 'done':\n",
    "        break\n",
    "    try:\n",
    "        temp = float(entry)\n",
    "        temps.append(temp)\n",
    "    except ValueError:\n",
    "        print(\"Invalid input. Try again.\")\n",
    "        continue\n",
    "\n",
    "    print(f\"Current average: {sum(temps)/len(temps):.1f}C\")"
   ]
  },
  {
   "cell_type": "markdown",
   "id": "50746d5a",
   "metadata": {},
   "source": [
    "### Class Exercise 2 4.17.25"
   ]
  },
  {
   "cell_type": "code",
   "execution_count": null,
   "id": "bd3efd1f",
   "metadata": {},
   "outputs": [
    {
     "name": "stdout",
     "output_type": "stream",
     "text": [
      "*\n",
      "**\n",
      "***\n",
      "****\n",
      "*****\n"
     ]
    }
   ],
   "source": [
    "size = 5  # initial size\n",
    "for i in range(1, size+1):\n",
    "    for j in range(i):\n",
    "        print(\"*\", end=\"\")\n",
    "    print(\"\")"
   ]
  },
  {
   "cell_type": "markdown",
   "id": "33db6f2c",
   "metadata": {},
   "source": [
    "### Class Exercise 3 4.17.25"
   ]
  },
  {
   "cell_type": "code",
   "execution_count": null,
   "id": "2e88a354",
   "metadata": {},
   "outputs": [
    {
     "name": "stdout",
     "output_type": "stream",
     "text": [
      "26\n",
      "my first 5 characters: Hlo ol!isCd:o<--\n"
     ]
    }
   ],
   "source": [
    "my_string = \"Hello, World! its Code:You\"\n",
    "print(len(my_string)) # length of string\n",
    "print(f\"every other character: {my_string[::2]}<--\")  # every other character\n",
    "\n",
    "#START:END:STEP"
   ]
  },
  {
   "cell_type": "markdown",
   "id": "6311b9b6",
   "metadata": {},
   "source": [
    "### Class Exercise 3 4.17.25"
   ]
  },
  {
   "cell_type": "code",
   "execution_count": null,
   "id": "f57358ec",
   "metadata": {},
   "outputs": [
    {
     "name": "stdout",
     "output_type": "stream",
     "text": [
      "Important Notice\n",
      "----------------\n"
     ]
    }
   ],
   "source": [
    "def underline(text, symbol='-'):\n",
    "    \"\"\"Prints the text underlined with the specific symbol.\"\"\"\n",
    "    print(text)\n",
    "    print(symbol * len(text))\n",
    "\n",
    "underline(\"Important Notice\", symbol='-')"
   ]
  },
  {
   "cell_type": "markdown",
   "id": "8c53b607",
   "metadata": {},
   "source": [
    "### Class Exercise 4 4.17.25"
   ]
  },
  {
   "cell_type": "code",
   "execution_count": null,
   "id": "c06bc3a1",
   "metadata": {},
   "outputs": [
    {
     "name": "stdout",
     "output_type": "stream",
     "text": [
      "Area of circle with radius 5: 78.5\n",
      "Area of square with side 4: 16\n"
     ]
    }
   ],
   "source": [
    "# area.py python area.py\n",
    "# area of circle or square shape, dimensions\n",
    "# __name__ is set to the file name (it's a dunder function)\n",
    "\n",
    "def calculate_area(shape, dimension):\n",
    "    if shape == \"circle\":\n",
    "        return 3.14 * (dimension ** 2)\n",
    "    elif shape == \"square\":\n",
    "        return dimension ** 2\n",
    "    else:\n",
    "        return None\n",
    "\n",
    "if __name__ == \"__main__\":\n",
    "    print(\"Area of circle with radius 5:\", calculate_area(\"circle\", 5))\n",
    "    print(\"Area of square with side 4:\", calculate_area(\"square\", 4))"
   ]
  },
  {
   "cell_type": "markdown",
   "id": "4f3a70a2",
   "metadata": {},
   "source": [
    "### Class Exercise 5 4.17.25"
   ]
  },
  {
   "cell_type": "code",
   "execution_count": null,
   "id": "78353e43",
   "metadata": {},
   "outputs": [
    {
     "name": "stdout",
     "output_type": "stream",
     "text": [
      "Item                 Price\n",
      "Book            $  15.99\n",
      "Pen             $   1.49\n",
      "Notebook        $   4.99\n",
      "---------------------------\n",
      "TOTAL:          $  22.47\n"
     ]
    }
   ],
   "source": [
    "# Receipt Generator\n",
    "# -----------------\n",
    "items = [(\"Book\", 15.99), (\"Pen\", 1.49), (\"Notebook\", 4.99)]\n",
    "total = 0.0\n",
    "\n",
    "print(\"{:<15} {:>10}\".format(\"Item\", \"Price\"))\n",
    "for item, price in items:\n",
    "    print(f\"{item:<15} ${price:>7.2f}\")\n",
    "    total += price\n",
    "\n",
    "print(\"-\" * 27)\n",
    "print(f\"{'TOTAL:':<15} ${total:>7.2f}\")"
   ]
  },
  {
   "cell_type": "markdown",
   "id": "40a7b971",
   "metadata": {},
   "source": [
    "### Class Exercise 6 4.17.25"
   ]
  },
  {
   "cell_type": "code",
   "execution_count": null,
   "id": "400e97a5",
   "metadata": {},
   "outputs": [
    {
     "name": "stdout",
     "output_type": "stream",
     "text": [
      "rama: Weak\n",
      "Code2: Weak\n",
      "StrongPass123: Strong\n"
     ]
    }
   ],
   "source": [
    "# Password Strength Checker\n",
    "# -------------------------\n",
    "def is_strong_password(password):\n",
    "    if len(password) < 8:\n",
    "        return False\n",
    "    if not any(c.isupper() for c in password):\n",
    "        return False\n",
    "    if not any(c.isdigit() for c in password):\n",
    "        return False\n",
    "    return True\n",
    "\n",
    "# Test Cases\n",
    "if __name__ == \"__main__\":\n",
    "    test_passwords = [\"rama\", \"Code2\", \"StrongPass123\"]\n",
    "    for pw in test_passwords:\n",
    "        print(f\"{pw}: {'Strong' if is_strong_password(pw) else 'Weak'}\")\n"
   ]
  },
  {
   "cell_type": "markdown",
   "id": "da65e23f",
   "metadata": {},
   "source": [
    "### Working with Strings - End to beginning"
   ]
  },
  {
   "cell_type": "code",
   "execution_count": null,
   "id": "cbf04727",
   "metadata": {},
   "outputs": [
    {
     "name": "stdout",
     "output_type": "stream",
     "text": [
      "Please input a string: hiya\n",
      "a\n",
      "y\n",
      "i\n",
      "h\n"
     ]
    }
   ],
   "source": [
    "string = input(\"Please input a string: \")\n",
    "index = len(string) - 1\n",
    "print(f\"Please input a string: {string}\")\n",
    "while index >= 0:\n",
    "    print(string[index])\n",
    "    index -= 1\n"
   ]
  },
  {
   "cell_type": "markdown",
   "id": "d9fd6156",
   "metadata": {},
   "source": [
    "### Working with Strings - Second and second to last characters"
   ]
  },
  {
   "cell_type": "code",
   "execution_count": null,
   "id": "0083d8b6",
   "metadata": {},
   "outputs": [
    {
     "name": "stdout",
     "output_type": "stream",
     "text": [
      "Please type in a string: pascal\n",
      "The second and the second to last characters are a\n"
     ]
    }
   ],
   "source": [
    "string = input(\"Please type in a string: \")\n",
    "print(f\"Please type in a string: {string}\")\n",
    "second_character = string[1]\n",
    "second_to_last = string[-2]\n",
    "\n",
    "if second_character == second_to_last:\n",
    "    print(f\"The second and the second to last characters are {second_character}\")\n",
    "else:\n",
    "    print(\"The second and the second to last characters are different\")\n"
   ]
  },
  {
   "cell_type": "markdown",
   "id": "d13f3fb9",
   "metadata": {},
   "source": [
    "### Working with Strings - A line of hashes"
   ]
  },
  {
   "cell_type": "code",
   "execution_count": null,
   "id": "921b684c",
   "metadata": {},
   "outputs": [
    {
     "name": "stdout",
     "output_type": "stream",
     "text": [
      "Width: 8\n",
      "########\n"
     ]
    }
   ],
   "source": [
    "width = int(input(\"Please type in the width: \"))\n",
    "print(f\"Width: {width}\")\n",
    "print(\"#\" * width)"
   ]
  },
  {
   "cell_type": "markdown",
   "id": "1862a87c",
   "metadata": {},
   "source": [
    "### Working with Strings - A rectangle of hashes"
   ]
  },
  {
   "cell_type": "code",
   "execution_count": null,
   "id": "32260d99",
   "metadata": {},
   "outputs": [
    {
     "name": "stdout",
     "output_type": "stream",
     "text": [
      "Width: 10\n",
      "Height: 3\n",
      "##########\n",
      "##########\n",
      "##########\n"
     ]
    }
   ],
   "source": [
    "width = int(input(\"Please enter the width: \"))\n",
    "height = int(input(\"Please enter the height: \"))\n",
    "line = height\n",
    "print(f\"Width: {width}\")\n",
    "print(f\"Height: {height}\")\n",
    "\n",
    "while line > 0:\n",
    "    print(\"#\" * width)\n",
    "    line -= 1\n"
   ]
  },
  {
   "cell_type": "markdown",
   "id": "d5b2e161",
   "metadata": {},
   "source": [
    "### Working with Strings - Underlining"
   ]
  },
  {
   "cell_type": "code",
   "execution_count": null,
   "id": "78343776",
   "metadata": {},
   "outputs": [
    {
     "name": "stdout",
     "output_type": "stream",
     "text": [
      "Please type in a string: Hi there!\n",
      "Hi there!\n",
      "---------\n"
     ]
    }
   ],
   "source": [
    "string = input(\"Please type in a string: \")\n",
    "length = len(string)\n",
    "print(f\"Please type in a string: {string}\")\n",
    "print(string)\n",
    "print(\"-\" * length)"
   ]
  },
  {
   "cell_type": "markdown",
   "id": "51fc9172",
   "metadata": {},
   "source": [
    "### Working with Strings - Right-aligned"
   ]
  },
  {
   "cell_type": "code",
   "execution_count": null,
   "id": "4f5b1775",
   "metadata": {},
   "outputs": [
    {
     "name": "stdout",
     "output_type": "stream",
     "text": [
      "Please type in a string: averyverylongstring\n",
      "*averyverylongstring\n"
     ]
    }
   ],
   "source": [
    "string = input(\"Please type in a string: \")\n",
    "length = len(string)\n",
    "print(f\"Please type in a string: {string}\")\n",
    "print(\"*\" * (20-length) + string)"
   ]
  },
  {
   "cell_type": "markdown",
   "id": "4e79ad49",
   "metadata": {},
   "source": [
    "### Working with Strings - A framed word"
   ]
  },
  {
   "cell_type": "code",
   "execution_count": null,
   "id": "cafaeecd",
   "metadata": {},
   "outputs": [
    {
     "name": "stdout",
     "output_type": "stream",
     "text": [
      "Word: python\n",
      "******************************\n",
      "*           python           *\n",
      "******************************\n"
     ]
    }
   ],
   "source": [
    "word = input(\"Please enter a word: \")\n",
    "center = word.center(28)\n",
    "print(f\"Word: {word}\")\n",
    "print(\"*\" * 30)\n",
    "print(\"*\" + center + \"*\")\n",
    "print(\"*\" * 30)\n",
    "\n",
    "\n"
   ]
  },
  {
   "cell_type": "markdown",
   "id": "d39e564c",
   "metadata": {},
   "source": [
    "### Working with Strings - Substrings, part 1"
   ]
  },
  {
   "cell_type": "code",
   "execution_count": null,
   "id": "2c05b5b4",
   "metadata": {},
   "outputs": [
    {
     "name": "stdout",
     "output_type": "stream",
     "text": [
      "Please type in a string: test\n",
      "\n",
      "t\n",
      "te\n",
      "tes\n",
      "test\n"
     ]
    }
   ],
   "source": [
    "user_input = input(\"Please type in a string: \")\n",
    "print(f\"Please type in a string: {user_input}\")\n",
    "index = 0\n",
    "length = len(user_input)\n",
    "\n",
    "while index <= length:\n",
    "    print(user_input[0:index])\n",
    "    index += 1\n"
   ]
  },
  {
   "cell_type": "markdown",
   "id": "20bbc215",
   "metadata": {},
   "source": [
    "### Working with Strings - Substrings, part 2"
   ]
  },
  {
   "cell_type": "code",
   "execution_count": null,
   "id": "5f475424",
   "metadata": {},
   "outputs": [
    {
     "name": "stdout",
     "output_type": "stream",
     "text": [
      "Please type in a string: test\n",
      "t\n",
      "st\n",
      "est\n",
      "test\n"
     ]
    }
   ],
   "source": [
    "user_input = input(\"Please type in a string: \")\n",
    "print(f\"Please type in a string: {user_input}\")\n",
    "length = len(user_input)\n",
    "\n",
    "while length > 0:\n",
    "    print(user_input[(length-1):])\n",
    "    length -= 1"
   ]
  },
  {
   "cell_type": "markdown",
   "id": "fd037815",
   "metadata": {},
   "source": [
    "### Working with Strings - Does it contain vowels"
   ]
  },
  {
   "cell_type": "code",
   "execution_count": null,
   "id": "1a991f23",
   "metadata": {},
   "outputs": [
    {
     "name": "stdout",
     "output_type": "stream",
     "text": [
      "Please type in a string: hiya\n",
      "a found\n",
      "e not found\n",
      "o not found\n"
     ]
    }
   ],
   "source": [
    "def check_vowels(input_string):\n",
    "    vowels = ['a', 'e', 'o']\n",
    "    for vowel in vowels:\n",
    "        if vowel in input_string.lower():\n",
    "            print(f\"{vowel} found\")\n",
    "        else:\n",
    "            print(f\"{vowel} not found\")\n",
    "\n",
    "user_input = input(\"Please type in a string: \")\n",
    "print(f\"Please type in a string: {user_input}\")\n",
    "\n",
    "check_vowels(user_input)\n"
   ]
  },
  {
   "cell_type": "markdown",
   "id": "e631eb3e",
   "metadata": {},
   "source": [
    "### Working with Strings - Find the first substring"
   ]
  },
  {
   "cell_type": "markdown",
   "id": "33d9a4c5",
   "metadata": {},
   "source": [
    "### Working with Strings - Find the first substring"
   ]
  },
  {
   "cell_type": "code",
   "execution_count": 8,
   "id": "a944528f",
   "metadata": {},
   "outputs": [
    {
     "name": "stdout",
     "output_type": "stream",
     "text": [
      "Please type in a word: python\n",
      "Please type in a character: n\n",
      "\n"
     ]
    }
   ],
   "source": [
    "word = input(\"Please type in a word: \")\n",
    "print(f\"Please type in a word: {word}\")\n",
    "character = input(\"Please type in a character: \")\n",
    "print(f\"Please type in a character: {character}\")\n",
    "length = len(word)\n",
    "start_index = word.find(character)\n",
    "end_index = start_index + 3\n",
    "\n",
    "if character in word and start_index <= (length-3):\n",
    "    print(word[start_index:end_index])\n",
    "else:\n",
    "    print(\"\")"
   ]
  },
  {
   "cell_type": "markdown",
   "id": "89ba1972",
   "metadata": {},
   "source": [
    "### More Loops - Multiplication"
   ]
  },
  {
   "cell_type": "code",
   "execution_count": 5,
   "id": "e1b72b77",
   "metadata": {},
   "outputs": [
    {
     "name": "stdout",
     "output_type": "stream",
     "text": [
      "1 x 1 = 1\n",
      "1 x 2 = 2\n",
      "1 x 3 = 3\n",
      "2 x 1 = 2\n",
      "2 x 2 = 4\n",
      "2 x 3 = 6\n",
      "3 x 1 = 3\n",
      "3 x 2 = 6\n",
      "3 x 3 = 9\n"
     ]
    }
   ],
   "source": [
    "number = int(input(\"Please type in a number: \"))\n",
    "\n",
    "for i in range(1, number + 1):\n",
    "    for j in range(1, number + 1):\n",
    "        print(f\"{i} x {j} = {i * j}\")"
   ]
  },
  {
   "cell_type": "markdown",
   "id": "8c4a5ccc",
   "metadata": {},
   "source": [
    "### More Loops - First letters of words"
   ]
  },
  {
   "cell_type": "code",
   "execution_count": 6,
   "id": "6ada3c2a",
   "metadata": {},
   "outputs": [
    {
     "name": "stdout",
     "output_type": "stream",
     "text": [
      "Please type in a sentence: Humpty Dumpty sat on a wall\n",
      "H\n",
      "D\n",
      "s\n",
      "o\n",
      "a\n",
      "w\n"
     ]
    }
   ],
   "source": [
    "sentence = input(\"Please type in a sentence: \")\n",
    "print(f\"Please type in a sentence: {sentence}\")\n",
    "\n",
    "words = sentence.split()\n",
    "\n",
    "for word in words:\n",
    "    if words:\n",
    "        print(word[0])"
   ]
  },
  {
   "cell_type": "markdown",
   "id": "f961aca4",
   "metadata": {},
   "source": [
    "### More Loops - Factorial"
   ]
  },
  {
   "cell_type": "code",
   "execution_count": 8,
   "id": "daaf68fd",
   "metadata": {},
   "outputs": [
    {
     "name": "stdout",
     "output_type": "stream",
     "text": [
      "Please type in a number: 3\n",
      "The factorial of the number 3 is 6\n",
      "Please type in a number: 4\n",
      "The factorial of the number 4 is 24\n",
      "Please type in a number: -1\n",
      "Thanks and bye!\n"
     ]
    }
   ],
   "source": [
    "while True:\n",
    "    number = int(input(\"Please type in a number: \"))\n",
    "    if number <= 0:\n",
    "        print(f\"Please type in a number: {number}\")\n",
    "        break\n",
    "    factorial = 1\n",
    "\n",
    "    for i in range(1, number + 1):\n",
    "        factorial *= i\n",
    "    print(f\"Please type in a number: {number}\")\n",
    "    print(f\"The factorial of the number {number} is {factorial}\")\n",
    "\n",
    "print(\"Thanks and bye!\")"
   ]
  },
  {
   "cell_type": "markdown",
   "id": "dc45e796",
   "metadata": {},
   "source": [
    "### More Loops - Flip the pairs"
   ]
  },
  {
   "cell_type": "code",
   "execution_count": 9,
   "id": "e52ff91e",
   "metadata": {},
   "outputs": [
    {
     "name": "stdout",
     "output_type": "stream",
     "text": [
      "2\n",
      "1\n",
      "4\n",
      "3\n",
      "5\n"
     ]
    }
   ],
   "source": [
    "number = int(input(\"Please type in a number: \"))\n",
    "\n",
    "for i in range(1, number + 1, 2):\n",
    "    if i < number:\n",
    "        print(i + 1)\n",
    "    print(i)"
   ]
  },
  {
   "cell_type": "code",
   "execution_count": null,
   "id": "0372d959",
   "metadata": {},
   "outputs": [
    {
     "name": "stdout",
     "output_type": "stream",
     "text": [
      "i: 0, j: 0\n",
      "i: 0, j: 2\n",
      "i: 1, j: 0\n",
      "i: 1, j: 2\n",
      "i: 2, j: 0\n",
      "i: 2, j: 2\n"
     ]
    }
   ],
   "source": [
    "for i in range(3):\n",
    "    for j in range(3):\n",
    "        if j == 1:\n",
    "            continue\n",
    "        print(f\"i: {i}, j: {j}\")\n",
    "\n",
    "# The continue command skips the current iteration when j equals 1, so the pairs where j is 1 are not printed."
   ]
  },
  {
   "cell_type": "code",
   "execution_count": null,
   "id": "94c60702",
   "metadata": {},
   "outputs": [
    {
     "name": "stdout",
     "output_type": "stream",
     "text": [
      "i: 1, j: 0\n"
     ]
    }
   ],
   "source": [
    "for i in range(2):\n",
    "    for j in range(3):\n",
    "        if i == j:\n",
    "            break\n",
    "        print(f\"i: {i}, j: {j}\")\n",
    "\n",
    "# for i = 0, the loop breaks at j = 0 and prints nothing, and for i = 1, it prints only \"i: 1, j: 0\" before breaking at j = 1."
   ]
  },
  {
   "cell_type": "code",
   "execution_count": null,
   "id": "dc84ace1",
   "metadata": {},
   "outputs": [
    {
     "name": "stdout",
     "output_type": "stream",
     "text": [
      "0\n",
      "1\n",
      "2\n"
     ]
    }
   ],
   "source": [
    "for i in range(5):\n",
    "    if i == 3:\n",
    "        break\n",
    "    print(i)\n",
    "\n",
    "# The for loop iterates over the range from 0 to 4. When i equals 3, the break command is executed, which exits the loop. Therefore, the numbers 0, 1, and 2 are printed before the loop is terminated."
   ]
  },
  {
   "cell_type": "markdown",
   "id": "33d63f5a",
   "metadata": {},
   "source": [
    "### Defining Functions - Seven Brothers"
   ]
  },
  {
   "cell_type": "code",
   "execution_count": 15,
   "id": "81aab882",
   "metadata": {},
   "outputs": [
    {
     "name": "stdout",
     "output_type": "stream",
     "text": [
      "Aapo\n",
      "Eero\n",
      "Juhani\n",
      "Lauri\n",
      "Simeoni\n",
      "Timo\n",
      "Tuomas\n"
     ]
    }
   ],
   "source": [
    "def seven_brothers():\n",
    "    brothers = [\"Aapo\", \"Eero\", \"Juhani\", \"Lauri\", \"Simeoni\", \"Timo\", \"Tuomas\"]\n",
    "    brothers.sort()\n",
    "    for brother in brothers:\n",
    "        print(brother)\n",
    "\n",
    "if __name__ == \"__main__\":\n",
    "    seven_brothers()"
   ]
  },
  {
   "cell_type": "markdown",
   "id": "ff3c3a75",
   "metadata": {},
   "source": [
    "### Defining Functions - The first character"
   ]
  },
  {
   "cell_type": "code",
   "execution_count": 16,
   "id": "fa43a4d6",
   "metadata": {},
   "outputs": [
    {
     "name": "stdout",
     "output_type": "stream",
     "text": [
      "p\n",
      "y\n",
      "t\n",
      "h\n",
      "o\n",
      "n\n"
     ]
    }
   ],
   "source": [
    "def first_character(text):\n",
    "    print(text[0])\n",
    "\n",
    "if __name__ == \"__main__\":\n",
    "    first_character('python')\n",
    "    first_character('yellow')\n",
    "    first_character('tomorrow')\n",
    "    first_character('heliotrope')\n",
    "    first_character('open')\n",
    "    first_character('night')"
   ]
  },
  {
   "cell_type": "markdown",
   "id": "69f33fc8",
   "metadata": {},
   "source": [
    "### Defining Functions - Mean"
   ]
  },
  {
   "cell_type": "code",
   "execution_count": 23,
   "id": "3dc2b735",
   "metadata": {},
   "outputs": [
    {
     "name": "stdout",
     "output_type": "stream",
     "text": [
      "4.0\n"
     ]
    }
   ],
   "source": [
    "def mean():\n",
    "    sum = num1 + num2 + num3\n",
    "    avg = sum/3\n",
    "    print(avg)\n",
    "\n",
    "num1 = int(input(\"Enter a number: \"))\n",
    "num2 = int(input(\"Enter a number: \"))\n",
    "num3 = int(input(\"Enter a number: \"))\n",
    "\n",
    "if __name__ == \"__main__\":\n",
    "    mean()\n",
    "    "
   ]
  },
  {
   "cell_type": "markdown",
   "id": "794abd24",
   "metadata": {},
   "source": [
    "### Defining Functions - Print many times"
   ]
  },
  {
   "cell_type": "code",
   "execution_count": 28,
   "id": "40ef8549",
   "metadata": {},
   "outputs": [
    {
     "name": "stdout",
     "output_type": "stream",
     "text": [
      "All Pythons, except one, grow up\n",
      "All Pythons, except one, grow up\n",
      "All Pythons, except one, grow up\n"
     ]
    }
   ],
   "source": [
    "def print_many_times(text, times):\n",
    "    i = 1\n",
    "    while i <= times:\n",
    "        print(text)\n",
    "        i += 1\n",
    "\n",
    "text = input(\"Please enter a string: \")\n",
    "times = int(input(\"Enter a number: \"))\n",
    "\n",
    "if __name__ == \"__main__\":\n",
    "    print_many_times(text, times)"
   ]
  },
  {
   "cell_type": "markdown",
   "id": "6ef91b5d",
   "metadata": {},
   "source": [
    "### Defining Functions - A square of hashes"
   ]
  },
  {
   "cell_type": "code",
   "execution_count": 32,
   "id": "e6aeac13",
   "metadata": {},
   "outputs": [
    {
     "name": "stdout",
     "output_type": "stream",
     "text": [
      "#####\n",
      "#####\n",
      "#####\n",
      "#####\n",
      "#####\n"
     ]
    }
   ],
   "source": [
    "def hash_square(length):\n",
    "    i = 1\n",
    "    while i <= length:\n",
    "        print(\"#\" * length)\n",
    "        i += 1\n",
    "\n",
    "length = int(input(\"Please enter a number: \"))\n",
    "\n",
    "if __name__ == \"__main__\":\n",
    "    hash_square(length)"
   ]
  },
  {
   "cell_type": "markdown",
   "id": "436105e6",
   "metadata": {},
   "source": [
    "### Defining Functions - Chessboard"
   ]
  },
  {
   "cell_type": "code",
   "execution_count": 34,
   "id": "45199437",
   "metadata": {},
   "outputs": [
    {
     "name": "stdout",
     "output_type": "stream",
     "text": [
      "101010\n",
      "010101\n",
      "101010\n",
      "010101\n",
      "101010\n",
      "010101\n"
     ]
    }
   ],
   "source": [
    "def chessboard(size):\n",
    "    for row in range(size):\n",
    "        for col in range(size):\n",
    "            if (row + col) % 2 == 0:\n",
    "                print(\"1\", end=\"\")\n",
    "            else:\n",
    "                print(\"0\", end=\"\")\n",
    "        print()\n",
    "\n",
    "size = int(input(\"Please enter a number: \"))\n",
    "\n",
    "if __name__ == \"__main__\":\n",
    "    chessboard(size)"
   ]
  }
 ],
 "metadata": {
  "kernelspec": {
   "display_name": "Python 3",
   "language": "python",
   "name": "python3"
  },
  "language_info": {
   "codemirror_mode": {
    "name": "ipython",
    "version": 3
   },
   "file_extension": ".py",
   "mimetype": "text/x-python",
   "name": "python",
   "nbconvert_exporter": "python",
   "pygments_lexer": "ipython3",
   "version": "3.12.9"
  }
 },
 "nbformat": 4,
 "nbformat_minor": 5
}
