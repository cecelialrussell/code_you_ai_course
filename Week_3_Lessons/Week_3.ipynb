{
 "cells": [
  {
   "cell_type": "markdown",
   "id": "9a197237",
   "metadata": {},
   "source": [
    "### Loops with Conditions - Print Numbers"
   ]
  },
  {
   "cell_type": "code",
   "execution_count": 1,
   "id": "38bcfa51",
   "metadata": {},
   "outputs": [
    {
     "name": "stdout",
     "output_type": "stream",
     "text": [
      "2\n",
      "4\n",
      "6\n",
      "8\n",
      "10\n",
      "12\n",
      "14\n",
      "16\n",
      "18\n",
      "20\n",
      "22\n",
      "24\n",
      "26\n",
      "28\n",
      "30\n"
     ]
    }
   ],
   "source": [
    "for number in range (2, 31):\n",
    "    if number % 2 == 0:\n",
    "        print(number)"
   ]
  },
  {
   "cell_type": "markdown",
   "id": "cafab1e3",
   "metadata": {},
   "source": [
    "### Loops with Conditions - Fix the code: Countdown"
   ]
  },
  {
   "cell_type": "code",
   "execution_count": 2,
   "id": "86d71cae",
   "metadata": {},
   "outputs": [
    {
     "name": "stdout",
     "output_type": "stream",
     "text": [
      "Are you ready?\n",
      "Please type in a number: 5\n",
      "5\n",
      "4\n",
      "3\n",
      "2\n",
      "1\n",
      "Now!\n"
     ]
    }
   ],
   "source": [
    "print(\"Are you ready?\")\n",
    "number = int(input(\"Please type in a number: \"))\n",
    "print(f\"Please type in a number: {number}\")\n",
    "while number > 0:\n",
    "    print(number)\n",
    "    number = number - 1\n",
    "\n",
    "print(\"Now!\")"
   ]
  },
  {
   "cell_type": "markdown",
   "id": "3779bb81",
   "metadata": {},
   "source": [
    "### Loops with Conditions - Numbers"
   ]
  },
  {
   "cell_type": "code",
   "execution_count": 5,
   "id": "88280f79",
   "metadata": {},
   "outputs": [
    {
     "name": "stdout",
     "output_type": "stream",
     "text": [
      "Upper limit: 5\n",
      "1\n",
      "2\n",
      "3\n",
      "4\n"
     ]
    }
   ],
   "source": [
    "limit = int(input(\"Please enter a number: \"))\n",
    "start = 1\n",
    "print(f\"Upper limit: {limit}\")\n",
    "\n",
    "while start < limit:\n",
    "    print(start)\n",
    "    start = start + 1\n",
    "\n"
   ]
  },
  {
   "cell_type": "markdown",
   "id": "030c9cca",
   "metadata": {},
   "source": [
    "### Loops with Conditions - Power of two"
   ]
  },
  {
   "cell_type": "code",
   "execution_count": 11,
   "id": "58dadc75",
   "metadata": {},
   "outputs": [
    {
     "name": "stdout",
     "output_type": "stream",
     "text": [
      "Upper limit: 100\n",
      "1\n",
      "2\n",
      "4\n",
      "8\n",
      "16\n",
      "32\n",
      "64\n"
     ]
    }
   ],
   "source": [
    "limit = int(input(\"Please enter a number: \"))\n",
    "start = 1\n",
    "print(f\"Upper limit: {limit}\")\n",
    "\n",
    "while start <= limit:\n",
    "    print(start)\n",
    "    start = start * 2"
   ]
  },
  {
   "cell_type": "markdown",
   "id": "5095ecbd",
   "metadata": {},
   "source": [
    "### Loops with Conditions - Power of base n"
   ]
  },
  {
   "cell_type": "code",
   "execution_count": 14,
   "id": "cea863be",
   "metadata": {},
   "outputs": [
    {
     "name": "stdout",
     "output_type": "stream",
     "text": [
      "Upper limit: 1234567\n",
      "Base: 10\n",
      "1\n",
      "10\n",
      "100\n",
      "1000\n",
      "10000\n",
      "100000\n",
      "1000000\n"
     ]
    }
   ],
   "source": [
    "limit = int(input(\"Please enter a number: \"))\n",
    "base = int(input(\"Please enter a base number: \"))\n",
    "start = 1\n",
    "print(f\"Upper limit: {limit}\")\n",
    "print(f\"Base: {base}\")\n",
    "\n",
    "while start <= limit:\n",
    "    print(start)\n",
    "    start = start * base"
   ]
  },
  {
   "cell_type": "markdown",
   "id": "4e728754",
   "metadata": {},
   "source": [
    "### Loops with Conditions - The sum of consecutive numbers, version 1"
   ]
  },
  {
   "cell_type": "code",
   "execution_count": 20,
   "id": "f66aab57",
   "metadata": {},
   "outputs": [
    {
     "name": "stdout",
     "output_type": "stream",
     "text": [
      "Limit: 18\n",
      "21\n"
     ]
    }
   ],
   "source": [
    "limit = int(input(\"Please type in a number: \"))\n",
    "sum = 0\n",
    "number = 1\n",
    "print(f\"Limit: {limit}\")\n",
    "while sum < limit:\n",
    "    sum += number\n",
    "    number += 1\n",
    "\n",
    "print(sum)"
   ]
  },
  {
   "cell_type": "markdown",
   "id": "dab14cdd",
   "metadata": {},
   "source": [
    "### Loops with Conditions - The sum of consecutive numbers, version 2"
   ]
  },
  {
   "cell_type": "code",
   "execution_count": 40,
   "id": "c59444d3",
   "metadata": {},
   "outputs": [
    {
     "name": "stdout",
     "output_type": "stream",
     "text": [
      "Limit: 2\n",
      "The consecutive sum: 1 + 2 +  = 3\n"
     ]
    }
   ],
   "source": [
    "limit = int(input(\"Please type in a number: \"))\n",
    "sum = 0\n",
    "number = 1\n",
    "sentence = \"\"\n",
    "print(f\"Limit: {limit}\")\n",
    "while number <= limit:\n",
    "    sentence += f\"{number} + \"\n",
    "    sum += number\n",
    "    number += 1\n",
    "    \n",
    "\n",
    "print(f\"The consecutive sum: {sentence} = {sum}\")"
   ]
  },
  {
   "cell_type": "markdown",
   "id": "9ed3a2b5",
   "metadata": {},
   "source": [
    "### Working with Strings - String multiplied"
   ]
  },
  {
   "cell_type": "code",
   "execution_count": 41,
   "id": "6cd46241",
   "metadata": {},
   "outputs": [
    {
     "name": "stdout",
     "output_type": "stream",
     "text": [
      "Please type in a string: hiya\n",
      "Please type in an amount: 4\n",
      "hiyahiyahiyahiya\n"
     ]
    }
   ],
   "source": [
    "string = input(\"Please type in a string: \")\n",
    "amount = int(input(\"Please type in an amount: \"))\n",
    "print(f\"Please type in a string: {string}\")\n",
    "print(f\"Please type in an amount: {amount}\")\n",
    "print(string * amount)"
   ]
  },
  {
   "cell_type": "markdown",
   "id": "df5f1a1b",
   "metadata": {},
   "source": [
    "### Working with Strings - The longer string"
   ]
  },
  {
   "cell_type": "code",
   "execution_count": 47,
   "id": "60b000fe",
   "metadata": {},
   "outputs": [
    {
     "name": "stdout",
     "output_type": "stream",
     "text": [
      "Please type in string 1: hey\n",
      "Please type in string 2: bye\n",
      "The strings are equally long\n"
     ]
    }
   ],
   "source": [
    "string1 = input(\"Please type in string 1: \")\n",
    "string2 = input(\"Please type in string 2: \")\n",
    "print(f\"Please type in string 1: {string1}\")\n",
    "print(f\"Please type in string 2: {string2}\")\n",
    "string1_length = len(string1)\n",
    "string2_length = len(string2)\n",
    "\n",
    "if string1_length > string2_length:\n",
    "    print(f\"{string1} is longer\")\n",
    "elif string2_length > string1_length:\n",
    "    print(f\"{string2} is longer\")\n",
    "else:\n",
    "    print(\"The strings are equally long\")"
   ]
  },
  {
   "cell_type": "markdown",
   "id": "23b827be",
   "metadata": {},
   "source": [
    "### Class Exercise 1 4.17.25"
   ]
  },
  {
   "cell_type": "code",
   "execution_count": 3,
   "id": "5c15d0e1",
   "metadata": {},
   "outputs": [
    {
     "name": "stdout",
     "output_type": "stream",
     "text": [
      "Current average: 10.0C\n",
      "Current average: 15.0C\n"
     ]
    }
   ],
   "source": [
    "temps = []\n",
    "while True:\n",
    "    entry = input(\"Enter temperature (C) or 'done': \")\n",
    "    if entry.lower() == 'done':\n",
    "        break\n",
    "    try:\n",
    "        temp = float(entry)\n",
    "        temps.append(temp)\n",
    "    except ValueError:\n",
    "        print(\"Invalid input. Try again.\")\n",
    "        continue\n",
    "\n",
    "    print(f\"Current average: {sum(temps)/len(temps):.1f}C\")"
   ]
  },
  {
   "cell_type": "markdown",
   "id": "50746d5a",
   "metadata": {},
   "source": [
    "### Class Exercise 2 4.17.25"
   ]
  },
  {
   "cell_type": "code",
   "execution_count": 7,
   "id": "bd3efd1f",
   "metadata": {},
   "outputs": [
    {
     "name": "stdout",
     "output_type": "stream",
     "text": [
      "*\n",
      "**\n",
      "***\n",
      "****\n",
      "*****\n"
     ]
    }
   ],
   "source": [
    "size = 5  # initial size\n",
    "for i in range(1, size+1):\n",
    "    for j in range(i):\n",
    "        print(\"*\", end=\"\")\n",
    "    print(\"\")"
   ]
  },
  {
   "cell_type": "markdown",
   "id": "33db6f2c",
   "metadata": {},
   "source": [
    "### Class Exercise 3 4.17.25"
   ]
  },
  {
   "cell_type": "code",
   "execution_count": null,
   "id": "2e88a354",
   "metadata": {},
   "outputs": [
    {
     "name": "stdout",
     "output_type": "stream",
     "text": [
      "26\n",
      "my first 5 characters: Hlo ol!isCd:o<--\n"
     ]
    }
   ],
   "source": [
    "my_string = \"Hello, World! its Code:You\"\n",
    "print(len(my_string)) # length of string\n",
    "print(f\"every other character: {my_string[::2]}<--\")  # every other character\n",
    "\n",
    "#START:END:STEP"
   ]
  },
  {
   "cell_type": "markdown",
   "id": "6311b9b6",
   "metadata": {},
   "source": [
    "### Class Exercise 3 4.17.25"
   ]
  },
  {
   "cell_type": "code",
   "execution_count": 20,
   "id": "f57358ec",
   "metadata": {},
   "outputs": [
    {
     "name": "stdout",
     "output_type": "stream",
     "text": [
      "Important Notice\n",
      "----------------\n"
     ]
    }
   ],
   "source": [
    "def underline(text, symbol='-'):\n",
    "    \"\"\"Prints the text underlined with the specific symbol.\"\"\"\n",
    "    print(text)\n",
    "    print(symbol * len(text))\n",
    "\n",
    "underline(\"Important Notice\", symbol='-')"
   ]
  },
  {
   "cell_type": "markdown",
   "id": "8c53b607",
   "metadata": {},
   "source": [
    "### Class Exercise 4 4.17.25"
   ]
  },
  {
   "cell_type": "code",
   "execution_count": 21,
   "id": "c06bc3a1",
   "metadata": {},
   "outputs": [
    {
     "name": "stdout",
     "output_type": "stream",
     "text": [
      "Area of circle with radius 5: 78.5\n",
      "Area of square with side 4: 16\n"
     ]
    }
   ],
   "source": [
    "# area.py python area.py\n",
    "# area of circle or square shape, dimensions\n",
    "# __name__ is set to the file name (it's a dunder function)\n",
    "\n",
    "def calculate_area(shape, dimension):\n",
    "    if shape == \"circle\":\n",
    "        return 3.14 * (dimension ** 2)\n",
    "    elif shape == \"square\":\n",
    "        return dimension ** 2\n",
    "    else:\n",
    "        return None\n",
    "\n",
    "if __name__ == \"__main__\":\n",
    "    print(\"Area of circle with radius 5:\", calculate_area(\"circle\", 5))\n",
    "    print(\"Area of square with side 4:\", calculate_area(\"square\", 4))"
   ]
  },
  {
   "cell_type": "markdown",
   "id": "4f3a70a2",
   "metadata": {},
   "source": [
    "### Class Exercise 5 4.17.25"
   ]
  },
  {
   "cell_type": "code",
   "execution_count": 22,
   "id": "78353e43",
   "metadata": {},
   "outputs": [
    {
     "name": "stdout",
     "output_type": "stream",
     "text": [
      "Item                 Price\n",
      "Book            $  15.99\n",
      "Pen             $   1.49\n",
      "Notebook        $   4.99\n",
      "---------------------------\n",
      "TOTAL:          $  22.47\n"
     ]
    }
   ],
   "source": [
    "# Receipt Generator\n",
    "# -----------------\n",
    "items = [(\"Book\", 15.99), (\"Pen\", 1.49), (\"Notebook\", 4.99)]\n",
    "total = 0.0\n",
    "\n",
    "print(\"{:<15} {:>10}\".format(\"Item\", \"Price\"))\n",
    "for item, price in items:\n",
    "    print(f\"{item:<15} ${price:>7.2f}\")\n",
    "    total += price\n",
    "\n",
    "print(\"-\" * 27)\n",
    "print(f\"{'TOTAL:':<15} ${total:>7.2f}\")"
   ]
  },
  {
   "cell_type": "markdown",
   "id": "40a7b971",
   "metadata": {},
   "source": [
    "### Class Exercise 6 4.17.25"
   ]
  },
  {
   "cell_type": "code",
   "execution_count": 28,
   "id": "400e97a5",
   "metadata": {},
   "outputs": [
    {
     "name": "stdout",
     "output_type": "stream",
     "text": [
      "rama: Weak\n",
      "Code2: Weak\n",
      "StrongPass123: Strong\n"
     ]
    }
   ],
   "source": [
    "# Password Strength Checker\n",
    "# -------------------------\n",
    "def is_strong_password(password):\n",
    "    if len(password) < 8:\n",
    "        return False\n",
    "    if not any(c.isupper() for c in password):\n",
    "        return False\n",
    "    if not any(c.isdigit() for c in password):\n",
    "        return False\n",
    "    return True\n",
    "\n",
    "# Test Cases\n",
    "if __name__ == \"__main__\":\n",
    "    test_passwords = [\"rama\", \"Code2\", \"StrongPass123\"]\n",
    "    for pw in test_passwords:\n",
    "        print(f\"{pw}: {'Strong' if is_strong_password(pw) else 'Weak'}\")\n"
   ]
  },
  {
   "cell_type": "markdown",
   "id": "da65e23f",
   "metadata": {},
   "source": [
    "### Working with Strings - End to beginning"
   ]
  },
  {
   "cell_type": "code",
   "execution_count": 3,
   "id": "cbf04727",
   "metadata": {},
   "outputs": [
    {
     "name": "stdout",
     "output_type": "stream",
     "text": [
      "Please input a string: hiya\n",
      "a\n",
      "y\n",
      "i\n",
      "h\n"
     ]
    }
   ],
   "source": [
    "string = input(\"Please input a string: \")\n",
    "index = len(string) - 1\n",
    "print(f\"Please input a string: {string}\")\n",
    "while index >= 0:\n",
    "    print(string[index])\n",
    "    index -= 1\n"
   ]
  },
  {
   "cell_type": "markdown",
   "id": "d9fd6156",
   "metadata": {},
   "source": [
    "### Working with Strings - Second and second to last characters"
   ]
  },
  {
   "cell_type": "code",
   "execution_count": 5,
   "id": "0083d8b6",
   "metadata": {},
   "outputs": [
    {
     "name": "stdout",
     "output_type": "stream",
     "text": [
      "Please type in a string: pascal\n",
      "The second and the second to last characters are a\n"
     ]
    }
   ],
   "source": [
    "string = input(\"Please type in a string: \")\n",
    "print(f\"Please type in a string: {string}\")\n",
    "second_character = string[1]\n",
    "second_to_last = string[-2]\n",
    "\n",
    "if second_character == second_to_last:\n",
    "    print(f\"The second and the second to last characters are {second_character}\")\n",
    "else:\n",
    "    print(\"The second and the second to last characters are different\")\n"
   ]
  },
  {
   "cell_type": "markdown",
   "id": "d13f3fb9",
   "metadata": {},
   "source": [
    "### Working with Strings - A line of hashes"
   ]
  },
  {
   "cell_type": "code",
   "execution_count": 8,
   "id": "921b684c",
   "metadata": {},
   "outputs": [
    {
     "name": "stdout",
     "output_type": "stream",
     "text": [
      "Width: 8\n",
      "########\n"
     ]
    }
   ],
   "source": [
    "width = int(input(\"Please type in the width: \"))\n",
    "print(f\"Width: {width}\")\n",
    "print(\"#\" * width)"
   ]
  },
  {
   "cell_type": "markdown",
   "id": "1862a87c",
   "metadata": {},
   "source": [
    "### Working with Strings - A rectangle of hashes"
   ]
  },
  {
   "cell_type": "code",
   "execution_count": 11,
   "id": "32260d99",
   "metadata": {},
   "outputs": [
    {
     "name": "stdout",
     "output_type": "stream",
     "text": [
      "Width: 10\n",
      "Height: 3\n",
      "##########\n",
      "##########\n",
      "##########\n"
     ]
    }
   ],
   "source": [
    "width = int(input(\"Please enter the width: \"))\n",
    "height = int(input(\"Please enter the height: \"))\n",
    "line = height\n",
    "print(f\"Width: {width}\")\n",
    "print(f\"Height: {height}\")\n",
    "\n",
    "while line > 0:\n",
    "    print(\"#\" * width)\n",
    "    line -= 1\n"
   ]
  },
  {
   "cell_type": "markdown",
   "id": "d5b2e161",
   "metadata": {},
   "source": [
    "### Working with Strings - Underlining"
   ]
  },
  {
   "cell_type": "code",
   "execution_count": 17,
   "id": "78343776",
   "metadata": {},
   "outputs": [
    {
     "name": "stdout",
     "output_type": "stream",
     "text": [
      "Please type in a string: Hi there!\n",
      "Hi there!\n",
      "---------\n"
     ]
    }
   ],
   "source": [
    "string = input(\"Please type in a string: \")\n",
    "length = len(string)\n",
    "print(f\"Please type in a string: {string}\")\n",
    "print(string)\n",
    "print(\"-\" * length)"
   ]
  },
  {
   "cell_type": "markdown",
   "id": "51fc9172",
   "metadata": {},
   "source": [
    "### Working with Strings - Right-aligned"
   ]
  },
  {
   "cell_type": "code",
   "execution_count": 21,
   "id": "4f5b1775",
   "metadata": {},
   "outputs": [
    {
     "name": "stdout",
     "output_type": "stream",
     "text": [
      "Please type in a string: averyverylongstring\n",
      "*averyverylongstring\n"
     ]
    }
   ],
   "source": [
    "string = input(\"Please type in a string: \")\n",
    "length = len(string)\n",
    "print(f\"Please type in a string: {string}\")\n",
    "print(\"*\" * (20-length) + string)"
   ]
  },
  {
   "cell_type": "markdown",
   "id": "4e79ad49",
   "metadata": {},
   "source": [
    "### Working with Strings - A framed word"
   ]
  }
 ],
 "metadata": {
  "kernelspec": {
   "display_name": "Python 3",
   "language": "python",
   "name": "python3"
  },
  "language_info": {
   "codemirror_mode": {
    "name": "ipython",
    "version": 3
   },
   "file_extension": ".py",
   "mimetype": "text/x-python",
   "name": "python",
   "nbconvert_exporter": "python",
   "pygments_lexer": "ipython3",
   "version": "3.12.9"
  }
 },
 "nbformat": 4,
 "nbformat_minor": 5
}
