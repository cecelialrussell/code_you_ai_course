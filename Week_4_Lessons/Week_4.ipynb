{
 "cells": [
  {
   "cell_type": "markdown",
   "id": "9d530c47",
   "metadata": {},
   "source": [
    "### More Functions - Line"
   ]
  },
  {
   "cell_type": "code",
   "execution_count": 8,
   "id": "57bb8ba6",
   "metadata": {},
   "outputs": [
    {
     "name": "stdout",
     "output_type": "stream",
     "text": [
      "***\n"
     ]
    }
   ],
   "source": [
    "def line(times, text):\n",
    "    if text != \"\":\n",
    "        print(f\"{text[0] * times}\")\n",
    "    else:\n",
    "        print(\"*\" * times)\n",
    "\n",
    "text = input(\"Please enter a string: \")\n",
    "times = int(input(\"Please enter a number: \"))\n",
    "\n",
    "line(times, text)"
   ]
  },
  {
   "cell_type": "code",
   "execution_count": 10,
   "id": "4ec7483f",
   "metadata": {},
   "outputs": [
    {
     "name": "stdout",
     "output_type": "stream",
     "text": [
      "##########\n",
      "##########\n"
     ]
    }
   ],
   "source": [
    "def line(times, text):\n",
    "    if text != \"\":\n",
    "        print(f\"{text[0] * times}\")\n",
    "    else: \n",
    "        print(\"*\" * times)\n",
    "\n",
    "def box_of_hashes(height):\n",
    "    while height > 0:\n",
    "        line(times, text)\n",
    "        height -= 1\n",
    "\n",
    "times = 10\n",
    "text = input(\"Please enter a string: \")\n",
    "height = int(input(\"Please enter a number: \"))\n",
    "\n",
    "box_of_hashes(height)\n",
    "\n"
   ]
  },
  {
   "cell_type": "markdown",
   "id": "4cef8726",
   "metadata": {},
   "source": [
    "### More Functions - A square of hashes"
   ]
  },
  {
   "cell_type": "code",
   "execution_count": 13,
   "id": "c350bf7c",
   "metadata": {},
   "outputs": [
    {
     "name": "stdout",
     "output_type": "stream",
     "text": [
      "###\n",
      "###\n",
      "###\n"
     ]
    }
   ],
   "source": [
    "def line(times, text):\n",
    "    if text != \"\":\n",
    "        print(f\"{(text[0] * times)}\")\n",
    "    else:\n",
    "        print(\"*\" * times)\n",
    "\n",
    "def square_of_hashes(length):\n",
    "    times = length\n",
    "    while length > 0:\n",
    "        line(times, text)\n",
    "        length -= 1\n",
    "        \n",
    "\n",
    "text = \"#\"\n",
    "length = int(input(\"Please enter a number: \"))\n",
    "\n",
    "square_of_hashes(length)"
   ]
  },
  {
   "cell_type": "markdown",
   "id": "dfbe5aa6",
   "metadata": {},
   "source": [
    "### More Functions - A square"
   ]
  },
  {
   "cell_type": "code",
   "execution_count": 19,
   "id": "8ff35d11",
   "metadata": {},
   "outputs": [
    {
     "name": "stdout",
     "output_type": "stream",
     "text": [
      "###\n",
      "###\n",
      "###\n"
     ]
    }
   ],
   "source": [
    "def line(length, char):\n",
    "    print(char * length)\n",
    "\n",
    "def square(length, char):\n",
    "    for _ in range(length):\n",
    "        line(length, char)\n",
    "\n",
    "length = int(input(\"Please enter a number: \"))\n",
    "char = input(\"Please enter a character: \")\n",
    "\n",
    "square(length, char)\n"
   ]
  },
  {
   "cell_type": "markdown",
   "id": "8b91470d",
   "metadata": {},
   "source": [
    "### More Functions - A triangle"
   ]
  },
  {
   "cell_type": "code",
   "execution_count": 23,
   "id": "73e74b0d",
   "metadata": {},
   "outputs": [
    {
     "name": "stdout",
     "output_type": "stream",
     "text": [
      "#\n",
      "##\n",
      "###\n"
     ]
    }
   ],
   "source": [
    "def line(length, char):\n",
    "    print(char * length)\n",
    "\n",
    "def triangle(height):\n",
    "    i = 1\n",
    "    while i <= height:\n",
    "        print(char * i)\n",
    "        i += 1\n",
    "\n",
    "height = int(input(\"Please enter a number: \"))\n",
    "char = input(\"Please enter a character: \")\n",
    "\n",
    "triangle(height)\n"
   ]
  },
  {
   "cell_type": "markdown",
   "id": "12bfc704",
   "metadata": {},
   "source": [
    "### More Functions - A shape"
   ]
  },
  {
   "cell_type": "code",
   "execution_count": 29,
   "id": "b1b76b30",
   "metadata": {},
   "outputs": [
    {
     "name": "stdout",
     "output_type": "stream",
     "text": [
      ".\n",
      "..\n",
      "...\n"
     ]
    }
   ],
   "source": [
    "def line(char, length):\n",
    "    print(char * length)\n",
    "\n",
    "def rectangle(width, char, height, char2):\n",
    "    length = width\n",
    "    a = 1\n",
    "    while a <= width:\n",
    "        print(char * a)\n",
    "        a += 1\n",
    "    b = 1\n",
    "    while b <= height:\n",
    "        line(char2, length)\n",
    "        b += 1\n",
    "\n",
    "width = int(input(\"Please enter the width: \"))\n",
    "char = input(\"Please enter the first character: \")\n",
    "height = int(input(\"Please enter the height: \"))\n",
    "char2 = input(\"Please enter the second character: \")\n",
    "\n",
    "rectangle(width, char, height, char2)\n",
    "        "
   ]
  },
  {
   "cell_type": "markdown",
   "id": "3384388c",
   "metadata": {},
   "source": [
    "### More Functions - A spruce"
   ]
  },
  {
   "cell_type": "code",
   "execution_count": 32,
   "id": "3238a5bd",
   "metadata": {},
   "outputs": [
    {
     "name": "stdout",
     "output_type": "stream",
     "text": [
      "__*__\n",
      "__*__\n",
      "__**_\n",
      "_***_\n",
      "_****\n",
      "*****\n",
      "__*__\n"
     ]
    }
   ],
   "source": [
    "def spruce(size):\n",
    "    result = \"*\".center(size, \"_\")\n",
    "    print(result)\n",
    "    i = 1\n",
    "    while i <= size:\n",
    "        print((\"*\" * i).center(size, \"_\"))\n",
    "        i += 1\n",
    "    print(result)\n",
    "\n",
    "size = int(input(\"Please enter the size: \"))\n",
    "\n",
    "spruce(size)"
   ]
  },
  {
   "cell_type": "code",
   "execution_count": 33,
   "id": "185847b1",
   "metadata": {},
   "outputs": [
    {
     "name": "stdout",
     "output_type": "stream",
     "text": [
      "12\n"
     ]
    }
   ],
   "source": [
    "def multiply(x: int, y: int) -> int:\n",
    "    return x * y\n",
    "\n",
    "result = multiply(3, 4)\n",
    "print(result)"
   ]
  },
  {
   "cell_type": "code",
   "execution_count": 34,
   "id": "b26e3dcb",
   "metadata": {},
   "outputs": [
    {
     "name": "stdout",
     "output_type": "stream",
     "text": [
      "7.5\n"
     ]
    }
   ],
   "source": [
    "def add_numbers(a: int, b: int) -> int:\n",
    "    return a + b\n",
    "\n",
    "result = add_numbers(3, 4.5)\n",
    "print(result)"
   ]
  },
  {
   "cell_type": "markdown",
   "id": "89a8ba5e",
   "metadata": {},
   "source": [
    "### Class Exercise 4.24.25\n",
    "### tuples, lists, dictionaries, sequences\n",
    "### functions, lambda"
   ]
  },
  {
   "cell_type": "code",
   "execution_count": 20,
   "id": "12abe358",
   "metadata": {},
   "outputs": [
    {
     "name": "stdout",
     "output_type": "stream",
     "text": [
      "20\n",
      "Computer Science\n",
      "{'name': 'Alice', 'age': 20}\n"
     ]
    }
   ],
   "source": [
    "fruits = ['apple', 'banana', 'cherry'] #list\n",
    "days = ('Monday', 'Tuesday', 'Wednesday', 'Thursday', 'Friday') #tuple\n",
    "student = {}\n",
    "student = {'name': 'Alice', 'age':  20, 'major': 'Computer Science'} #dictionary\n",
    "student = dict(name=\"Alice\", age=20, major=\"Computer Science\") #dictionary\n",
    "print(student['age'])\n",
    "major = student.pop('major') #remove key\n",
    "print(major)\n",
    "print(student)"
   ]
  },
  {
   "cell_type": "code",
   "execution_count": 22,
   "id": "67e6b9ca",
   "metadata": {},
   "outputs": [
    {
     "name": "stdout",
     "output_type": "stream",
     "text": [
      "name Alice\n",
      "age 20\n",
      "apple\n",
      "banana\n",
      "cherry\n"
     ]
    }
   ],
   "source": [
    "for key in student:\n",
    "    print(key, student[key])\n",
    "\n",
    "for i in fruits:\n",
    "    print(i)"
   ]
  },
  {
   "cell_type": "code",
   "execution_count": null,
   "id": "f47d293d",
   "metadata": {},
   "outputs": [],
   "source": [
    "# Creating a set from a list to remove duplicates\n",
    "\n",
    "fruits = ['apple', 'banana', 'cherry', 'banana', 'orange', 'kiwi', 'mango']\n",
    "print(set(['apple', 'banana', 'cherry', 'banana', 'orange', 'kiwi', 'mango']))"
   ]
  },
  {
   "cell_type": "code",
   "execution_count": null,
   "id": "7cdbb31c",
   "metadata": {},
   "outputs": [
    {
     "name": "stdout",
     "output_type": "stream",
     "text": [
      "{1, 2, 3, 4, 5, 6, 7, 8}\n",
      "{4, 5}\n",
      "{1, 2, 3}\n"
     ]
    }
   ],
   "source": [
    "# Union, Intersection, and Difference of sets\n",
    "\n",
    "a = {1,2,3,4,5}\n",
    "b = {4,5,6,7,8}\n",
    "print(a | b) #union\n",
    "print(a & b) #intersection\n",
    "print(a - b) #difference - elements in a but not b"
   ]
  },
  {
   "cell_type": "code",
   "execution_count": 29,
   "id": "925c8955",
   "metadata": {},
   "outputs": [
    {
     "name": "stdout",
     "output_type": "stream",
     "text": [
      "Student with highest average: Bob\n"
     ]
    }
   ],
   "source": [
    "# Student record system using dictionaries\n",
    "\n",
    "students = [\n",
    "    {'id': 1, 'name': 'Alice', 'grades': [85,90,78]},\n",
    "    {'id': 2, 'name': 'Bob', 'grades': [92, 88, 79]},\n",
    "    {'id': 3, 'name': 'Charlie', 'grades': [76, 92, 85]}\n",
    "]\n",
    "\n",
    "for student in students:\n",
    "    avg_grade = sum(student['grades']) / len(student['grades'])\n",
    "    student['average'] = round(avg_grade, 1)\n",
    "\n",
    "highest_avg = max(students, key=lambda s: s['average'])\n",
    "print(f\"Student with highest average: {highest_avg['name']}\")\n"
   ]
  },
  {
   "cell_type": "code",
   "execution_count": 31,
   "id": "815d6581",
   "metadata": {},
   "outputs": [
    {
     "name": "stdout",
     "output_type": "stream",
     "text": [
      "Hello, code-you!\n"
     ]
    }
   ],
   "source": [
    "def greet(name):\n",
    "    return f\"Hello, {name}!\"\n",
    "\n",
    "message = greet(\"code-you\")\n",
    "print(message)"
   ]
  },
  {
   "cell_type": "code",
   "execution_count": null,
   "id": "e4b26654",
   "metadata": {},
   "outputs": [
    {
     "name": "stdout",
     "output_type": "stream",
     "text": [
      "Bob is 25 years old and works as a Developer\n"
     ]
    }
   ],
   "source": [
    "def describe_person(name, age, occupation=\"student\"): #uses local variables\n",
    "    return f\"{name} is {age} years old and works as a {occupation}\"\n",
    "\n",
    "print(describe_person(\"Bob\", 25, \"Developer\"))"
   ]
  },
  {
   "cell_type": "markdown",
   "id": "05848b7c",
   "metadata": {},
   "source": [
    "### Lambda Function"
   ]
  },
  {
   "cell_type": "code",
   "execution_count": 33,
   "id": "d8f18ce3",
   "metadata": {},
   "outputs": [
    {
     "name": "stdout",
     "output_type": "stream",
     "text": [
      "10\n"
     ]
    }
   ],
   "source": [
    "# Lambda arguments: expression\n",
    "\n",
    "def short_function(x):\n",
    "    return x * 2\n",
    "\n",
    "print(short_function(5))"
   ]
  },
  {
   "cell_type": "code",
   "execution_count": 34,
   "id": "2098d58c",
   "metadata": {},
   "outputs": [
    {
     "name": "stdout",
     "output_type": "stream",
     "text": [
      "10\n"
     ]
    }
   ],
   "source": [
    "equiv = lambda x: x * 2\n",
    "print(equiv(5))\n"
   ]
  },
  {
   "cell_type": "code",
   "execution_count": 35,
   "id": "3001a866",
   "metadata": {},
   "outputs": [
    {
     "name": "stdout",
     "output_type": "stream",
     "text": [
      "8\n"
     ]
    }
   ],
   "source": [
    "add = lambda x, y: x + y\n",
    "print(add(5, 3))"
   ]
  },
  {
   "cell_type": "code",
   "execution_count": 37,
   "id": "ecf774e4",
   "metadata": {},
   "outputs": [
    {
     "name": "stdout",
     "output_type": "stream",
     "text": [
      "[2, 4, 6, 8, 10]\n"
     ]
    }
   ],
   "source": [
    "numbers = [1,2,3,4,5,6,7,8,9,10]\n",
    "\n",
    "evens = filter(lambda x: x % 2 == 0, numbers)\n",
    "print(list(evens))"
   ]
  },
  {
   "cell_type": "markdown",
   "id": "8cf3163f",
   "metadata": {},
   "source": [
    "### Lists - Change the value of an item"
   ]
  },
  {
   "cell_type": "code",
   "execution_count": 4,
   "id": "17d4b882",
   "metadata": {},
   "outputs": [
    {
     "name": "stdout",
     "output_type": "stream",
     "text": [
      "Initial list: [1, 2, 3, 4, 5]\n",
      "List after modification: [10, 2, 3, 4, 5]\n",
      "List after modification: [10, 2, 250, 4, 5]\n",
      "List after modification: [10, 2, 250, 4, -45]\n",
      "Exiting...\n"
     ]
    }
   ],
   "source": [
    "def replace_list_elements():\n",
    "    my_list = [1, 2, 3, 4, 5]\n",
    "    print(f\"Initial list: {my_list}\")\n",
    "\n",
    "    while True:\n",
    "        index = input(\"Enter the index to modify (-1 to quit): \")\n",
    "        if index == \"quit\":\n",
    "            print(\"Exiting...\")\n",
    "            break\n",
    "\n",
    "        try:\n",
    "            index = int(index)\n",
    "        except ValueError:\n",
    "            print(\"Invalid input. Please enter an integer.\")\n",
    "            continue\n",
    "\n",
    "        if index < -1 or index >= len(my_list):\n",
    "            print(f\"Invalid index. Please enter an index 0 to {len(my_list)}.\")\n",
    "            continue\n",
    "\n",
    "        new_value = input(\"Enter the new value for the element: \")\n",
    "        try:\n",
    "            new_value = int(new_value)\n",
    "        except ValueError:\n",
    "            print(\"Invalid input. Please enter an integer.\")\n",
    "            continue\n",
    "\n",
    "        my_list[index] = new_value\n",
    "        print(f\"List after modification: {my_list}\")\n",
    "\n",
    "replace_list_elements()\n"
   ]
  },
  {
   "cell_type": "markdown",
   "id": "46186d61",
   "metadata": {},
   "source": [
    "### Lists - Add items to a list"
   ]
  },
  {
   "cell_type": "code",
   "execution_count": 12,
   "id": "8f9dab16",
   "metadata": {},
   "outputs": [
    {
     "name": "stdout",
     "output_type": "stream",
     "text": [
      "How many items: 3\n",
      "Item 1: 10\n",
      "Item 2: 250\n",
      "Item 3: 34\n",
      "[10, 250, 34]\n"
     ]
    }
   ],
   "source": [
    "numbers = int(input(\"How many items: \"))\n",
    "list = []\n",
    "i = 0\n",
    "\n",
    "print(f\"How many items: {numbers}\")\n",
    "while i < numbers:\n",
    "    i += 1\n",
    "    value = int(input(f\"Please list Item {i}: \"))\n",
    "    list.append(value)\n",
    "    print(f\"Item {i}: {value}\")\n",
    "    \n",
    "print(list)"
   ]
  },
  {
   "cell_type": "markdown",
   "id": "1b83e123",
   "metadata": {},
   "source": [
    "### Lists - Addition and removal"
   ]
  },
  {
   "cell_type": "code",
   "execution_count": 19,
   "id": "da9b9cba",
   "metadata": {},
   "outputs": [
    {
     "name": "stdout",
     "output_type": "stream",
     "text": [
      "The list is now []\n",
      "a(d)d, (r)emove, or e(x)it: d\n",
      "The list is now [1]\n",
      "a(d)d, (r)emove, or e(x)it: d\n",
      "The list is now [1, 2]\n",
      "a(d)d, (r)emove, or e(x)it: d\n",
      "The list is now [1, 2, 3]\n",
      "a(d)d, (r)emove, or e(x)it: r\n",
      "The list is now [1, 2]\n",
      "a(d)d, (r)emove, or e(x)it: d\n",
      "The list is now [1, 2, 3]\n",
      "a(d)d, (r)emove, or e(x)it: x\n",
      "Bye!\n"
     ]
    }
   ],
   "source": [
    "list = []\n",
    "def error_message():\n",
    "    print(\"invalid input. Please enter an integer.\")\n",
    "\n",
    "while True:\n",
    "    print(f\"The list is now {list}\")\n",
    "    action = input(\"a(d)d, (r)emove or e(x)it: \")\n",
    "    if action == \"d\":\n",
    "        print(f\"a(d)d, (r)emove, or e(x)it: {action}\")\n",
    "        value = input(\"Please enter a value to add to list: \")\n",
    "        try:\n",
    "            value = int(value)\n",
    "        except ValueError:\n",
    "            error_message()\n",
    "            continue\n",
    "\n",
    "        list.append(value)\n",
    "      \n",
    "    elif action == \"r\":\n",
    "        print(f\"a(d)d, (r)emove, or e(x)it: {action}\")\n",
    "        value = input(\"Please enter a value to add to list: \")\n",
    "        try: \n",
    "            value = int(value)\n",
    "        except ValueError:\n",
    "            error_message()\n",
    "            continue\n",
    "        \n",
    "        list.remove(value)\n",
    "            \n",
    "    elif action == \"x\":\n",
    "        print(f\"a(d)d, (r)emove, or e(x)it: {action}\")\n",
    "        print(\"Bye!\")\n",
    "        break\n",
    "            \n"
   ]
  },
  {
   "cell_type": "markdown",
   "id": "05bd4bc3",
   "metadata": {},
   "source": [
    "### Lists - Same word twice"
   ]
  },
  {
   "cell_type": "code",
   "execution_count": 21,
   "id": "811e1ca1",
   "metadata": {},
   "outputs": [
    {
     "name": "stdout",
     "output_type": "stream",
     "text": [
      "Word: once\n",
      "Word: upon\n",
      "Word: a\n",
      "Word: time\n",
      "You typed in 4 different words\n"
     ]
    }
   ],
   "source": [
    "list = []\n",
    "word = input(\"Please enter a word: \")\n",
    "\n",
    "while word not in list:\n",
    "    list.append(word)\n",
    "    print(f\"Word: {word}\")\n",
    "    word = input(\"Please enter a word: \")\n",
    "\n",
    "print(f\"You typed in {len(list)} different words\")"
   ]
  },
  {
   "cell_type": "markdown",
   "id": "dc789ef7",
   "metadata": {},
   "source": [
    "### Lists - List twice"
   ]
  },
  {
   "cell_type": "code",
   "execution_count": 5,
   "id": "bec0fff9",
   "metadata": {},
   "outputs": [
    {
     "name": "stdout",
     "output_type": "stream",
     "text": [
      "New item: 3\n",
      "The list is now: [3]\n",
      "The list in order: [3]\n",
      "New item: 1\n",
      "The list is now: [3, 1]\n",
      "The list in order: [1, 3]\n",
      "New item: 9\n",
      "The list is now: [3, 1, 9]\n",
      "The list in order: [1, 3, 9]\n",
      "New item: 5\n",
      "The list is now: [3, 1, 9, 5]\n",
      "The list in order: [1, 3, 5, 9]\n",
      "New item: 0\n",
      "Bye!\n"
     ]
    }
   ],
   "source": [
    "def get_user_input():\n",
    "    while True:\n",
    "        try:\n",
    "            return int(input(\"Enter a number (0 to exit): \"))\n",
    "        except ValueError:\n",
    "            print(\"Invalid input. Please enter a number.\")\n",
    "\n",
    "def print_ordered_list(my_list):\n",
    "    sorted_list = sorted(my_list)\n",
    "    print(f\"The list in order: {sorted_list}\")\n",
    "\n",
    "def main():\n",
    "    my_list = []\n",
    "    while True:\n",
    "        number = get_user_input()\n",
    "        if number == 0:\n",
    "            print(f\"New item: {number}\")\n",
    "            print(\"Bye!\")\n",
    "            break\n",
    "        my_list.append(number)\n",
    "        print(f\"New item: {number}\")\n",
    "        print(f\"The list is now: {my_list}\")\n",
    "        print_ordered_list(my_list)\n",
    "\n",
    "main()"
   ]
  },
  {
   "cell_type": "markdown",
   "id": "c362b0ea",
   "metadata": {},
   "source": [
    "### Lists - The length of a list"
   ]
  },
  {
   "cell_type": "code",
   "execution_count": 7,
   "id": "40f4291d",
   "metadata": {},
   "outputs": [
    {
     "name": "stdout",
     "output_type": "stream",
     "text": [
      "The length is 4\n"
     ]
    }
   ],
   "source": [
    "def length(my_list):\n",
    "    result = len(my_list)\n",
    "    print(\"The length is\", result)\n",
    "\n",
    "length([1, 1, 1, 1])\n"
   ]
  },
  {
   "cell_type": "markdown",
   "id": "1ad16d39",
   "metadata": {},
   "source": [
    "### Lists - Arithmetic mean"
   ]
  },
  {
   "cell_type": "code",
   "execution_count": 9,
   "id": "21515257",
   "metadata": {},
   "outputs": [
    {
     "name": "stdout",
     "output_type": "stream",
     "text": [
      "mean value is 3.0\n"
     ]
    }
   ],
   "source": [
    "def mean(my_list):\n",
    "    result = sum(my_list) / len(my_list)\n",
    "    print(\"mean value is\", result)\n",
    "\n",
    "mean([1, 2, 3, 4, 5])"
   ]
  },
  {
   "cell_type": "markdown",
   "id": "37431a5f",
   "metadata": {},
   "source": [
    "### Lists - The range of a list"
   ]
  },
  {
   "cell_type": "code",
   "execution_count": 10,
   "id": "01bd2c26",
   "metadata": {},
   "outputs": [
    {
     "name": "stdout",
     "output_type": "stream",
     "text": [
      "The range of the list is 4\n"
     ]
    }
   ],
   "source": [
    "def range_of_list(my_list):\n",
    "    smallest = min(my_list)\n",
    "    greatest = max(my_list)\n",
    "    result = greatest - smallest\n",
    "    print(\"The range of the list is\", result)\n",
    "\n",
    "my_list = [1, 2, 3, 4, 5]\n",
    "range_of_list(my_list)"
   ]
  },
  {
   "cell_type": "code",
   "execution_count": 11,
   "id": "3f6a93b2",
   "metadata": {},
   "outputs": [
    {
     "name": "stdout",
     "output_type": "stream",
     "text": [
      "cherry\n"
     ]
    }
   ],
   "source": [
    "fruits = ['apple', 'banana', 'cherry']\n",
    "fruits.append('orange')\n",
    "print(fruits[2])"
   ]
  },
  {
   "cell_type": "markdown",
   "id": "2d984e03",
   "metadata": {},
   "source": [
    "### Definite and Indefinite Iterations - Star-studded"
   ]
  },
  {
   "cell_type": "code",
   "execution_count": 4,
   "id": "d0cb3232",
   "metadata": {},
   "outputs": [
    {
     "name": "stdout",
     "output_type": "stream",
     "text": [
      "Please type in a string: Python\n",
      "P\n",
      "*\n",
      "y\n",
      "*\n",
      "t\n",
      "*\n",
      "h\n",
      "*\n",
      "o\n",
      "*\n",
      "n\n",
      "*\n"
     ]
    }
   ],
   "source": [
    "string = input(\"Please type in a string: \")\n",
    "print(f\"Please type in a string: {string}\")\n",
    "\n",
    "for char in string:\n",
    "    print(char)\n",
    "    print(\"*\")"
   ]
  },
  {
   "cell_type": "markdown",
   "id": "7779b261",
   "metadata": {},
   "source": [
    "### Definite and Indefinite Iterations - From negative to positive"
   ]
  },
  {
   "cell_type": "code",
   "execution_count": 9,
   "id": "f1b7ebd4",
   "metadata": {},
   "outputs": [
    {
     "name": "stdout",
     "output_type": "stream",
     "text": [
      "Please type in a positive integer: 4\n",
      "-4\n",
      "-3\n",
      "-2\n",
      "-1\n",
      "1\n",
      "2\n",
      "3\n",
      "4\n"
     ]
    }
   ],
   "source": [
    "user_input = int(input(\"Please type in a positive integer: \"))\n",
    "print(f\"Please type in a positive integer: {user_input}\")\n",
    "start_index = user_input * -1\n",
    "end_index = user_input + 1\n",
    "\n",
    "for i in range (start_index, end_index):\n",
    "    if i != 0:\n",
    "        print(i)\n",
    "    else:\n",
    "        continue"
   ]
  },
  {
   "cell_type": "markdown",
   "id": "81fd6497",
   "metadata": {},
   "source": [
    "### Definite and Indefinite Iterations - Anagrams"
   ]
  },
  {
   "cell_type": "code",
   "execution_count": 13,
   "id": "3085b0bf",
   "metadata": {},
   "outputs": [
    {
     "name": "stdout",
     "output_type": "stream",
     "text": [
      "# True\n"
     ]
    }
   ],
   "source": [
    "def anagrams(string1, string2):\n",
    "    string1 = sorted(string1)\n",
    "    string2 = sorted(string2)\n",
    "    if string1 == string2:\n",
    "        print(\"# True\")\n",
    "    else:\n",
    "        print(\"# False\")\n",
    "\n",
    "anagrams(\"tame\", \"mate\")"
   ]
  },
  {
   "cell_type": "markdown",
   "id": "2939dad2",
   "metadata": {},
   "source": [
    "### Definite and Indefinite Iterations"
   ]
  },
  {
   "cell_type": "code",
   "execution_count": 15,
   "id": "48b9eda8",
   "metadata": {},
   "outputs": [
    {
     "name": "stdout",
     "output_type": "stream",
     "text": [
      "Please type in a palindrome: python\n",
      "that wasn't a palindrome\n",
      "Please type in a palindrome: java\n",
      "that wasn't a palindrome\n",
      "Please type in a palindrome: oddoreven\n",
      "that wasn't a palindrome\n",
      "Please type in a palindrome: neveroddoreven\n",
      "neveroddoreven is a palindrome!\n"
     ]
    }
   ],
   "source": [
    "def palindromes(string):\n",
    "    while True:\n",
    "        string = input(\"Please type in a palindrome: \")\n",
    "        reverse_string = string[::-1]\n",
    "        if string != reverse_string:\n",
    "            print(f\"Please type in a palindrome: {string}\")\n",
    "            print(\"that wasn't a palindrome\")\n",
    "            continue\n",
    "        else:\n",
    "            print(f\"Please type in a palindrome: {string}\")\n",
    "            print(f\"{string} is a palindrome!\")\n",
    "            break\n",
    "\n",
    "palindromes(string)"
   ]
  },
  {
   "cell_type": "markdown",
   "id": "c367b00f",
   "metadata": {},
   "source": [
    "### Definite and Indefinite Iterations"
   ]
  },
  {
   "cell_type": "code",
   "execution_count": 27,
   "id": "a1313a21",
   "metadata": {},
   "outputs": [
    {
     "name": "stdout",
     "output_type": "stream",
     "text": [
      "The result is 9\n"
     ]
    }
   ],
   "source": [
    "def sum_of_positives(my_list):\n",
    "    total = 0\n",
    "    for num in my_list:\n",
    "        if num > 0:\n",
    "            total += num\n",
    "    print(f\"The result is {total}\")\n",
    "\n",
    "sum_of_positives([1, -2, 3, -4, 5])\n"
   ]
  },
  {
   "cell_type": "markdown",
   "id": "85137189",
   "metadata": {},
   "source": [
    "### Definite and Indefinite Iterations"
   ]
  },
  {
   "cell_type": "code",
   "execution_count": 28,
   "id": "2f3f7399",
   "metadata": {},
   "outputs": [
    {
     "name": "stdout",
     "output_type": "stream",
     "text": [
      "original [1, 2, 3, 4, 5]\n",
      "new [2, 4]\n"
     ]
    }
   ],
   "source": [
    "def even_numbers(my_list):\n",
    "    new_list = []\n",
    "    for num in my_list:\n",
    "        if num % 2 == 0:\n",
    "            new_list.append(num)\n",
    "    print(\"original\", my_list)\n",
    "    print(\"new\", new_list)\n",
    "\n",
    "even_numbers([1, 2, 3, 4, 5])"
   ]
  },
  {
   "cell_type": "markdown",
   "id": "87c8403d",
   "metadata": {},
   "source": [
    "### Definite and Indefinite Iterations - Distinct numbers"
   ]
  },
  {
   "cell_type": "code",
   "execution_count": 42,
   "id": "196bf6a2",
   "metadata": {},
   "outputs": [
    {
     "name": "stdout",
     "output_type": "stream",
     "text": [
      "[1, 2, 3]\n"
     ]
    }
   ],
   "source": [
    "def distinct_numbers(my_list):\n",
    "    new_list = []\n",
    "    for num in my_list:\n",
    "        if num in new_list:\n",
    "            continue\n",
    "        else:\n",
    "            new_list.append(num)\n",
    "    print(new_list[::-1])\n",
    "\n",
    "my_list = [3,2,2,1,3,3,1]\n",
    "distinct_numbers(my_list)"
   ]
  },
  {
   "cell_type": "markdown",
   "id": "f00a2953",
   "metadata": {},
   "source": [
    "### Definite and Indefinite Iterations - The length of the longest in the list"
   ]
  },
  {
   "cell_type": "code",
   "execution_count": 44,
   "id": "df1a3cee",
   "metadata": {},
   "outputs": [
    {
     "name": "stdout",
     "output_type": "stream",
     "text": [
      "8\n",
      "7\n"
     ]
    }
   ],
   "source": [
    "def length_of_longest(my_list):\n",
    "    new_list = []\n",
    "    for word in my_list:\n",
    "        new_list.append(len(word))\n",
    "    print(max(new_list))\n",
    "\n",
    "my_list = [\"first\", \"second\", \"fourth\", \"eleventh\"]\n",
    "length_of_longest(my_list)\n",
    "\n",
    "my_list = [\"adele\", \"mark\", \"dorothy\", \"tim\", \"hedy\", \"richard\"]\n",
    "length_of_longest(my_list)\n",
    "\n",
    "\n"
   ]
  },
  {
   "cell_type": "markdown",
   "id": "253de408",
   "metadata": {},
   "source": [
    "### Definite and Indefinite Iterations - The shortest in the list"
   ]
  },
  {
   "cell_type": "code",
   "execution_count": 47,
   "id": "b60a796c",
   "metadata": {},
   "outputs": [
    {
     "name": "stdout",
     "output_type": "stream",
     "text": [
      "first\n",
      "tim\n"
     ]
    }
   ],
   "source": [
    "def shortest(my_list):\n",
    "    new_list = []\n",
    "    for word in my_list:\n",
    "        new_list.append(len(word))\n",
    "    min_val = min(new_list)\n",
    "    min_index = new_list.index(min_val)\n",
    "    print(my_list[min_index])\n",
    "\n",
    "my_list = [\"first\", \"second\", \"fourth\", \"eleventh\"]\n",
    "shortest(my_list)\n",
    "\n",
    "my_list = [\"adele\", \"mark\", \"dorothy\", \"tim\", \"hedy\", \"richard\"]\n",
    "shortest(my_list)"
   ]
  },
  {
   "cell_type": "markdown",
   "id": "21afa3a4",
   "metadata": {},
   "source": [
    "### Definite and Indefinite Iterations - All the longest in the list"
   ]
  },
  {
   "cell_type": "code",
   "execution_count": 50,
   "id": "0d1d0a16",
   "metadata": {},
   "outputs": [
    {
     "name": "stdout",
     "output_type": "stream",
     "text": [
      "['eleventh']\n",
      "['dorothy', 'richard']\n"
     ]
    }
   ],
   "source": [
    "def all_the_longest(my_list):\n",
    "    max_length = 0\n",
    "    longest_strings = []\n",
    "    for string in my_list:\n",
    "        if len(string) > max_length:\n",
    "            max_length = len(string)\n",
    "            longest_strings = [string]\n",
    "        elif len(string) == max_length:\n",
    "            longest_strings.append(string)\n",
    "    print(longest_strings)\n",
    "\n",
    "my_list = [\"first\", \"second\", \"fourth\", \"eleventh\"]\n",
    "all_the_longest(my_list)\n",
    "\n",
    "my_list = [\"adele\", \"mark\", \"dorothy\", \"tim\", \"hedy\", \"richard\"]\n",
    "all_the_longest(my_list)\n",
    "\n"
   ]
  },
  {
   "cell_type": "code",
   "execution_count": 51,
   "id": "ddadb195",
   "metadata": {},
   "outputs": [
    {
     "name": "stdout",
     "output_type": "stream",
     "text": [
      "h-e-l-l-o-"
     ]
    }
   ],
   "source": [
    "text = \"hello\"\n",
    "for char in text:\n",
    "    print(char, end=\"-\")"
   ]
  },
  {
   "cell_type": "code",
   "execution_count": 52,
   "id": "d18059a1",
   "metadata": {},
   "outputs": [
    {
     "name": "stdout",
     "output_type": "stream",
     "text": [
      "apple\n",
      "banana\n",
      "cherry\n"
     ]
    }
   ],
   "source": [
    "fruits = [\"apple\", \"banana\", \"cherry\"]\n",
    "for fruit in fruits:\n",
    "    print(fruit)"
   ]
  },
  {
   "cell_type": "markdown",
   "id": "345cdc58",
   "metadata": {},
   "source": [
    "### Print Statement Formatting - Integers to strings"
   ]
  },
  {
   "cell_type": "code",
   "execution_count": 4,
   "id": "7ca0e797",
   "metadata": {},
   "outputs": [
    {
     "name": "stdout",
     "output_type": "stream",
     "text": [
      "['1.23', '0.33', '0.11', '3.45']\n"
     ]
    }
   ],
   "source": [
    "def formatted(my_list):\n",
    "    new_list = []\n",
    "    for value in my_list:\n",
    "        value = f\"{value:.2f}\"\n",
    "        new_list.append(value)\n",
    "    print(new_list)\n",
    "\n",
    "my_list = [1.234, 0.3333, 0.11111, 3.446]\n",
    "formatted(my_list)"
   ]
  },
  {
   "cell_type": "code",
   "execution_count": 7,
   "id": "bb505c0a",
   "metadata": {},
   "outputs": [
    {
     "name": "stdout",
     "output_type": "stream",
     "text": [
      "$19.99\n"
     ]
    }
   ],
   "source": [
    "price = 19.99\n",
    "print(f\"${price:.2f}\")"
   ]
  },
  {
   "cell_type": "code",
   "execution_count": 8,
   "id": "7d462b28",
   "metadata": {},
   "outputs": [
    {
     "name": "stdout",
     "output_type": "stream",
     "text": [
      "The temperature is 23.5°C\n"
     ]
    }
   ],
   "source": [
    "temperature = 23.5\n",
    "print(f\"The temperature is {temperature}°C\")"
   ]
  },
  {
   "cell_type": "code",
   "execution_count": 9,
   "id": "c9a8043a",
   "metadata": {},
   "outputs": [
    {
     "name": "stdout",
     "output_type": "stream",
     "text": [
      "Hello, my name is JohnDoe.\n"
     ]
    }
   ],
   "source": [
    "first_name = \"John\"\n",
    "last_name = \"Doe\"\n",
    "print(\"Hello, my name is \" + first_name + last_name + \".\")\n"
   ]
  },
  {
   "cell_type": "code",
   "execution_count": 10,
   "id": "3be2bf72",
   "metadata": {},
   "outputs": [
    {
     "name": "stdout",
     "output_type": "stream",
     "text": [
      "Bob is 25 years old.\n"
     ]
    }
   ],
   "source": [
    "name = \"Bob\"\n",
    "age = 25\n",
    "print(f\"{name} is {age} years old.\")"
   ]
  },
  {
   "cell_type": "code",
   "execution_count": 11,
   "id": "14ed66cd",
   "metadata": {},
   "outputs": [
    {
     "name": "stdout",
     "output_type": "stream",
     "text": [
      "My name is Alice and I am 30 years old\n"
     ]
    }
   ],
   "source": [
    "name = \"Alice\"\n",
    "age = 30\n",
    "print(f\"My name is {name} and I am {age} years old\")"
   ]
  },
  {
   "cell_type": "markdown",
   "id": "76a6a358",
   "metadata": {},
   "source": [
    "### More Strings and Lists - Everything reversed"
   ]
  },
  {
   "cell_type": "code",
   "execution_count": 17,
   "id": "8ae2eaa5",
   "metadata": {},
   "outputs": [
    {
     "name": "stdout",
     "output_type": "stream",
     "text": [
      "['erom eno', 'elpmaxe', 'ereht', 'iH']\n"
     ]
    }
   ],
   "source": [
    "def everything_reversed(my_list):\n",
    "    new_list = []\n",
    "    for value in my_list:\n",
    "        value = value[::-1]\n",
    "        new_list.append(value)\n",
    "    print(new_list[::-1])\n",
    "\n",
    "my_list = [\"Hi\", \"there\", \"example\", \"one more\"]\n",
    "everything_reversed(my_list)"
   ]
  }
 ],
 "metadata": {
  "kernelspec": {
   "display_name": "Python 3",
   "language": "python",
   "name": "python3"
  },
  "language_info": {
   "codemirror_mode": {
    "name": "ipython",
    "version": 3
   },
   "file_extension": ".py",
   "mimetype": "text/x-python",
   "name": "python",
   "nbconvert_exporter": "python",
   "pygments_lexer": "ipython3",
   "version": "3.12.9"
  }
 },
 "nbformat": 4,
 "nbformat_minor": 5
}
