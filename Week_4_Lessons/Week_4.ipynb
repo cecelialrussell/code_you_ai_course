{
 "cells": [
  {
   "cell_type": "markdown",
   "id": "9d530c47",
   "metadata": {},
   "source": [
    "### More Functions - Line"
   ]
  },
  {
   "cell_type": "code",
   "execution_count": 8,
   "id": "57bb8ba6",
   "metadata": {},
   "outputs": [
    {
     "name": "stdout",
     "output_type": "stream",
     "text": [
      "***\n"
     ]
    }
   ],
   "source": [
    "def line(times, text):\n",
    "    if text != \"\":\n",
    "        print(f\"{text[0] * times}\")\n",
    "    else:\n",
    "        print(\"*\" * times)\n",
    "\n",
    "text = input(\"Please enter a string: \")\n",
    "times = int(input(\"Please enter a number: \"))\n",
    "\n",
    "line(times, text)"
   ]
  },
  {
   "cell_type": "code",
   "execution_count": 10,
   "id": "4ec7483f",
   "metadata": {},
   "outputs": [
    {
     "name": "stdout",
     "output_type": "stream",
     "text": [
      "##########\n",
      "##########\n"
     ]
    }
   ],
   "source": [
    "def line(times, text):\n",
    "    if text != \"\":\n",
    "        print(f\"{text[0] * times}\")\n",
    "    else: \n",
    "        print(\"*\" * times)\n",
    "\n",
    "def box_of_hashes(height):\n",
    "    while height > 0:\n",
    "        line(times, text)\n",
    "        height -= 1\n",
    "\n",
    "times = 10\n",
    "text = input(\"Please enter a string: \")\n",
    "height = int(input(\"Please enter a number: \"))\n",
    "\n",
    "box_of_hashes(height)\n",
    "\n"
   ]
  },
  {
   "cell_type": "markdown",
   "id": "4cef8726",
   "metadata": {},
   "source": [
    "### More Functions - A square of hashes"
   ]
  },
  {
   "cell_type": "code",
   "execution_count": 13,
   "id": "c350bf7c",
   "metadata": {},
   "outputs": [
    {
     "name": "stdout",
     "output_type": "stream",
     "text": [
      "###\n",
      "###\n",
      "###\n"
     ]
    }
   ],
   "source": [
    "def line(times, text):\n",
    "    if text != \"\":\n",
    "        print(f\"{(text[0] * times)}\")\n",
    "    else:\n",
    "        print(\"*\" * times)\n",
    "\n",
    "def square_of_hashes(length):\n",
    "    times = length\n",
    "    while length > 0:\n",
    "        line(times, text)\n",
    "        length -= 1\n",
    "        \n",
    "\n",
    "text = \"#\"\n",
    "length = int(input(\"Please enter a number: \"))\n",
    "\n",
    "square_of_hashes(length)"
   ]
  },
  {
   "cell_type": "markdown",
   "id": "dfbe5aa6",
   "metadata": {},
   "source": [
    "### More Functions - A square"
   ]
  },
  {
   "cell_type": "code",
   "execution_count": 19,
   "id": "8ff35d11",
   "metadata": {},
   "outputs": [
    {
     "name": "stdout",
     "output_type": "stream",
     "text": [
      "###\n",
      "###\n",
      "###\n"
     ]
    }
   ],
   "source": [
    "def line(length, char):\n",
    "    print(char * length)\n",
    "\n",
    "def square(length, char):\n",
    "    for _ in range(length):\n",
    "        line(length, char)\n",
    "\n",
    "length = int(input(\"Please enter a number: \"))\n",
    "char = input(\"Please enter a character: \")\n",
    "\n",
    "square(length, char)\n"
   ]
  },
  {
   "cell_type": "markdown",
   "id": "8b91470d",
   "metadata": {},
   "source": [
    "### More Functions - A triangle"
   ]
  },
  {
   "cell_type": "code",
   "execution_count": 23,
   "id": "73e74b0d",
   "metadata": {},
   "outputs": [
    {
     "name": "stdout",
     "output_type": "stream",
     "text": [
      "#\n",
      "##\n",
      "###\n"
     ]
    }
   ],
   "source": [
    "def line(length, char):\n",
    "    print(char * length)\n",
    "\n",
    "def triangle(height):\n",
    "    i = 1\n",
    "    while i <= height:\n",
    "        print(char * i)\n",
    "        i += 1\n",
    "\n",
    "height = int(input(\"Please enter a number: \"))\n",
    "char = input(\"Please enter a character: \")\n",
    "\n",
    "triangle(height)\n"
   ]
  },
  {
   "cell_type": "markdown",
   "id": "12bfc704",
   "metadata": {},
   "source": [
    "### More Functions - A shape"
   ]
  },
  {
   "cell_type": "code",
   "execution_count": 29,
   "id": "b1b76b30",
   "metadata": {},
   "outputs": [
    {
     "name": "stdout",
     "output_type": "stream",
     "text": [
      ".\n",
      "..\n",
      "...\n"
     ]
    }
   ],
   "source": [
    "def line(char, length):\n",
    "    print(char * length)\n",
    "\n",
    "def rectangle(width, char, height, char2):\n",
    "    length = width\n",
    "    a = 1\n",
    "    while a <= width:\n",
    "        print(char * a)\n",
    "        a += 1\n",
    "    b = 1\n",
    "    while b <= height:\n",
    "        line(char2, length)\n",
    "        b += 1\n",
    "\n",
    "width = int(input(\"Please enter the width: \"))\n",
    "char = input(\"Please enter the first character: \")\n",
    "height = int(input(\"Please enter the height: \"))\n",
    "char2 = input(\"Please enter the second character: \")\n",
    "\n",
    "rectangle(width, char, height, char2)\n",
    "        "
   ]
  },
  {
   "cell_type": "markdown",
   "id": "3384388c",
   "metadata": {},
   "source": [
    "### More Functions - A spruce"
   ]
  },
  {
   "cell_type": "code",
   "execution_count": 32,
   "id": "3238a5bd",
   "metadata": {},
   "outputs": [
    {
     "name": "stdout",
     "output_type": "stream",
     "text": [
      "__*__\n",
      "__*__\n",
      "__**_\n",
      "_***_\n",
      "_****\n",
      "*****\n",
      "__*__\n"
     ]
    }
   ],
   "source": [
    "def spruce(size):\n",
    "    result = \"*\".center(size, \"_\")\n",
    "    print(result)\n",
    "    i = 1\n",
    "    while i <= size:\n",
    "        print((\"*\" * i).center(size, \"_\"))\n",
    "        i += 1\n",
    "    print(result)\n",
    "\n",
    "size = int(input(\"Please enter the size: \"))\n",
    "\n",
    "spruce(size)"
   ]
  },
  {
   "cell_type": "code",
   "execution_count": 33,
   "id": "185847b1",
   "metadata": {},
   "outputs": [
    {
     "name": "stdout",
     "output_type": "stream",
     "text": [
      "12\n"
     ]
    }
   ],
   "source": [
    "def multiply(x: int, y: int) -> int:\n",
    "    return x * y\n",
    "\n",
    "result = multiply(3, 4)\n",
    "print(result)"
   ]
  },
  {
   "cell_type": "code",
   "execution_count": 34,
   "id": "b26e3dcb",
   "metadata": {},
   "outputs": [
    {
     "name": "stdout",
     "output_type": "stream",
     "text": [
      "7.5\n"
     ]
    }
   ],
   "source": [
    "def add_numbers(a: int, b: int) -> int:\n",
    "    return a + b\n",
    "\n",
    "result = add_numbers(3, 4.5)\n",
    "print(result)"
   ]
  }
 ],
 "metadata": {
  "kernelspec": {
   "display_name": "Python 3",
   "language": "python",
   "name": "python3"
  },
  "language_info": {
   "codemirror_mode": {
    "name": "ipython",
    "version": 3
   },
   "file_extension": ".py",
   "mimetype": "text/x-python",
   "name": "python",
   "nbconvert_exporter": "python",
   "pygments_lexer": "ipython3",
   "version": "3.12.9"
  }
 },
 "nbformat": 4,
 "nbformat_minor": 5
}
