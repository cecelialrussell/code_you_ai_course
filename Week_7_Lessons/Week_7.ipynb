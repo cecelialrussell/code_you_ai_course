{
 "cells": [
  {
   "cell_type": "markdown",
   "id": "52d5b093",
   "metadata": {},
   "source": [
    "### Modules"
   ]
  },
  {
   "cell_type": "code",
   "execution_count": 5,
   "id": "fb07d055",
   "metadata": {},
   "outputs": [
    {
     "name": "stdout",
     "output_type": "stream",
     "text": [
      "3.0\n"
     ]
    }
   ],
   "source": [
    "import math  # whole module\n",
    "\n",
    "number = 9\n",
    "\n",
    "print(math.sqrt(number))"
   ]
  },
  {
   "cell_type": "code",
   "execution_count": 4,
   "id": "d028bb07",
   "metadata": {},
   "outputs": [
    {
     "name": "stdout",
     "output_type": "stream",
     "text": [
      "7.0\n"
     ]
    }
   ],
   "source": [
    "from math import sqrt, sin  # just the function\n",
    "\n",
    "print(sqrt(49))"
   ]
  },
  {
   "cell_type": "code",
   "execution_count": 3,
   "id": "7f36627d",
   "metadata": {},
   "outputs": [
    {
     "name": "stdout",
     "output_type": "stream",
     "text": [
      "['__doc__', '__loader__', '__name__', '__package__', '__spec__', 'acos', 'acosh', 'asin', 'asinh', 'atan', 'atan2', 'atanh', 'cbrt', 'ceil', 'comb', 'copysign', 'cos', 'cosh', 'degrees', 'dist', 'e', 'erf', 'erfc', 'exp', 'exp2', 'expm1', 'fabs', 'factorial', 'floor', 'fmod', 'frexp', 'fsum', 'gamma', 'gcd', 'hypot', 'inf', 'isclose', 'isfinite', 'isinf', 'isnan', 'isqrt', 'lcm', 'ldexp', 'lgamma', 'log', 'log10', 'log1p', 'log2', 'modf', 'nan', 'nextafter', 'perm', 'pi', 'pow', 'prod', 'radians', 'remainder', 'sin', 'sinh', 'sqrt', 'sumprod', 'tan', 'tanh', 'tau', 'trunc', 'ulp']\n"
     ]
    }
   ],
   "source": [
    "# print all functions (directory) in module\n",
    "\n",
    "import math\n",
    "\n",
    "print(dir(math))"
   ]
  },
  {
   "cell_type": "code",
   "execution_count": null,
   "id": "5e44e0c4",
   "metadata": {},
   "outputs": [],
   "source": [
    "import random \n",
    "\n",
    "for i in range(10):\n",
    "    print(random.randint(1, 6))"
   ]
  },
  {
   "cell_type": "code",
   "execution_count": 2,
   "id": "ebf40531",
   "metadata": {},
   "outputs": [
    {
     "name": "stdout",
     "output_type": "stream",
     "text": [
      "Bob\n",
      "Lena\n",
      "Peter\n",
      "Paul\n",
      "Peter\n"
     ]
    }
   ],
   "source": [
    "import random\n",
    "\n",
    "names = [\"Paul\", \"Peter\", \"Paula\", \"Bob\", \"Lena\"]\n",
    "\n",
    "for i in range(5):\n",
    "    print(random.choice(names))"
   ]
  },
  {
   "cell_type": "code",
   "execution_count": 1,
   "id": "91a25949",
   "metadata": {},
   "outputs": [
    {
     "name": "stdout",
     "output_type": "stream",
     "text": [
      "['Lena', 'Paula', 'Paul']\n"
     ]
    }
   ],
   "source": [
    "import random\n",
    "\n",
    "names = [\"Paul\", \"Peter\", \"Paula\", \"Bob\", \"Lena\"]\n",
    "\n",
    "print(random.sample(names, 3))"
   ]
  },
  {
   "cell_type": "code",
   "execution_count": 6,
   "id": "e98b9321",
   "metadata": {},
   "outputs": [
    {
     "name": "stdout",
     "output_type": "stream",
     "text": [
      "['Bob', 'Lena', 'Paul', 'Peter', 'Paula']\n"
     ]
    }
   ],
   "source": [
    "import random\n",
    "\n",
    "names = [\"Paul\", \"Peter\", \"Paula\", \"Bob\", \"Lena\"]\n",
    "\n",
    "random.shuffle(names)\n",
    "print(names)\n"
   ]
  },
  {
   "cell_type": "markdown",
   "id": "41c86bf2",
   "metadata": {},
   "source": [
    "### Handling Times"
   ]
  },
  {
   "cell_type": "code",
   "execution_count": 10,
   "id": "b2c72592",
   "metadata": {},
   "outputs": [
    {
     "name": "stdout",
     "output_type": "stream",
     "text": [
      "225 days, 9:13:33.145538\n"
     ]
    }
   ],
   "source": [
    "from datetime import datetime\n",
    "\n",
    "now = datetime.now()\n",
    "christmas_eve = datetime(2025, 12, 24)\n",
    "\n",
    "print(christmas_eve - now)"
   ]
  },
  {
   "cell_type": "code",
   "execution_count": 11,
   "id": "477da63b",
   "metadata": {},
   "outputs": [
    {
     "name": "stdout",
     "output_type": "stream",
     "text": [
      "It's not yet Christmas\n"
     ]
    }
   ],
   "source": [
    "from datetime import datetime\n",
    "\n",
    "now = datetime.now()\n",
    "christmas_eve = datetime(2025, 12, 24)\n",
    "\n",
    "if christmas_eve > now:\n",
    "    print(\"It's not yet Christmas\")\n",
    "else:\n",
    "    print(\"Christmas has gone\")"
   ]
  },
  {
   "cell_type": "code",
   "execution_count": 13,
   "id": "0107a1e2",
   "metadata": {},
   "outputs": [
    {
     "name": "stdout",
     "output_type": "stream",
     "text": [
      "2025-08-20 14:49:38.639502\n"
     ]
    }
   ],
   "source": [
    "from datetime import datetime, timedelta\n",
    "\n",
    "now = datetime.now()\n",
    "\n",
    "hundred_days = timedelta(days=100)\n",
    "\n",
    "now = now + hundred_days\n",
    "\n",
    "print(now)"
   ]
  },
  {
   "cell_type": "code",
   "execution_count": 18,
   "id": "40b8502a",
   "metadata": {},
   "outputs": [
    {
     "name": "stdout",
     "output_type": "stream",
     "text": [
      "Today is 05.12.25\n"
     ]
    }
   ],
   "source": [
    "from datetime import datetime, timedelta\n",
    "\n",
    "now = datetime.now()\n",
    "\n",
    "print(now.strftime(\"Today is %m.%d.%y\"))"
   ]
  },
  {
   "cell_type": "markdown",
   "id": "efb36d7a",
   "metadata": {},
   "source": [
    "### Reading web pages"
   ]
  },
  {
   "cell_type": "code",
   "execution_count": null,
   "id": "226be1ad",
   "metadata": {},
   "outputs": [],
   "source": [
    "import urllib.request\n",
    "\n",
    "pyynto = urllib.request.urlopen(\"https://helsinki.fi\")\n",
    "print(pyynto.read())"
   ]
  },
  {
   "cell_type": "code",
   "execution_count": 19,
   "id": "09f4e412",
   "metadata": {},
   "outputs": [
    {
     "name": "stdout",
     "output_type": "stream",
     "text": [
      "30\n"
     ]
    }
   ],
   "source": [
    "import calculator\n",
    "\n",
    "print(calculator.add(10, 20))"
   ]
  },
  {
   "cell_type": "markdown",
   "id": "f0401ad3",
   "metadata": {},
   "source": [
    "### Useful Techniques"
   ]
  },
  {
   "cell_type": "code",
   "execution_count": 21,
   "id": "e7966a8e",
   "metadata": {},
   "outputs": [
    {
     "name": "stdout",
     "output_type": "stream",
     "text": [
      "The number is smaller\n"
     ]
    }
   ],
   "source": [
    "number = int(input(\"Give a number: \"))\n",
    "\n",
    "is_larger = \"larger\" if number > 100 else \"smaller\"\n",
    "\n",
    "print(f\"The number is {is_larger}\")"
   ]
  },
  {
   "cell_type": "code",
   "execution_count": 23,
   "id": "39b897ef",
   "metadata": {},
   "outputs": [
    {
     "data": {
      "text/plain": [
       "['Peter Peterson, \"One, two, three!\", 23432, 234234']"
      ]
     },
     "execution_count": 23,
     "metadata": {},
     "output_type": "execute_result"
    }
   ],
   "source": [
    "def read_file(filename: str, remove_linefeeds=True):\n",
    "    result = []\n",
    "    with open(filename) as f:\n",
    "        for line in f:\n",
    "            if remove_linefeeds:\n",
    "                line = line.replace(\"\\n\", \"\")\n",
    "            result.append(line)\n",
    "\n",
    "    return result\n",
    "\n",
    "read_file(\"data.txt\")"
   ]
  },
  {
   "cell_type": "code",
   "execution_count": null,
   "id": "603c5cb9",
   "metadata": {},
   "outputs": [
    {
     "name": "stdout",
     "output_type": "stream",
     "text": [
      "Peter Paul Mary\n"
     ]
    }
   ],
   "source": [
    "# shortcut for creating a tuple - use an asterisk before a parameter in the function\n",
    "\n",
    "def print_names(*names):\n",
    "    for name in names:\n",
    "        print(name)\n",
    "\n",
    "print(\"Peter\", \"Paul\", \"Mary\")"
   ]
  },
  {
   "cell_type": "code",
   "execution_count": 1,
   "id": "81678a3b",
   "metadata": {},
   "outputs": [
    {
     "name": "stdout",
     "output_type": "stream",
     "text": [
      "0.6229016948897019\n"
     ]
    }
   ],
   "source": [
    "import random\n",
    "random.seed(5)\n",
    "print(random.random())"
   ]
  },
  {
   "cell_type": "code",
   "execution_count": 2,
   "id": "0fcf9538",
   "metadata": {},
   "outputs": [
    {
     "name": "stdout",
     "output_type": "stream",
     "text": [
      "14\n"
     ]
    }
   ],
   "source": [
    "from datetime import datetime\n",
    "\n",
    "date1 = datetime(2023, 10, 1)\n",
    "date2 = datetime(2023, 10, 15)\n",
    "difference = date2 - date1\n",
    "print(difference.days)"
   ]
  },
  {
   "cell_type": "code",
   "execution_count": 1,
   "id": "a273015c",
   "metadata": {},
   "outputs": [
    {
     "name": "stdout",
     "output_type": "stream",
     "text": [
      "inner: nonlocal\n",
      "outer: nonlocal\n"
     ]
    }
   ],
   "source": [
    "def outer():\n",
    "    x = \"local\"\n",
    "\n",
    "    def inner():\n",
    "        nonlocal x\n",
    "        x = \"nonlocal\"\n",
    "        print(\"inner:\", x)\n",
    "\n",
    "    inner()\n",
    "    print(\"outer:\", x)\n",
    "\n",
    "outer()"
   ]
  },
  {
   "cell_type": "code",
   "execution_count": 2,
   "id": "23dccd9b",
   "metadata": {},
   "outputs": [
    {
     "name": "stdout",
     "output_type": "stream",
     "text": [
      "{1, 2, 3, 4}\n",
      "{1, 2, 3, 4}\n"
     ]
    }
   ],
   "source": [
    "def add_to_set(s, element):\n",
    "    s.add(element)\n",
    "    return s\n",
    "\n",
    "my_set = {1, 2, 3}\n",
    "new_set = add_to_set(my_set, 4)\n",
    "print(my_set)\n",
    "print(new_set)"
   ]
  },
  {
   "cell_type": "code",
   "execution_count": 3,
   "id": "90b78a3d",
   "metadata": {},
   "outputs": [
    {
     "name": "stdout",
     "output_type": "stream",
     "text": [
      "[1]\n",
      "[1, 2]\n"
     ]
    }
   ],
   "source": [
    "def func(x, y=[]):\n",
    "    y.append(x)\n",
    "    return y\n",
    "\n",
    "print(func(1))\n",
    "print(func(2))"
   ]
  },
  {
   "cell_type": "markdown",
   "id": "e92108be",
   "metadata": {},
   "source": [
    "### Week 7 Class Exercise 1 - 5.15.25"
   ]
  },
  {
   "cell_type": "code",
   "execution_count": 1,
   "id": "c76dbe7d",
   "metadata": {},
   "outputs": [
    {
     "name": "stdout",
     "output_type": "stream",
     "text": [
      "Hypoteneuse of a right triangle with sides 3 and 4: 5.00\n",
      "Available punctuation characters: !\"#$%&'()*+,-./:;<=>?@[\\]^_`{|}~\n",
      "1/3 + 1/6 = 1/2\n"
     ]
    }
   ],
   "source": [
    "import math\n",
    "import string\n",
    "import fractions\n",
    "\n",
    "def calculate_hypoteneuse(a, b):\n",
    "    return math.sqrt(a**2 + b**2)\n",
    "\n",
    "print(f\"Hypoteneuse of a right triangle with sides 3 and 4: {calculate_hypoteneuse(3, 4):.2f}\")\n",
    "\n",
    "print(f\"Available punctuation characters: {string.punctuation}\")\n",
    "\n",
    "frac1 = fractions.Fraction(1, 3)\n",
    "frac2 = fractions.Fraction(1, 6)\n",
    "print(f\"{frac1} + {frac2} = {frac1 + frac2}\")"
   ]
  },
  {
   "cell_type": "markdown",
   "id": "fc0677e7",
   "metadata": {},
   "source": [
    "### Week 7 Class Exercise 2 - 5.15.25"
   ]
  },
  {
   "cell_type": "code",
   "execution_count": 2,
   "id": "387a99a9",
   "metadata": {},
   "outputs": [
    {
     "name": "stdout",
     "output_type": "stream",
     "text": [
      "Lottery numbers: [16, 33, 2, 3, 35, 28, 27]\n",
      "Simple password: ZJbRMPuJ1t\n",
      "Complex password: ^19pnBYco~I]\n"
     ]
    }
   ],
   "source": [
    "import random\n",
    "import string\n",
    "\n",
    "def generate_lottery_numbers(amount, lower, upper):\n",
    "    return random.sample(range(lower, upper + 1), amount)\n",
    "\n",
    "print(f\"Lottery numbers: {generate_lottery_numbers(7, 1, 40)}\")\n",
    "\n",
    "def generate_password(length, use_special_chars=False):\n",
    "    chars = string.ascii_letters + string.digits\n",
    "    if use_special_chars:\n",
    "        chars += string.punctuation\n",
    "    return ''.join(random.choice(chars) for _ in range(length))\n",
    "\n",
    "print(f\"Simple password: {generate_password(10)}\")\n",
    "print(f\"Complex password: {generate_password(12, True)}\")\n"
   ]
  },
  {
   "cell_type": "markdown",
   "id": "203163fb",
   "metadata": {},
   "source": [
    "### Week 7 Class Exercise 3 - 5.15.25"
   ]
  },
  {
   "cell_type": "code",
   "execution_count": 3,
   "id": "8c706a8c",
   "metadata": {},
   "outputs": [
    {
     "name": "stdout",
     "output_type": "stream",
     "text": [
      "Age of someone born on 1990-05-15: 35\n",
      "Total screen time on 2023-03-25: 4:15:00\n"
     ]
    }
   ],
   "source": [
    "from datetime import datetime, timedelta\n",
    "\n",
    "def calculate_age(birthdate):\n",
    "    today = datetime.now()\n",
    "    age = today.year - birthdate.year\n",
    "    if today.month < birthdate.month or (today.month == birthdate.month and today.day < birthdate.day):\n",
    "        age -= 1\n",
    "    return age\n",
    "\n",
    "print(f\"Age of someone born on 1990-05-15: {calculate_age(datetime(1990, 5, 15))}\")\n",
    "\n",
    "# Screen time tracker\n",
    "def log_screen_time(log, date, hours, minutes):\n",
    "    log[date] = log.get(date, timedelta()) + timedelta(hours=hours, minutes=minutes)\n",
    "    return log\n",
    "\n",
    "screen_time = {}\n",
    "screen_time = log_screen_time(screen_time, \"2023-03-25\", 2, 30)\n",
    "screen_time = log_screen_time(screen_time, \"2023-03-25\", 1, 45)\n",
    "print(f\"Total screen time on 2023-03-25: {screen_time['2023-03-25']}\")"
   ]
  },
  {
   "cell_type": "markdown",
   "id": "ea87e7e0",
   "metadata": {},
   "source": [
    "### Week 7 Class Exercise 4 - 5.15.25"
   ]
  },
  {
   "cell_type": "code",
   "execution_count": null,
   "id": "051e34d6",
   "metadata": {},
   "outputs": [],
   "source": [
    "import json\n",
    "def process_course_date(filename):\n",
    "    with open(filename, 'r') as file:\n",
    "        data = json.load(file)\n",
    "    \n",
    "    total_students = sum(course['students'] for course in data['courses'])\n",
    "    avg_exercises = sum(course['exercises'] for course in data['courses'])\n",
    "\n"
   ]
  },
  {
   "cell_type": "code",
   "execution_count": 4,
   "id": "76f08a6b",
   "metadata": {},
   "outputs": [
    {
     "name": "stdout",
     "output_type": "stream",
     "text": [
      "!dlroW ,olleH\n",
      "Pythn Prgrmmng\n"
     ]
    }
   ],
   "source": [
    "import string_helper\n",
    "print(string_helper.reverse(\"Hello, World!\"))\n",
    "print(string_helper.remove_vowels(\"Python Programming\"))"
   ]
  },
  {
   "cell_type": "markdown",
   "id": "caca04e4",
   "metadata": {},
   "source": [
    "### Week 7 Class Exercise 5 - 5.15.25"
   ]
  },
  {
   "cell_type": "code",
   "execution_count": 5,
   "id": "788272e5",
   "metadata": {},
   "outputs": [
    {
     "name": "stdout",
     "output_type": "stream",
     "text": [
      "Squares of numbers 0-9: [0, 1, 4, 9, 16, 25, 36, 49, 64, 81]\n"
     ]
    }
   ],
   "source": [
    "# List comprehension - condense code\n",
    "\n",
    "squares = [x**2 for x in range(10)]\n",
    "print(f\"Squares of numbers 0-9: {squares}\")"
   ]
  }
 ],
 "metadata": {
  "kernelspec": {
   "display_name": "Python 3",
   "language": "python",
   "name": "python3"
  },
  "language_info": {
   "codemirror_mode": {
    "name": "ipython",
    "version": 3
   },
   "file_extension": ".py",
   "mimetype": "text/x-python",
   "name": "python",
   "nbconvert_exporter": "python",
   "pygments_lexer": "ipython3",
   "version": "3.12.9"
  }
 },
 "nbformat": 4,
 "nbformat_minor": 5
}
