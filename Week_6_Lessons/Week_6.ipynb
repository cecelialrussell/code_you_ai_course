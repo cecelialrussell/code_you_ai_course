{
 "cells": [
  {
   "cell_type": "markdown",
   "id": "f532314b",
   "metadata": {},
   "source": [
    "### Week 6 Class Exercise 1"
   ]
  },
  {
   "cell_type": "code",
   "execution_count": 10,
   "id": "e3c61c8c",
   "metadata": {},
   "outputs": [
    {
     "name": "stdout",
     "output_type": "stream",
     "text": [
      "Skipping invalid line: 99 ####\n",
      "42\n"
     ]
    }
   ],
   "source": [
    "def find_largest_number(filename):\n",
    "    largest = float('-inf')  # -inf to be able to pick up infinite range\n",
    "    try:\n",
    "        with (open(filename, 'r')) as file:\n",
    "            for line in file:\n",
    "                try:\n",
    "                    num = int(line.strip())\n",
    "                    largest = max(largest, num)\n",
    "                except ValueError:\n",
    "                    print(f'Skipping invalid line: {line.strip()}')\n",
    "            return largest\n",
    "    except FileNotFoundError:\n",
    "        print(f\"File {filename} not found.\")\n",
    "\n",
    "print(find_largest_number('numbers.txt'))"
   ]
  },
  {
   "cell_type": "markdown",
   "id": "db8fa476",
   "metadata": {},
   "source": [
    "### Week 6 Class Exercise 2"
   ]
  },
  {
   "cell_type": "code",
   "execution_count": 11,
   "id": "4cefbe36",
   "metadata": {},
   "outputs": [
    {
     "name": "stdout",
     "output_type": "stream",
     "text": [
      "{'apple': 1.2, 'banana': 0.5, 'cherry': 2.5, 'orange': 1.0}\n"
     ]
    }
   ],
   "source": [
    "def process_fruit_prices(filename):\n",
    "    fruit_prices = {}\n",
    "    with open(filename, 'r') as file:\n",
    "        for line in file:\n",
    "            fruit, price = line.strip().split(';')\n",
    "            fruit_prices[fruit] = float(price)\n",
    "    return fruit_prices\n",
    "\n",
    "print(process_fruit_prices('fruits.csv'))"
   ]
  },
  {
   "cell_type": "markdown",
   "id": "3d9da75a",
   "metadata": {},
   "source": [
    "### Week 6 Class Exercise 3"
   ]
  },
  {
   "cell_type": "code",
   "execution_count": 12,
   "id": "ee368894",
   "metadata": {},
   "outputs": [
    {
     "name": "stdout",
     "output_type": "stream",
     "text": [
      "[[1, 2, 3], [4, 5, 6], [7, 8, 9]]\n"
     ]
    }
   ],
   "source": [
    "def read_matrix(filename):\n",
    "    matrix = []\n",
    "    with open(filename, 'r') as file:\n",
    "        for line in file:\n",
    "            row = [int(num) for num in line.strip().split(',')]\n",
    "            matrix.append(row)\n",
    "        return matrix\n",
    "\n",
    "print(read_matrix('matrix.txt'))"
   ]
  },
  {
   "cell_type": "markdown",
   "id": "0dd1b451",
   "metadata": {},
   "source": [
    "### Week 6 Class Exercise 4"
   ]
  },
  {
   "cell_type": "code",
   "execution_count": 14,
   "id": "2c43be5a",
   "metadata": {},
   "outputs": [],
   "source": [
    "def create_inscription():\n",
    "    name = input(\"Whom should I sign this to: \")\n",
    "    with open(\"inscription.txt\", \"w\") as file:\n",
    "        file.write(f\"Hi {name}, we hope you enjoy learning Python.\\n\")\n",
    "        file.write(\"Best wishes,\\n\")\n",
    "        file.write(\"The Python Team\\n\")\n",
    "\n",
    "create_inscription()"
   ]
  },
  {
   "cell_type": "markdown",
   "id": "99ee3701",
   "metadata": {},
   "source": [
    "### Week 6 Class Exercise 5"
   ]
  },
  {
   "cell_type": "code",
   "execution_count": null,
   "id": "224df2c3",
   "metadata": {},
   "outputs": [
    {
     "name": "stdout",
     "output_type": "stream",
     "text": [
      "Number saved!\n"
     ]
    }
   ],
   "source": [
    "def write_diary_entry():\n",
    "    entry = input(\"Diary entry: \")\n",
    "    with open(\"numbers.txt\", \"a\") as file:\n",
    "        file.write(f\"{entry}\\n\")\n",
    "    print(\"Number saved!\")\n",
    "\n",
    "write_diary_entry()"
   ]
  },
  {
   "cell_type": "markdown",
   "id": "18ebdfd8",
   "metadata": {},
   "source": [
    "### Week 6 Class Exercise 6"
   ]
  },
  {
   "cell_type": "code",
   "execution_count": 23,
   "id": "9cfdb2eb",
   "metadata": {},
   "outputs": [],
   "source": [
    "def filter_file_contents(input_file, output_file):\n",
    "    with open(input_file, 'r') as infile, open(output_file, 'w') as outfile:\n",
    "        for line in infile:\n",
    "            if 'code' not in line.lower():\n",
    "                outfile.write(line)\n",
    "\n",
    "filter_file_contents('original.txt', 'filtered.txt')"
   ]
  },
  {
   "cell_type": "markdown",
   "id": "b3dac2e6",
   "metadata": {},
   "source": [
    "### Week 6 Class Exercise 7"
   ]
  },
  {
   "cell_type": "code",
   "execution_count": 25,
   "id": "766525c5",
   "metadata": {},
   "outputs": [
    {
     "name": "stdout",
     "output_type": "stream",
     "text": [
      "Your age is 41\n"
     ]
    }
   ],
   "source": [
    "def read_integer(prompt, min_value, max_value):\n",
    "    while True:\n",
    "        try:\n",
    "            value = int(input(prompt))\n",
    "            if min_value <= value <= max_value:\n",
    "                return value\n",
    "            else:\n",
    "                print(f\"Please enter a number between {min_value} and {max_value}\")\n",
    "        except ValueError:\n",
    "            print(\"Invalid input. Please enter an integer.\")\n",
    "\n",
    "age = read_integer(\"Enter your age: \", 0, 120)\n",
    "print(f\"Your age is {age}\")"
   ]
  },
  {
   "cell_type": "markdown",
   "id": "4f55dfcf",
   "metadata": {},
   "source": [
    "### Week 6 Class Exercise 7"
   ]
  },
  {
   "cell_type": "code",
   "execution_count": 27,
   "id": "1b1115fe",
   "metadata": {},
   "outputs": [
    {
     "name": "stdout",
     "output_type": "stream",
     "text": [
      "Invalid lottery numbers: There must be 7 numbers\n"
     ]
    }
   ],
   "source": [
    "def validate_lottery_numbers(numbers):\n",
    "    if len(numbers) != 7:\n",
    "        raise ValueError(\"There must be 7 numbers\")\n",
    "    if len(set(numbers)) != 7:\n",
    "        raise ValueError(\"Numbers must be unique\")\n",
    "    if not all(1 <= num <= 39 for num in numbers):\n",
    "        raise ValueError(\"Numbers must be between 1 and 39\")\n",
    "    \n",
    "try:\n",
    "    validate_lottery_numbers([1, 2, 4, 5, 6, 7])\n",
    "    print(\"Valid lottery numbers\")\n",
    "except ValueError as e:\n",
    "    print(f\"Invalid lottery numbers: {e}\")"
   ]
  },
  {
   "cell_type": "markdown",
   "id": "12a07ba9",
   "metadata": {},
   "source": [
    "### Week 6 Class Exercise 8"
   ]
  },
  {
   "cell_type": "code",
   "execution_count": 31,
   "id": "13e0cc72",
   "metadata": {},
   "outputs": [
    {
     "name": "stdout",
     "output_type": "stream",
     "text": [
      "[('john', 10, ' Louisville'), ('Jane', 12, ' New York'), ('Gavin', 15, ' San Francisco')]\n"
     ]
    }
   ],
   "source": [
    "def read_csv_safely(filename):\n",
    "    data = []\n",
    "    try:\n",
    "        with open(filename, 'r') as file:\n",
    "            for line_num, line in enumerate(file, 1):\n",
    "                try:\n",
    "                    name, age, city = line.strip().split(',')\n",
    "                    age = int(age)\n",
    "                    data.append((name, age, city))\n",
    "                except ValueError:\n",
    "                    print(f\"Error on line {line_num}: Invalid format\")\n",
    "    except FileNotFoundError:\n",
    "        print(f\"File {filename} not found\")\n",
    "    except PermissionError:\n",
    "        print(f\"No permission to read {filename}\")\n",
    "    return data \n",
    "\n",
    "print(read_csv_safely('people.csv'))\n",
    "    "
   ]
  },
  {
   "cell_type": "code",
   "execution_count": null,
   "id": "d72d1f18",
   "metadata": {},
   "outputs": [],
   "source": []
  }
 ],
 "metadata": {
  "kernelspec": {
   "display_name": "Python 3",
   "language": "python",
   "name": "python3"
  },
  "language_info": {
   "codemirror_mode": {
    "name": "ipython",
    "version": 3
   },
   "file_extension": ".py",
   "mimetype": "text/x-python",
   "name": "python",
   "nbconvert_exporter": "python",
   "pygments_lexer": "ipython3",
   "version": "3.12.9"
  }
 },
 "nbformat": 4,
 "nbformat_minor": 5
}
