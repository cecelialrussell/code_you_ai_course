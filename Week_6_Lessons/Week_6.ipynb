{
 "cells": [
  {
   "cell_type": "markdown",
   "id": "f532314b",
   "metadata": {},
   "source": [
    "### Week 6 Class Exercise 1"
   ]
  },
  {
   "cell_type": "code",
   "execution_count": null,
   "id": "e3c61c8c",
   "metadata": {},
   "outputs": [
    {
     "name": "stdout",
     "output_type": "stream",
     "text": [
      "Skipping invalid line: 99 ####\n",
      "42\n"
     ]
    }
   ],
   "source": [
    "def find_largest_number(filename):\n",
    "    largest = float('-inf')  # -inf to be able to pick up infinite range\n",
    "    with (open(filename, 'r')) as file:\n",
    "        for line in file:\n",
    "            try:\n",
    "                num = int(line.strip())\n",
    "                largest = max(largest, num)\n",
    "            except ValueError:\n",
    "                print(f'Skipping invalid line: {line.strip()}')\n",
    "        return largest\n",
    "\n",
    "print(find_largest_number('numbers.txt'))"
   ]
  }
 ],
 "metadata": {
  "kernelspec": {
   "display_name": "Python 3",
   "language": "python",
   "name": "python3"
  },
  "language_info": {
   "codemirror_mode": {
    "name": "ipython",
    "version": 3
   },
   "file_extension": ".py",
   "mimetype": "text/x-python",
   "name": "python",
   "nbconvert_exporter": "python",
   "pygments_lexer": "ipython3",
   "version": "3.12.9"
  }
 },
 "nbformat": 4,
 "nbformat_minor": 5
}
