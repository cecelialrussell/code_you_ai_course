{
 "cells": [
  {
   "cell_type": "markdown",
   "id": "b77dc9a5",
   "metadata": {},
   "source": [
    "### Linear Regression"
   ]
  },
  {
   "cell_type": "code",
   "execution_count": null,
   "id": "9bd68ca4",
   "metadata": {},
   "outputs": [],
   "source": [
    "# y = mx or y = mx + c \n",
    "# (c is error factor)\n",
    "# In machine learning, the computer studies a data set and makes predictions through linear regression.\n",
    "# y = ((m1x1)+(m2x2)+(m3x3))+c/mx"
   ]
  },
  {
   "cell_type": "markdown",
   "id": "fc763b8e",
   "metadata": {},
   "source": [
    "### Neural Networks"
   ]
  },
  {
   "cell_type": "code",
   "execution_count": null,
   "id": "f1aa16ba",
   "metadata": {},
   "outputs": [],
   "source": [
    "# Input Layer, Hidden Layer, Output Layer\n",
    "# Neural Networks are much more accurate because they assign weights to equations\n",
    "# Higher weights are not necessarily assigned to more common values.\n",
    "# In a dataset - 80% of data is used for training and 20% is used for testing and optimization.\n",
    "# Curve is Activation Function\n",
    "# S Curve is Sigmoid Function\n",
    "# Deep Learning is running multiple layers of Neural Networks\n"
   ]
  }
 ],
 "metadata": {
  "language_info": {
   "name": "python"
  }
 },
 "nbformat": 4,
 "nbformat_minor": 5
}
