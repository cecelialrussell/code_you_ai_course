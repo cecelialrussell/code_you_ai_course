{
 "cells": [
  {
   "cell_type": "markdown",
   "id": "270426cf",
   "metadata": {},
   "source": [
    "### Task 1: Loading Transactions from a CSV File"
   ]
  },
  {
   "cell_type": "code",
   "execution_count": 2,
   "id": "2ba85cda",
   "metadata": {},
   "outputs": [
    {
     "name": "stdout",
     "output_type": "stream",
     "text": [
      "Error: The file 'financial_tranactions.csv' was not found.\n"
     ]
    }
   ],
   "source": [
    "# Read CSV file\n",
    "# Handle errors\n",
    "# Store data in lists/dictionaries\n",
    "# Parse dates\n",
    "# Debug file\n",
    "# Print the number of loaded transactions\n",
    "# Skip rows with invalid amounts and print a warning\n",
    "# Test with a CSV containing one bad date and verify it is skipped\n",
    "# Log errors to errors.txt\n",
    "\n",
    "import csv\n",
    "\n",
    "from datetime import datetime\n",
    "\n",
    "def load_transactions(filename = 'financial_tranactions.csv'):\n",
    "    transactions = []\n",
    "    try:\n",
    "        with open(filename, 'r', newline='') as file:\n",
    "            csv_reader = csv.DictReader(file)\n",
    "            for row in csv_reader:\n",
    "                transactions.append(row)\n",
    "    except FileNotFoundError:\n",
    "        print(f\"Error: The file '{filename}' was not found.\")\n",
    "        return None\n",
    "    except Exception as e:\n",
    "        print(f\"An error occurred: {e}\")\n",
    "        return None\n",
    "    return transactions\n",
    "\n",
    "load_transactions()"
   ]
  },
  {
   "cell_type": "markdown",
   "id": "66f7ff4d",
   "metadata": {},
   "source": [
    "### Task 2: Adding and Viewing Transactions"
   ]
  },
  {
   "cell_type": "code",
   "execution_count": null,
   "id": "dd1fff50",
   "metadata": {},
   "outputs": [],
   "source": [
    "# User input\n",
    "# Input validation\n",
    "# Functions\n",
    "# Looping through lists\n",
    "# Format output\n",
    "# Debug interactions\n",
    "# Reject invalid transaction types in add_transaction\n",
    "# Add an option to view_transactions to filter by type\n",
    "# Suggest customer IDs from existing transactions\n",
    "# Format dates as \"Oct 26, 2020\" in view_transactions\n",
    "\n",
    "def add_transaction(transactions):\n",
    "\n",
    "def view_transactions(transactions):\n",
    "    "
   ]
  },
  {
   "cell_type": "markdown",
   "id": "28198f0f",
   "metadata": {},
   "source": [
    "### Task 3: Updating and Deleting Transactions"
   ]
  },
  {
   "cell_type": "code",
   "execution_count": null,
   "id": "438a5caf",
   "metadata": {},
   "outputs": [],
   "source": [
    "# Looping through lists\n",
    "# Functions\n",
    "# List operations\n",
    "# Conditionals\n",
    "# Debug lists\n",
    "# Prevent invalid type updates in update_transaction\n",
    "# Show transaction details before deletion\n",
    "# Allow updating multiple fields at once\n",
    "# Add a cancel option for updates/deletions\n",
    "\n",
    "def update_transaction(transactions):\n",
    "\n",
    "\n",
    "def delete_transaction(transactions):"
   ]
  },
  {
   "cell_type": "markdown",
   "id": "39767370",
   "metadata": {},
   "source": [
    "### Analyzing Financial Data"
   ]
  },
  {
   "cell_type": "code",
   "execution_count": null,
   "id": "efc050fd",
   "metadata": {},
   "outputs": [],
   "source": [
    "# Looping\n",
    "# Dictionaries\n",
    "# Calculations\n",
    "# Formatting\n",
    "# Algorithms\n",
    "# Show the customer with the highest debit amount\n",
    "# Calculate percentage of total amount by type\n",
    "# Analyze transactions from 2022 only\n",
    "# Save analysis to analysis.txt\n",
    "\n",
    "def analyze_finances(transactions):"
   ]
  },
  {
   "cell_type": "markdown",
   "id": "1907b951",
   "metadata": {},
   "source": [
    "### Task 5: Saving Transactions and Generating Reports"
   ]
  },
  {
   "cell_type": "code",
   "execution_count": null,
   "id": "f1829ba7",
   "metadata": {},
   "outputs": [],
   "source": [
    "# Writing CSV files\n",
    "# File error handling\n",
    "# Formatting\n",
    "# Debug file output\n",
    "# Add a timestamp to the file report name\n",
    "# Back up the original CSV before saving\n",
    "# Include transaction date range in report\n",
    "# Handle file-writing errors\n",
    "\n",
    "def save_transactions(transactions, filename='financial_transactions.csv'):\n",
    "\n",
    "def generate_report(transactions, filename='report.txt'):"
   ]
  }
 ],
 "metadata": {
  "kernelspec": {
   "display_name": "Python 3",
   "language": "python",
   "name": "python3"
  },
  "language_info": {
   "codemirror_mode": {
    "name": "ipython",
    "version": 3
   },
   "file_extension": ".py",
   "mimetype": "text/x-python",
   "name": "python",
   "nbconvert_exporter": "python",
   "pygments_lexer": "ipython3",
   "version": "3.12.9"
  }
 },
 "nbformat": 4,
 "nbformat_minor": 5
}
