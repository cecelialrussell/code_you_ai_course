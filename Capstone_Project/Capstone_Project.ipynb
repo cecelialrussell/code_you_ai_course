{
 "cells": [
  {
   "cell_type": "markdown",
   "id": "6a9ffc52",
   "metadata": {},
   "source": [
    "### Smart Personal Finance Analyzer - AI Capstone Project"
   ]
  },
  {
   "cell_type": "code",
   "execution_count": 5,
   "id": "d27f3e90",
   "metadata": {},
   "outputs": [
    {
     "name": "stdout",
     "output_type": "stream",
     "text": [
      "Log file 'errors.txt' has been created/cleared.\n",
      "\n",
      "--- Financial Transaction Manager Menu ---\n",
      "1. Load Transactions\n",
      "2. Add Transactions\n",
      "3. View Transactions\n",
      "4. Update Transactions\n",
      "5. Delete Transactions\n",
      "9. Exit\n",
      "Invalid choice. Please enter a number between 1 and 9.\n",
      "\n",
      "--- Financial Transaction Manager Menu ---\n",
      "1. Load Transactions\n",
      "2. Add Transactions\n",
      "3. View Transactions\n",
      "4. Update Transactions\n",
      "5. Delete Transactions\n",
      "9. Exit\n",
      "Exiting Financial Transaction Manager. Goodbye!\n"
     ]
    }
   ],
   "source": [
    "import personal_finance_lib8\n",
    "\n",
    "personal_finance_lib8.main()"
   ]
  }
 ],
 "metadata": {
  "kernelspec": {
   "display_name": "Python 3",
   "language": "python",
   "name": "python3"
  },
  "language_info": {
   "codemirror_mode": {
    "name": "ipython",
    "version": 3
   },
   "file_extension": ".py",
   "mimetype": "text/x-python",
   "name": "python",
   "nbconvert_exporter": "python",
   "pygments_lexer": "ipython3",
   "version": "3.12.9"
  }
 },
 "nbformat": 4,
 "nbformat_minor": 5
}
