{
 "cells": [
  {
   "cell_type": "markdown",
   "id": "270426cf",
   "metadata": {},
   "source": [
    "### Task 1: Loading Transactions from a CSV File"
   ]
  },
  {
   "cell_type": "code",
   "execution_count": 25,
   "id": "2ba85cda",
   "metadata": {},
   "outputs": [
    {
     "name": "stdout",
     "output_type": "stream",
     "text": [
      "--- Add New Transaction ---\n",
      "Transaction 21 added successfully!\n",
      "Date: 05/24/2025\n",
      "Customer ID: 542\n",
      "Amount: 165.03\n",
      "Transaction Type: credit\n",
      "Description: test transaction\n"
     ]
    }
   ],
   "source": [
    "import csv\n",
    "from datetime import datetime\n",
    "\n",
    "def add_transactions(filename = 'financial_transactions_short.csv'):\n",
    "    transactions = []\n",
    "    try:\n",
    "        with open(filename, 'r', newline='') as file:\n",
    "            csv_reader = csv.DictReader(file)\n",
    "            for row in csv_reader:\n",
    "                transactions.append(row)                \n",
    "    except FileNotFoundError:\n",
    "        print(f\"Error: The file '{filename}' was not found.\")\n",
    "        return None\n",
    "    transaction_count = len(transactions)\n",
    "\n",
    "    print(\"--- Add New Transaction ---\")\n",
    "    \n",
    "    transaction_id = transaction_count + 1\n",
    "    transaction_date = datetime.now()\n",
    "    date = transaction_date.strftime(\"%m/%d/%Y\")\n",
    "    customer_id = input(\"Please enter your numeric customer id: \")\n",
    "    type = input(\"Enter transaction type (e.g. - credit or debit): \").strip()\n",
    "    \n",
    "    if not type:\n",
    "        print(\"Transaction type cannot be empty. Aborting...\")\n",
    "        return\n",
    "    \n",
    "    while True:\n",
    "        amount_str = input(\"Enter amount: \").strip()\n",
    "        try:\n",
    "            amount = float(amount_str)\n",
    "            break\n",
    "        except ValueError:\n",
    "            print(\"Invalid amount. Please enter numerical value.\")\n",
    "    \n",
    "    description = input(\"Enter description for transaction: \").strip()\n",
    "\n",
    "\n",
    "    new_row = {'transaction_id': transaction_id, 'date': date, 'customer_id': customer_id, 'amount': amount, 'type': type, 'description': description}\n",
    "\n",
    "    try:\n",
    "        fieldnames = ['transaction_id', 'date', 'customer_id', 'amount', 'type', 'description']\n",
    "        with open(filename, 'a', newline='') as file:\n",
    "            writer = csv.DictWriter(file, fieldnames=fieldnames)\n",
    "            if file.tell() == 0:\n",
    "                writer.writeheader()\n",
    "            writer.writerow(new_row)\n",
    "        print(f\"Transaction {transaction_id} added successfully!\")\n",
    "        print(f\"Date: {date}\")\n",
    "        print(f\"Customer ID: {customer_id}\")\n",
    "        print(f\"Amount: {amount}\")\n",
    "        print(f\"Transaction Type: {type}\")\n",
    "        print(f\"Description: {description}\")\n",
    "    except IOError as e:\n",
    "        print(f\"Error writing to file '{filename}': {e}\")\n",
    "\n",
    "def load_transactions(filename = 'financial_transactions_short.csv'):\n",
    "    ERROR_LOG_FILE = 'errors.txt'\n",
    "    try:\n",
    "        with open(ERROR_LOG_FILE, 'w') as f:\n",
    "            f.write(f\"[{datetime.now()}] --- Transaction Processing Log Started ---\\n\")\n",
    "        print(f\"Log file '{ERROR_LOG_FILE}' has been created/cleared.\")\n",
    "    except IOError as e:\n",
    "        print(f\"Failed to initialize error log file '{ERROR_LOG_FILE}': {e}\")\n",
    "    \n",
    "    transactions = []\n",
    "    \n",
    "    try:\n",
    "        with open(filename, 'r', newline='') as file:\n",
    "            csv_reader = csv.DictReader(file)\n",
    "            for row in csv_reader:\n",
    "                transactions.append(row)                \n",
    "    except FileNotFoundError:\n",
    "        print(f\"Error: The file '{filename}' was not found.\")\n",
    "        return None\n",
    "    \n",
    "    for item in transactions:\n",
    "        date_str = item['date']\n",
    "        try:\n",
    "            parsed_date = datetime.strptime(date_str, \"%Y-%m-%d\")\n",
    "        except ValueError:\n",
    "            try:\n",
    "                parsed_date = datetime.strptime(date_str, \"%d-%m-%Y\")\n",
    "            except ValueError:\n",
    "                try:\n",
    "                    parsed_date = datetime.strptime(date_str, \"%m/%d/%Y\")\n",
    "                except ValueError:\n",
    "                    parsed_date = None\n",
    "\n",
    "        if parsed_date:\n",
    "            item['date'] = parsed_date.strftime(\"%Y, %M, %d\")\n",
    "        else:\n",
    "            with open(ERROR_LOG_FILE, 'a') as f:\n",
    "                f.write(f\"Error: Skipping transaction {item['transaction_id']}. Invalid date.\\n\")\n",
    "\n",
    "    for item in transactions:\n",
    "        try:\n",
    "            if not item['amount'] or item['amount'].strip() ==\"\":\n",
    "                new_amount = 0.0\n",
    "                print(f\"Warning: Empty amount found for transaction {item['transaction_id']}. Setting to 0.0\")\n",
    "            else:\n",
    "                new_amount = float(item['amount'])\n",
    "            \n",
    "            if item['type'] == \"debit\":\n",
    "                item['amount'] = new_amount * -1\n",
    "            elif item['type'] == \"credit\":\n",
    "                item['amount'] = new_amount            \n",
    "        except ValueError:\n",
    "            with open(ERROR_LOG_FILE, 'a') as f:\n",
    "                f.write(f\"Error: Could not convert amount to float in transaction {item['transaction_id']}. Invalid amount.\")\n",
    "\n",
    "\n",
    "\n",
    "    print(f\"There are {len(transactions)} transactions.\")\n",
    "    print(f\"Transaction processing complete. Check {ERROR_LOG_FILE} for any logged issues.\")\n",
    "\n",
    "    return transactions\n",
    "\n",
    "       \n",
    "add_transactions()\n"
   ]
  },
  {
   "cell_type": "code",
   "execution_count": null,
   "id": "1b2c82e8",
   "metadata": {},
   "outputs": [],
   "source": []
  },
  {
   "cell_type": "markdown",
   "id": "66f7ff4d",
   "metadata": {},
   "source": [
    "### Task 2: Adding and Viewing Transactions"
   ]
  },
  {
   "cell_type": "code",
   "execution_count": null,
   "id": "dd1fff50",
   "metadata": {},
   "outputs": [],
   "source": [
    "# User input\n",
    "# Input validation\n",
    "# Functions\n",
    "# Looping through lists\n",
    "# Format output\n",
    "# Debug interactions\n",
    "# Reject invalid transaction types in add_transaction\n",
    "# Add an option to view_transactions to filter by type\n",
    "# Suggest customer IDs from existing transactions\n",
    "# Format dates as \"Oct 26, 2020\" in view_transactions\n",
    "\n",
    "def add_transaction(transactions):\n",
    "\n",
    "def view_transactions(transactions):\n",
    "    "
   ]
  },
  {
   "cell_type": "markdown",
   "id": "28198f0f",
   "metadata": {},
   "source": [
    "### Task 3: Updating and Deleting Transactions"
   ]
  },
  {
   "cell_type": "code",
   "execution_count": null,
   "id": "438a5caf",
   "metadata": {},
   "outputs": [],
   "source": [
    "# Looping through lists\n",
    "# Functions\n",
    "# List operations\n",
    "# Conditionals\n",
    "# Debug lists\n",
    "# Prevent invalid type updates in update_transaction\n",
    "# Show transaction details before deletion\n",
    "# Allow updating multiple fields at once\n",
    "# Add a cancel option for updates/deletions\n",
    "\n",
    "def update_transaction(transactions):\n",
    "\n",
    "\n",
    "def delete_transaction(transactions):"
   ]
  },
  {
   "cell_type": "markdown",
   "id": "39767370",
   "metadata": {},
   "source": [
    "### Analyzing Financial Data"
   ]
  },
  {
   "cell_type": "code",
   "execution_count": null,
   "id": "efc050fd",
   "metadata": {},
   "outputs": [],
   "source": [
    "# Looping\n",
    "# Dictionaries\n",
    "# Calculations\n",
    "# Formatting\n",
    "# Algorithms\n",
    "# Show the customer with the highest debit amount\n",
    "# Calculate percentage of total amount by type\n",
    "# Analyze transactions from 2022 only\n",
    "# Save analysis to analysis.txt\n",
    "\n",
    "def analyze_finances(transactions):"
   ]
  },
  {
   "cell_type": "markdown",
   "id": "1907b951",
   "metadata": {},
   "source": [
    "### Task 5: Saving Transactions and Generating Reports"
   ]
  },
  {
   "cell_type": "code",
   "execution_count": null,
   "id": "f1829ba7",
   "metadata": {},
   "outputs": [],
   "source": [
    "# Writing CSV files\n",
    "# File error handling\n",
    "# Formatting\n",
    "# Debug file output\n",
    "# Add a timestamp to the file report name\n",
    "# Back up the original CSV before saving\n",
    "# Include transaction date range in report\n",
    "# Handle file-writing errors\n",
    "\n",
    "def save_transactions(transactions, filename='financial_transactions.csv'):\n",
    "\n",
    "def generate_report(transactions, filename='report.txt'):"
   ]
  }
 ],
 "metadata": {
  "kernelspec": {
   "display_name": "Python 3",
   "language": "python",
   "name": "python3"
  },
  "language_info": {
   "codemirror_mode": {
    "name": "ipython",
    "version": 3
   },
   "file_extension": ".py",
   "mimetype": "text/x-python",
   "name": "python",
   "nbconvert_exporter": "python",
   "pygments_lexer": "ipython3",
   "version": "3.12.9"
  }
 },
 "nbformat": 4,
 "nbformat_minor": 5
}
