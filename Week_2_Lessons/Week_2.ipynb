{
 "cells": [
  {
   "cell_type": "markdown",
   "id": "12b26529",
   "metadata": {},
   "source": [
    "### Grade Classification System"
   ]
  },
  {
   "cell_type": "code",
   "execution_count": null,
   "id": "0b5f6ee8",
   "metadata": {},
   "outputs": [],
   "source": [
    "score = float(input(\"Enter Test Score (0-100: )\"))\n",
    "\n",
    "if score < 0 or score > 100 :\n",
    "    print(\"Invalid score!\")\n",
    "elif score >= 90:\n",
    "    print(\"Grade: A\")\n",
    "elif score >= 80:\n",
    "    print(\"Grade: B\")\n",
    "elif score >= 70:\n",
    "    print(\"Grade: C\")\n",
    "else:\n",
    "    print(\"Needs improvement!\")\n",
    "\n",
    "\n",
    "\n"
   ]
  },
  {
   "cell_type": "code",
   "execution_count": null,
   "id": "033f2cbb",
   "metadata": {},
   "outputs": [],
   "source": [
    "name = \"Alice\" #Assignment statement\n",
    "age_after_decade = 25 + 10 # expression\n",
    "\n",
    "# Function definition\n",
    "\n",
    "def greet(user): # function header\n",
    "    print(f\"Hello, {user}!\") #code block indented\n",
    "\n"
   ]
  },
  {
   "cell_type": "markdown",
   "id": "9dcbebe2",
   "metadata": {},
   "source": [
    "### Create flowchart for code below and submit to Slack."
   ]
  },
  {
   "cell_type": "code",
   "execution_count": null,
   "id": "bc6a1604",
   "metadata": {},
   "outputs": [],
   "source": [
    "is_member = True\n",
    "purchase_amount = 150\n",
    "\n",
    "if is_member and purchase_amount > 100:\n",
    "    print(\"Eligible for premium discount.\")\n",
    "elif is_member or purchase_amount > 200:\n",
    "    print(\"Standard discount available.\")\n",
    "else:\n",
    "    print(\"No discount available.\")"
   ]
  },
  {
   "cell_type": "code",
   "execution_count": null,
   "id": "7078fbe1",
   "metadata": {},
   "outputs": [],
   "source": [
    "age = int(input(\"Enter your age: \"))\n",
    "is_student = input(\"Are you a student (yes/no): \").lower() == 'yes'\n",
    "\n",
    "if (age < 18 and is_student) or age >= 65:\n",
    "    print(\"Eligible for discount Ticket\")\n",
    "else:\n",
    "    print(\"Not eligible for discount ticket\")"
   ]
  },
  {
   "cell_type": "code",
   "execution_count": null,
   "id": "4003d775",
   "metadata": {},
   "outputs": [],
   "source": [
    "print(\"\\n AND operator Truth Table\")\n",
    "print(\"a\\tb\\t a and b\")\n",
    "for a in [False, True]:\n",
    "    for b in [False, True]:\n",
    "        print(f\"{a}\\t{b}\\t {a and b}\")\n"
   ]
  },
  {
   "cell_type": "code",
   "execution_count": null,
   "id": "93f226c7",
   "metadata": {},
   "outputs": [],
   "source": [
    "# number guessing game\n",
    "\n",
    "import random\n",
    "secret_number = random.randint(1, 10)\n",
    "\n",
    "while True:\n",
    "    guess = int(input(\"Guess the secret number (1-10): \"))\n",
    "    if guess == secret_number:\n",
    "        print(\"Congratulations! You guessed the right number.\")\n",
    "        break\n",
    "    elif guess < secret_number:\n",
    "        print(\"Too low! Try again.\")\n",
    "    else:\n",
    "        print(\"Too high! Try again.\")\n"
   ]
  },
  {
   "cell_type": "code",
   "execution_count": null,
   "id": "0957f69b",
   "metadata": {},
   "outputs": [],
   "source": [
    "valid = False\n",
    "\n",
    "while not valid:\n",
    "    try:\n",
    "        user_age = int(input(\"Enter age (0-120): \"))\n",
    "        if 0 <= user_age <= 120:\n",
    "            print(f\"Age {user_age} is valid.\")\n",
    "            valid = True\n",
    "        else:\n",
    "            print(\"age is out of range\")\n",
    "    except ValueError:\n",
    "        print(\"Invalid input. Please enter a number.\")"
   ]
  },
  {
   "cell_type": "code",
   "execution_count": null,
   "id": "c7a7c5ec",
   "metadata": {},
   "outputs": [
    {
     "name": "stdout",
     "output_type": "stream",
     "text": [
      "10\n",
      "9\n",
      "8\n",
      "7\n",
      "6\n",
      "5\n",
      "4\n",
      "3\n",
      "2\n",
      "1\n"
     ]
    }
   ],
   "source": [
    "# Debugging examples (commented out)\n",
    "# ----------------------------------\n",
    "# Example 1: Infinite loop \n",
    "count = 10\n",
    "while count > 0:\n",
    "    print(count)\n",
    "    count -= 1\n",
    "    # Missing count decrement\n"
   ]
  },
  {
   "cell_type": "markdown",
   "id": "2c84e717",
   "metadata": {},
   "source": [
    "### Programming Terminology - Fix the syntax"
   ]
  },
  {
   "cell_type": "code",
   "execution_count": 3,
   "id": "c9a8d68a",
   "metadata": {},
   "outputs": [
    {
     "name": "stdout",
     "output_type": "stream",
     "text": [
      "The number was greater than one hundred\n",
      "Now its value has decreased by one hundred\n",
      "Its value is now 1\n",
      "1 must be my lucky number!\n",
      "Have a nice day!\n"
     ]
    }
   ],
   "source": [
    "number = int(input(\"Please type in a number: \"))\n",
    "\n",
    "if number > 100:\n",
    "    print(\"The number was greater than one hundred\")\n",
    "    number = number - 100\n",
    "    print(\"Now its value has decreased by one hundred\")\n",
    "    print(f\"Its value is now {number}\")\n",
    "print(f\"{number} must be my lucky number!\")\n",
    "print(\"Have a nice day!\")"
   ]
  },
  {
   "cell_type": "markdown",
   "id": "ca7a682b",
   "metadata": {},
   "source": [
    "### Programming Terminology - Number of Characters"
   ]
  },
  {
   "cell_type": "code",
   "execution_count": 10,
   "id": "31ec3554",
   "metadata": {},
   "outputs": [
    {
     "name": "stdout",
     "output_type": "stream",
     "text": [
      "Thank you!\n"
     ]
    }
   ],
   "source": [
    "word = input(\"Please type a word: \")\n",
    "length = len(word)\n",
    "\n",
    "if length > 1:\n",
    "    print(f\"There are {length} letters in the word {word}\")\n",
    "    \n",
    "print(\"Thank you!\")"
   ]
  },
  {
   "cell_type": "markdown",
   "id": "034f3754",
   "metadata": {},
   "source": [
    "### More About Conditional Statements - Age of Maturity"
   ]
  },
  {
   "cell_type": "code",
   "execution_count": 4,
   "id": "174d053b",
   "metadata": {},
   "outputs": [
    {
     "name": "stdout",
     "output_type": "stream",
     "text": [
      "You are of age!\n"
     ]
    }
   ],
   "source": [
    "age = int(input(\"How old are you? \"))\n",
    "\n",
    "if age >= 18:\n",
    "    print(\"You are of age!\")\n",
    "else:\n",
    "    print(\"You are not of age!\")"
   ]
  },
  {
   "cell_type": "markdown",
   "id": "167ad5fb",
   "metadata": {},
   "source": [
    "### More About Conditional Statements - Greater than or equal to"
   ]
  },
  {
   "cell_type": "code",
   "execution_count": 7,
   "id": "581087a9",
   "metadata": {},
   "outputs": [
    {
     "name": "stdout",
     "output_type": "stream",
     "text": [
      "The numbers are equal!\n"
     ]
    }
   ],
   "source": [
    "number1 = int(input(\"Please type in the first number: \"))\n",
    "number2 = int(input(\"Please type in another number: \"))\n",
    "\n",
    "if number1 > number2:\n",
    "    print(f\"The greater number was: {number1}\")\n",
    "elif number2 > number1:\n",
    "    print(f\"The greater number was: {number2}\")\n",
    "else:\n",
    "    print(\"The numbers are equal!\")"
   ]
  },
  {
   "cell_type": "markdown",
   "id": "4135508b",
   "metadata": {},
   "source": [
    "### More About Conditional Statements - Elder"
   ]
  },
  {
   "cell_type": "code",
   "execution_count": 10,
   "id": "50ff78dd",
   "metadata": {},
   "outputs": [
    {
     "name": "stdout",
     "output_type": "stream",
     "text": [
      "Person 1:\n",
      "Name: Bill\n",
      "Age: 1\n",
      "Person 2:\n",
      "Name: Jean\n",
      "Age: 1\n",
      "Bill and Jean are the same age\n"
     ]
    }
   ],
   "source": [
    "person1 = input(\"Please enter the name of the first person: \")\n",
    "person1_age = int(input(f\"How old is {person1}?\"))\n",
    "person2 = input(\"Please enter the name of the second person: \")\n",
    "person2_age = int(input(f\"How old is {person2}?\"))\n",
    "\n",
    "print(f\"Person 1:\")\n",
    "print(f\"Name: {person1}\")\n",
    "print(f\"Age: {person1_age}\")\n",
    "print(f\"Person 2:\")\n",
    "print(f\"Name: {person2}\")\n",
    "print(f\"Age: {person2_age}\")\n",
    "if person1_age > person2_age:\n",
    "    print(f\"The elder is {person1}\")\n",
    "elif person2_age > person1_age:\n",
    "    print(f\"The elder is {person2}\")\n",
    "else:\n",
    "    print(f\"{person1} and {person2} are the same age\")"
   ]
  },
  {
   "cell_type": "markdown",
   "id": "845f4cbd",
   "metadata": {},
   "source": [
    "### More About Conditional Statements - Alphabetically Last"
   ]
  },
  {
   "cell_type": "code",
   "execution_count": 17,
   "id": "6254c017",
   "metadata": {},
   "outputs": [
    {
     "name": "stdout",
     "output_type": "stream",
     "text": [
      "Please type in the 1st word: python\n",
      "Please type in the 2nd word: python\n",
      "You gave the same word twice.\n"
     ]
    }
   ],
   "source": [
    "word1 = input(\"Please type in the 1st word: \")\n",
    "word2 = input(\"Please type in the 2nd word: \")\n",
    "\n",
    "if word1 > word2:\n",
    "    print(f\"Please type in the 1st word: {word1}\")\n",
    "    print(f\"Please type in the 2nd word: {word2}\")\n",
    "    print(f\"{word1} comes alphabetically last.\")\n",
    "elif word2 > word1:\n",
    "    print(f\"Please type in the 1st word: {word1}\")\n",
    "    print(f\"Please type in the 2nd word: {word2}\")\n",
    "    print(f\"{word2} comes alphabetically last.\")\n",
    "else:\n",
    "    print(f\"Please type in the 1st word: {word1}\")\n",
    "    print(f\"Please type in the 2nd word: {word2}\")\n",
    "    print(f\"You gave the same word twice.\")"
   ]
  },
  {
   "cell_type": "markdown",
   "id": "04b04489",
   "metadata": {},
   "source": [
    "### Combining Conditional Statements - Age Check"
   ]
  },
  {
   "cell_type": "code",
   "execution_count": 20,
   "id": "aa521493",
   "metadata": {},
   "outputs": [
    {
     "name": "stdout",
     "output_type": "stream",
     "text": [
      "What is your age? -4\n",
      "That must be a mistake\n"
     ]
    }
   ],
   "source": [
    "age = int(input(\"What is your age? \"))\n",
    "\n",
    "print(f\"What is your age? {age}\")\n",
    "if age >= 5 and age <= 120:\n",
    "    print(f\"Okay, you're {age} years old\")\n",
    "elif age < 5 and age > 0:\n",
    "    print(f\"I suspect you can't write quite yet...\")\n",
    "else:\n",
    "    print(\"That must be a mistake\")\n"
   ]
  },
  {
   "cell_type": "markdown",
   "id": "5e6c09b3",
   "metadata": {},
   "source": [
    "### Combining Conditional Statements - Nephews"
   ]
  },
  {
   "cell_type": "code",
   "execution_count": 23,
   "id": "48732f0e",
   "metadata": {},
   "outputs": [
    {
     "name": "stdout",
     "output_type": "stream",
     "text": [
      "Please type in your name: Ken\n",
      "You're not a nephew of any character I know of.\n"
     ]
    }
   ],
   "source": [
    "name = input(\"Please type in your name: \")\n",
    "\n",
    "print(f\"Please type in your name: {name}\")\n",
    "\n",
    "if name == \"Dewey\" or name == \"Louie\":\n",
    "    print(f\"I think you might be one of Donald Duck's newphews.\")\n",
    "elif name == \"Morty\" or name == \"Ferdie\":\n",
    "    print(f\"I think you might be one of Mickey Mouse's nephews.\")\n",
    "else:\n",
    "    print(f\"You're not a nephew of any character I know of.\")"
   ]
  },
  {
   "cell_type": "markdown",
   "id": "ee386d7c",
   "metadata": {},
   "source": [
    "### Combining Conditional Statements - Grades and Points"
   ]
  },
  {
   "cell_type": "code",
   "execution_count": 31,
   "id": "66986afd",
   "metadata": {},
   "outputs": [
    {
     "name": "stdout",
     "output_type": "stream",
     "text": [
      "How many points [0-100]: -3\n",
      "impossible!\n"
     ]
    }
   ],
   "source": [
    "points = input(\"How many points [0-100]: \")\n",
    "\n",
    "print(f\"How many points [0-100]: {points}\")\n",
    "if float(points) < 0 or float(points) > 100:\n",
    "    print(\"impossible!\")\n",
    "elif float(points) >= 0 and float(points) <= 49:\n",
    "    print(\"fail\")\n",
    "elif float(points) >= 50 and float(points) <= 59:\n",
    "    print(f\"Grade: 1\")\n",
    "elif float(points) >= 60 and float(points) <= 69:\n",
    "    print(f\"Grade: 2\")\n",
    "elif float(points) >= 70 and float(points) <= 79:\n",
    "    print(f\"Grade: 3\")\n",
    "elif float(points) >= 80 and float(points) <= 89:\n",
    "    print(f\"Grade: 4\")\n",
    "else:\n",
    "    print(f\"Grade: 5\")"
   ]
  },
  {
   "cell_type": "markdown",
   "id": "d6f7b4fc",
   "metadata": {},
   "source": [
    "### Combining Conditional Statements - FizzBuzz"
   ]
  },
  {
   "cell_type": "code",
   "execution_count": 34,
   "id": "258a37c6",
   "metadata": {},
   "outputs": [
    {
     "name": "stdout",
     "output_type": "stream",
     "text": [
      "Number: 20\n",
      "Buzz\n"
     ]
    }
   ],
   "source": [
    "number = int(input(\"Please enter a number: \"))\n",
    "\n",
    "print(f\"Number: {number}\")\n",
    "if number % 3 == 0:\n",
    "    print(\"Fizz\")\n",
    "elif number % 5 == 0:\n",
    "    print(\"Buzz\")\n",
    "elif number % 3 == 0 and number % 5 == 0:\n",
    "    print(\"FizzBuzz\")"
   ]
  },
  {
   "cell_type": "markdown",
   "id": "b64fd355",
   "metadata": {},
   "source": [
    "### Combining Conditional Statements - Leap Year"
   ]
  },
  {
   "cell_type": "code",
   "execution_count": 49,
   "id": "49046f4b",
   "metadata": {},
   "outputs": [
    {
     "name": "stdout",
     "output_type": "stream",
     "text": [
      "Please type in a year: 1800\n",
      "That year is not a leap year.\n"
     ]
    }
   ],
   "source": [
    "year = int(input(\"Please type in a year: \"))\n",
    "\n",
    "print(f\"Please type in a year: {year}\")\n",
    "if (year % 4 == 0 and year % 100 != 0) or (year % 400 == 0):\n",
    "    print(f\"That year is a leap year.\")\n",
    "else:\n",
    "    print(\"That year is not a leap year.\")"
   ]
  },
  {
   "cell_type": "markdown",
   "id": "7f4de48b",
   "metadata": {},
   "source": [
    "### Combining Conditional Statements - Alphabetically in the Middle"
   ]
  },
  {
   "cell_type": "code",
   "execution_count": 51,
   "id": "027eb02c",
   "metadata": {},
   "outputs": [
    {
     "name": "stdout",
     "output_type": "stream",
     "text": [
      "The letter in the middle is B\n"
     ]
    }
   ],
   "source": [
    "letter1 = input(\"Please enter the 1st letter: \")\n",
    "letter2 = input(\"Please enter the 2nd letter: \")\n",
    "letter3 = input(\"Please enter the 3rd letter: \")\n",
    "\n",
    "if (letter1 <= letter2 and letter1 >= letter3) or (letter1 >= letter2 and letter1 <= letter3):\n",
    "    print(f\"The letter in the middle is {letter1}\")\n",
    "elif (letter2 <= letter1 and letter2 >= letter3) or (letter2 >= letter1 and letter2 <= letter3):\n",
    "    print(f\"The letter in the middle is {letter2}\")\n",
    "else:\n",
    "    print(f\"The letter in the middle is {letter3}\")"
   ]
  },
  {
   "cell_type": "markdown",
   "id": "8b8e29ab",
   "metadata": {},
   "source": [
    "### Combining Conditional Statements - Gift Tax Calculator"
   ]
  },
  {
   "cell_type": "code",
   "execution_count": 4,
   "id": "68392896",
   "metadata": {},
   "outputs": [
    {
     "name": "stdout",
     "output_type": "stream",
     "text": [
      "Value of gift: 27500\n",
      "Amount of tax: 1950.0 euros\n"
     ]
    }
   ],
   "source": [
    "gift = int(input(\"What is the value of the gift: \"))\n",
    "\n",
    "print(f\"Value of gift: {gift}\")\n",
    "if gift >= 5000 and gift <= 25000:\n",
    "    lower_limit = 100\n",
    "    tax_rate = .08\n",
    "    taxes = (lower_limit + (gift - 5000) * .08)\n",
    "    if lower_limit > taxes:\n",
    "        print(f\"Amount of tax: {lower_limit} euros\")\n",
    "    else:\n",
    "        print(f\"Amount of tax: {taxes} euros\")\n",
    "elif gift >= 25000 and gift <= 55000:\n",
    "    lower_limit = 1700\n",
    "    tax_rate = .10\n",
    "    taxes = (lower_limit + (gift - 25000) * .10)\n",
    "    if lower_limit > taxes:\n",
    "        print(f\"Amount of tax: {lower_limit} euros\")\n",
    "    else:\n",
    "        print(f\"Amount of tax: {taxes} euros\")\n",
    "elif gift >= 55000 and gift <= 200000:\n",
    "    lower_limit = 4700\n",
    "    tax_rate = .12\n",
    "    taxes = (lower_limit + (gift - 55000) * .12)\n",
    "    if lower_limit > taxes:\n",
    "        print(f\"Amount of tax: {lower_limit} euros\")\n",
    "    else:\n",
    "        print(f\"Amount of tax: {taxes} euros\")\n",
    "elif gift >= 200000 and gift <= 1000000:\n",
    "    lower_limit = 22100\n",
    "    tax_rate = .15\n",
    "    taxes: (lower_limit + (gift - 200000) * .15)\n",
    "    if lower_limit > taxes:\n",
    "        print(f\"Amount of tax: {lower_limit} euros\")\n",
    "    else:\n",
    "        print(f\"Amount of tax: {taxes} euros\")\n",
    "elif gift > 1000000:\n",
    "    lower_limit = 142100\n",
    "    tax_rate = .17\n",
    "    taxes = (lower_limit (gift - 1000000) * .17)\n",
    "    if lower_limit > taxes:\n",
    "        print(f\"Amount of tax: {lower_limit} euros\")\n",
    "    else:\n",
    "        print(f\"Amount of tax: {taxes} euros\")\n",
    "else:\n",
    "    print(\"No tax!\")"
   ]
  }
 ],
 "metadata": {
  "kernelspec": {
   "display_name": "Python 3",
   "language": "python",
   "name": "python3"
  },
  "language_info": {
   "codemirror_mode": {
    "name": "ipython",
    "version": 3
   },
   "file_extension": ".py",
   "mimetype": "text/x-python",
   "name": "python",
   "nbconvert_exporter": "python",
   "pygments_lexer": "ipython3",
   "version": "3.12.9"
  }
 },
 "nbformat": 4,
 "nbformat_minor": 5
}
