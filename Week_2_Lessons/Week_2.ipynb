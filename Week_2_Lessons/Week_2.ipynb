{
 "cells": [
  {
   "cell_type": "markdown",
   "id": "12b26529",
   "metadata": {},
   "source": [
    "### Grade Classification System"
   ]
  },
  {
   "cell_type": "code",
   "execution_count": null,
   "id": "0b5f6ee8",
   "metadata": {},
   "outputs": [],
   "source": [
    "score = float(input(\"Enter Test Score (0-100: )\"))\n",
    "\n",
    "if score < 0 or score > 100 :\n",
    "    print(\"Invalid score!\")\n",
    "elif score >= 90:\n",
    "    print(\"Grade: A\")\n",
    "elif score >= 80:\n",
    "    print(\"Grade: B\")\n",
    "elif score >= 70:\n",
    "    print(\"Grade: C\")\n",
    "else:\n",
    "    print(\"Needs improvement!\")\n",
    "\n",
    "\n",
    "\n"
   ]
  },
  {
   "cell_type": "code",
   "execution_count": null,
   "id": "033f2cbb",
   "metadata": {},
   "outputs": [],
   "source": [
    "name = \"Alice\" #Assignment statement\n",
    "age_after_decade = 25 + 10 # expression\n",
    "\n",
    "# Function definition\n",
    "\n",
    "def greet(user): # function header\n",
    "    print(f\"Hello, {user}!\") #code block indented\n",
    "\n"
   ]
  },
  {
   "cell_type": "markdown",
   "id": "9dcbebe2",
   "metadata": {},
   "source": [
    "### Create flowchart for code below and submit to Slack."
   ]
  },
  {
   "cell_type": "code",
   "execution_count": null,
   "id": "bc6a1604",
   "metadata": {},
   "outputs": [],
   "source": [
    "is_member = True\n",
    "purchase_amount = 150\n",
    "\n",
    "if is_member and purchase_amount > 100:\n",
    "    print(\"Eligible for premium discount.\")\n",
    "elif is_member or purchase_amount > 200:\n",
    "    print(\"Standard discount available.\")\n",
    "else:\n",
    "    print(\"No discount available.\")"
   ]
  },
  {
   "cell_type": "code",
   "execution_count": null,
   "id": "7078fbe1",
   "metadata": {},
   "outputs": [],
   "source": [
    "age = int(input(\"Enter your age: \"))\n",
    "is_student = input(\"Are you a student (yes/no): \").lower() == 'yes'\n",
    "\n",
    "if (age < 18 and is_student) or age >= 65:\n",
    "    print(\"Eligible for discount Ticket\")\n",
    "else:\n",
    "    print(\"Not eligible for discount ticket\")"
   ]
  },
  {
   "cell_type": "code",
   "execution_count": null,
   "id": "4003d775",
   "metadata": {},
   "outputs": [],
   "source": [
    "print(\"\\n AND operator Truth Table\")\n",
    "print(\"a\\tb\\t a and b\")\n",
    "for a in [False, True]:\n",
    "    for b in [False, True]:\n",
    "        print(f\"{a}\\t{b}\\t {a and b}\")\n"
   ]
  },
  {
   "cell_type": "code",
   "execution_count": null,
   "id": "93f226c7",
   "metadata": {},
   "outputs": [],
   "source": [
    "# number guessing game\n",
    "\n",
    "import random\n",
    "secret_number = random.randint(1, 10)\n",
    "\n",
    "while True:\n",
    "    guess = int(input(\"Guess the secret number (1-10): \"))\n",
    "    if guess == secret_number:\n",
    "        print(\"Congratulations! You guessed the right number.\")\n",
    "        break\n",
    "    elif guess < secret_number:\n",
    "        print(\"Too low! Try again.\")\n",
    "    else:\n",
    "        print(\"Too high! Try again.\")\n"
   ]
  },
  {
   "cell_type": "code",
   "execution_count": null,
   "id": "0957f69b",
   "metadata": {},
   "outputs": [],
   "source": [
    "valid = False\n",
    "\n",
    "while not valid:\n",
    "    try:\n",
    "        user_age = int(input(\"Enter age (0-120): \"))\n",
    "        if 0 <= user_age <= 120:\n",
    "            print(f\"Age {user_age} is valid.\")\n",
    "            valid = True\n",
    "        else:\n",
    "            print(\"age is out of range\")\n",
    "    except ValueError:\n",
    "        print(\"Invalid input. Please enter a number.\")"
   ]
  },
  {
   "cell_type": "code",
   "execution_count": null,
   "id": "c7a7c5ec",
   "metadata": {},
   "outputs": [
    {
     "name": "stdout",
     "output_type": "stream",
     "text": [
      "10\n",
      "9\n",
      "8\n",
      "7\n",
      "6\n",
      "5\n",
      "4\n",
      "3\n",
      "2\n",
      "1\n"
     ]
    }
   ],
   "source": [
    "# Debugging examples (commented out)\n",
    "# ----------------------------------\n",
    "# Example 1: Infinite loop \n",
    "count = 10\n",
    "while count > 0:\n",
    "    print(count)\n",
    "    count -= 1\n",
    "    # Missing count decrement\n"
   ]
  },
  {
   "cell_type": "markdown",
   "id": "2c84e717",
   "metadata": {},
   "source": [
    "### Programming Terminology - Fix the syntax"
   ]
  },
  {
   "cell_type": "code",
   "execution_count": 3,
   "id": "c9a8d68a",
   "metadata": {},
   "outputs": [
    {
     "name": "stdout",
     "output_type": "stream",
     "text": [
      "The number was greater than one hundred\n",
      "Now its value has decreased by one hundred\n",
      "Its value is now 1\n",
      "1 must be my lucky number!\n",
      "Have a nice day!\n"
     ]
    }
   ],
   "source": [
    "number = int(input(\"Please type in a number: \"))\n",
    "\n",
    "if number > 100:\n",
    "    print(\"The number was greater than one hundred\")\n",
    "    number = number - 100\n",
    "    print(\"Now its value has decreased by one hundred\")\n",
    "    print(f\"Its value is now {number}\")\n",
    "print(f\"{number} must be my lucky number!\")\n",
    "print(\"Have a nice day!\")"
   ]
  },
  {
   "cell_type": "markdown",
   "id": "ca7a682b",
   "metadata": {},
   "source": [
    "### Programming Terminology - Number of Characters"
   ]
  },
  {
   "cell_type": "code",
   "execution_count": 10,
   "id": "31ec3554",
   "metadata": {},
   "outputs": [
    {
     "name": "stdout",
     "output_type": "stream",
     "text": [
      "Thank you!\n"
     ]
    }
   ],
   "source": [
    "word = input(\"Please type a word: \")\n",
    "length = len(word)\n",
    "\n",
    "if length > 1:\n",
    "    print(f\"There are {length} letters in the word {word}\")\n",
    "    \n",
    "print(\"Thank you!\")"
   ]
  },
  {
   "cell_type": "markdown",
   "id": "62b3d41d",
   "metadata": {},
   "source": [
    "### Programming Terminology - Typecasting"
   ]
  }
 ],
 "metadata": {
  "kernelspec": {
   "display_name": "Python 3",
   "language": "python",
   "name": "python3"
  },
  "language_info": {
   "codemirror_mode": {
    "name": "ipython",
    "version": 3
   },
   "file_extension": ".py",
   "mimetype": "text/x-python",
   "name": "python",
   "nbconvert_exporter": "python",
   "pygments_lexer": "ipython3",
   "version": "3.12.9"
  }
 },
 "nbformat": 4,
 "nbformat_minor": 5
}
