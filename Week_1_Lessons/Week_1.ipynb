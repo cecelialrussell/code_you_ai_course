{
 "cells": [
  {
   "cell_type": "markdown",
   "id": "6c6069b5",
   "metadata": {},
   "source": [
    "## A program that prints the \"Hello, world!\" message.\n",
    "\n",
    "### A welcome message."
   ]
  },
  {
   "cell_type": "code",
   "execution_count": 6,
   "id": "32fb74c4",
   "metadata": {},
   "outputs": [
    {
     "name": "stdout",
     "output_type": "stream",
     "text": [
      "Hello, world\n"
     ]
    }
   ],
   "source": [
    "print(\"Hello, world\")"
   ]
  },
  {
   "cell_type": "markdown",
   "id": "7eca5ee1",
   "metadata": {},
   "source": [
    "### TODO: ask user their name and save it as a file."
   ]
  },
  {
   "cell_type": "markdown",
   "id": "d9d9bb82",
   "metadata": {},
   "source": [
    "### Collect input for x and print statement."
   ]
  },
  {
   "cell_type": "code",
   "execution_count": 7,
   "id": "8a44acf4",
   "metadata": {},
   "outputs": [
    {
     "name": "stdout",
     "output_type": "stream",
     "text": [
      "The value of x is 17\n"
     ]
    }
   ],
   "source": [
    "x = input()\n",
    "print(\"The value of x is\", x)"
   ]
  },
  {
   "cell_type": "markdown",
   "id": "d72eed33",
   "metadata": {},
   "source": [
    "### The code below is concatenating two strings instead of performing math because inputs are string variables."
   ]
  },
  {
   "cell_type": "code",
   "execution_count": 8,
   "id": "e6580edb",
   "metadata": {},
   "outputs": [
    {
     "name": "stdout",
     "output_type": "stream",
     "text": [
      "17 + 19 = 1719\n"
     ]
    }
   ],
   "source": [
    "x = input(\"x: \")\n",
    "y = input(\"y: \")\n",
    "print(x, \"+\", y, \"=\", x+y)"
   ]
  },
  {
   "cell_type": "markdown",
   "id": "012971a2",
   "metadata": {},
   "source": [
    "### The code below captures two separate variable types (integer and float). Then it performs math and prints a statement."
   ]
  },
  {
   "cell_type": "code",
   "execution_count": 9,
   "id": "82db7f4a",
   "metadata": {},
   "outputs": [
    {
     "name": "stdout",
     "output_type": "stream",
     "text": [
      "x =  17\n",
      "y =  -19.12\n",
      "x+y =  -2.120000000000001\n",
      "This is a string: \"-2.120000000000001\"\n"
     ]
    }
   ],
   "source": [
    "x = int(input())\n",
    "y = float(input())\n",
    "print(\"x = \", x)\n",
    "print(\"y = \", y)\n",
    "print(\"x+y = \", x+y)\n",
    "z = 'This is a string: \"' + str(x+y) + '\"'\n",
    "print(z)"
   ]
  },
  {
   "cell_type": "markdown",
   "id": "dfdce0ba",
   "metadata": {},
   "source": [
    "### The code below assigns an integer value to a variable, prints a statement, updates the variable using a mathematical formula, and prints a new statement with a new value."
   ]
  },
  {
   "cell_type": "code",
   "execution_count": 10,
   "id": "34827b45",
   "metadata": {},
   "outputs": [
    {
     "name": "stdout",
     "output_type": "stream",
     "text": [
      "The value of x was 17\n",
      "The value of x is 19\n"
     ]
    }
   ],
   "source": [
    "x = 17\n",
    "print(\"The value of x was\", x)\n",
    "x = x + 2\n",
    "print(\"The value of x is\", x)"
   ]
  },
  {
   "cell_type": "markdown",
   "id": "13accc72",
   "metadata": {},
   "source": [
    "### The various code below demonstrates simple division, floored division, and modulo"
   ]
  },
  {
   "cell_type": "code",
   "execution_count": 12,
   "id": "c48717e0",
   "metadata": {},
   "outputs": [
    {
     "name": "stdout",
     "output_type": "stream",
     "text": [
      "2.5\n",
      "2\n",
      "1\n",
      "-4\n"
     ]
    }
   ],
   "source": [
    "a = 5/2\n",
    "print(a)\n",
    "5//2\n",
    "a = 5//2\n",
    "print(a)\n",
    "5 % 2\n",
    "a = 5 % 2\n",
    "print(a)\n",
    "-7//2\n",
    "a = -7//2\n",
    "print(a)"
   ]
  },
  {
   "cell_type": "markdown",
   "id": "bba2f0bd",
   "metadata": {},
   "source": [
    "### Getting Started - Emoticon"
   ]
  },
  {
   "cell_type": "code",
   "execution_count": 1,
   "id": "0fecad49",
   "metadata": {},
   "outputs": [
    {
     "name": "stdout",
     "output_type": "stream",
     "text": [
      ":-)\n"
     ]
    }
   ],
   "source": [
    "print(\":-)\")"
   ]
  },
  {
   "cell_type": "markdown",
   "id": "c3327ea7",
   "metadata": {},
   "source": [
    "### Getting Started - Seven Brothers"
   ]
  },
  {
   "cell_type": "code",
   "execution_count": 2,
   "id": "9e467763",
   "metadata": {},
   "outputs": [
    {
     "name": "stdout",
     "output_type": "stream",
     "text": [
      "Aapo\n",
      "Eero\n",
      "Juhani\n",
      "Lauri\n",
      "Simeoni\n",
      "Timo\n",
      "Tuomas\n"
     ]
    }
   ],
   "source": [
    "print(\"Aapo\")\n",
    "print(\"Eero\")\n",
    "print(\"Juhani\")\n",
    "print(\"Lauri\")\n",
    "print(\"Simeoni\")\n",
    "print(\"Timo\")\n",
    "print(\"Tuomas\")"
   ]
  },
  {
   "cell_type": "markdown",
   "id": "18d11855",
   "metadata": {},
   "source": [
    "### Getting Started - Row, Row Your Boat"
   ]
  },
  {
   "cell_type": "code",
   "execution_count": 3,
   "id": "097d8be4",
   "metadata": {},
   "outputs": [
    {
     "name": "stdout",
     "output_type": "stream",
     "text": [
      "Row, row, row your boat, Gently down the stream. Merrily,\n",
      "merrily, merrily, merrily, Life is but a dream.\n"
     ]
    }
   ],
   "source": [
    "print(\"Row, row, row your boat, Gently down the stream. Merrily,\")\n",
    "print(\"merrily, merrily, merrily, Life is but a dream.\")"
   ]
  },
  {
   "cell_type": "markdown",
   "id": "811ff122",
   "metadata": {},
   "source": [
    "### Getting Started - Arithmetic"
   ]
  },
  {
   "cell_type": "code",
   "execution_count": 4,
   "id": "aed627ba",
   "metadata": {},
   "outputs": [
    {
     "name": "stdout",
     "output_type": "stream",
     "text": [
      "7\n",
      "9\n",
      "22\n"
     ]
    }
   ],
   "source": [
    "print(2 + 5)\n",
    "print(3 * 3)\n",
    "print(2 + 2 * 10)"
   ]
  },
  {
   "cell_type": "markdown",
   "id": "c0b06842",
   "metadata": {},
   "source": [
    "### Input from User - Name Twice"
   ]
  },
  {
   "cell_type": "code",
   "execution_count": null,
   "id": "96f9494d",
   "metadata": {},
   "outputs": [
    {
     "name": "stdout",
     "output_type": "stream",
     "text": [
      "Paul\n"
     ]
    }
   ],
   "source": [
    "name = input(\"What is your name? \")\n",
    "print(name)\n",
    "print(name)"
   ]
  },
  {
   "cell_type": "markdown",
   "id": "c1e73d90",
   "metadata": {},
   "source": [
    "### Input from User - Name and Exclamation Marks"
   ]
  },
  {
   "cell_type": "code",
   "execution_count": 6,
   "id": "477b846b",
   "metadata": {},
   "outputs": [
    {
     "name": "stdout",
     "output_type": "stream",
     "text": [
      "!Paul!Paul!\n"
     ]
    }
   ],
   "source": [
    "name = input(\"What is your name? \")\n",
    "print(\"!\" + name + \"!\" + name + \"!\")"
   ]
  },
  {
   "cell_type": "markdown",
   "id": "e85cac7a",
   "metadata": {},
   "source": [
    "### Inpupt from User - Name and Address"
   ]
  },
  {
   "cell_type": "code",
   "execution_count": 10,
   "id": "c585905c",
   "metadata": {},
   "outputs": [
    {
     "name": "stdout",
     "output_type": "stream",
     "text": [
      "Given name: Steve\n",
      "Family name: Sanders\n",
      "Street address: 91 Station Road\n",
      "City and postal code: London EC05 6AW\n",
      "Steve Sanders\n",
      "91 Station Road\n",
      "London EC05 6AW\n"
     ]
    }
   ],
   "source": [
    "givenName = input(\"What is your given name? \")\n",
    "familyName = input(\"What is your family name? \")\n",
    "streetAddress = input(\"What is your street address? \")\n",
    "cityAndPostalCode = input(\"What is your City and Postal Code? \")\n",
    "\n",
    "print(\"Given name: \" + givenName)\n",
    "print(\"Family name: \" + familyName)\n",
    "print(\"Street address: \" + streetAddress)\n",
    "print(\"City and postal code: \" + cityAndPostalCode)\n",
    "\n",
    "print(givenName + \" \" + familyName)\n",
    "print(streetAddress)\n",
    "print(cityAndPostalCode)"
   ]
  },
  {
   "cell_type": "markdown",
   "id": "c44ed346",
   "metadata": {},
   "source": [
    "### Input from User - Fix the Code: Utterances"
   ]
  },
  {
   "cell_type": "code",
   "execution_count": 11,
   "id": "4672466d",
   "metadata": {},
   "outputs": [
    {
     "name": "stdout",
     "output_type": "stream",
     "text": [
      "The 1st part: hickory\n",
      "The 2nd part: dickory\n",
      "The 3rd part: dock\n",
      "hickory-dickory-dock!\n"
     ]
    }
   ],
   "source": [
    "firstPart = input(\"What is the 1st part? \")\n",
    "secondPart = input(\"What is the second part? \")\n",
    "thirdPart = input(\"What is the third part? \")\n",
    "\n",
    "print(\"The 1st part: \" + firstPart)\n",
    "print(\"The 2nd part: \" + secondPart)\n",
    "print(\"The 3rd part: \" + thirdPart)\n",
    "print(firstPart + \"-\" + secondPart + \"-\" + thirdPart + \"!\")"
   ]
  },
  {
   "cell_type": "markdown",
   "id": "9c58e4d9",
   "metadata": {},
   "source": [
    "### Input from User - Fix the Code: Utterances"
   ]
  },
  {
   "cell_type": "code",
   "execution_count": 16,
   "id": "e68868b2",
   "metadata": {},
   "outputs": [
    {
     "name": "stdout",
     "output_type": "stream",
     "text": [
      "Mary is a valiant knight, born in the year 1572. One\n",
      "morning Mary woke up to an awful racket: a dragon was\n",
      "approaching the village. Only Mary could save the\n",
      "village's residents.\n"
     ]
    }
   ],
   "source": [
    "name = input(\"What is the character's name? \")\n",
    "year = input(\"What year did the story happen? \")\n",
    "print(name + \" is a valiant knight, born in the year \" + year +\". One\") \n",
    "print(\"morning \" + name + \" woke up to an awful racket: a dragon was\") \n",
    "print(\"approaching the village. Only \" + name + \" could save the\") \n",
    "print(\"village's residents.\")"
   ]
  },
  {
   "cell_type": "markdown",
   "id": "c8ee5cd7",
   "metadata": {},
   "source": [
    "### More about variables - Extra Space:"
   ]
  },
  {
   "cell_type": "code",
   "execution_count": 20,
   "id": "24d977f7",
   "metadata": {},
   "outputs": [
    {
     "name": "stdout",
     "output_type": "stream",
     "text": [
      "my name is Tim Tester, I am 20 years old\n",
      "\n",
      "my skills are\n",
      "- python (beginner)\n",
      "- java (veteran)\n",
      "- programming (semiprofessional)\n",
      "\n",
      "I am looking for a job with a salary of 2000-3000, euros per month\n"
     ]
    }
   ],
   "source": [
    "name = \"Tim Tester\"\n",
    "age = 20\n",
    "skill1 = \"python\"\n",
    "level1 = \"beginner\"\n",
    "skill2 = \"java\"\n",
    "level2 = \"veteran\"\n",
    "skill3 = \"programming\"\n",
    "level3 = \"semiprofessional\"\n",
    "lower = 2000\n",
    "upper = 3000\n",
    "\n",
    "print(f\"my name is {name}, I am {age} years old\\n\")\n",
    "print(\"my skills are\")\n",
    "print(f\"- {skill1} ({level1})\")\n",
    "print(f\"- {skill2} ({level2})\")\n",
    "print(f\"- {skill3} ({level3})\\n\")\n",
    "print(f\"I am looking for a job with a salary of {lower}-{upper}, euros per month\")"
   ]
  },
  {
   "cell_type": "markdown",
   "id": "233420b8",
   "metadata": {},
   "source": [
    "### More about variables - Fix the code: Print a single line"
   ]
  },
  {
   "cell_type": "code",
   "execution_count": 22,
   "id": "bc16ccf3",
   "metadata": {},
   "outputs": [
    {
     "name": "stdout",
     "output_type": "stream",
     "text": [
      "5 + 8 - 4 = 9\n"
     ]
    }
   ],
   "source": [
    "print(5, end=\"\")\n",
    "print(\" + \", end=\"\")\n",
    "print(8, end=\"\")\n",
    "print(\" - \", end=\"\")\n",
    "print(4, end=\"\")\n",
    "print(\" = \", end=\"\")\n",
    "print(5 + 8 - 4)"
   ]
  },
  {
   "cell_type": "markdown",
   "id": "a84dde89",
   "metadata": {},
   "source": [
    "### Arithmetic Operations - Times five"
   ]
  },
  {
   "cell_type": "code",
   "execution_count": 23,
   "id": "5170bb31",
   "metadata": {},
   "outputs": [
    {
     "name": "stdout",
     "output_type": "stream",
     "text": [
      "3 times 5 is 15\n"
     ]
    }
   ],
   "source": [
    "number1 = int(input(\"Please enter a number: \"))\n",
    "number2 = 5\n",
    "calculation = number1 * number2\n",
    "print(f\"{number1} times {number2} is {calculation}\") \n",
    "\n"
   ]
  },
  {
   "cell_type": "markdown",
   "id": "a160ed5e",
   "metadata": {},
   "source": [
    "### Arithmetic Operations - Name and age"
   ]
  },
  {
   "cell_type": "code",
   "execution_count": null,
   "id": "bbe05ccd",
   "metadata": {},
   "outputs": [
    {
     "name": "stdout",
     "output_type": "stream",
     "text": [
      "Hi, Cecelia, you will be 42 years old at the end of the year 2025.\n"
     ]
    }
   ],
   "source": [
    "name = input(\"What is your name? \")\n",
    "year = int(input(\"What year were you born? \"))\n",
    "age = 2025 - year\n",
    "print(f\"Hi {name}, you will be {age} years old at the end of the year 2025.\")"
   ]
  },
  {
   "cell_type": "markdown",
   "id": "0afaea8a",
   "metadata": {},
   "source": [
    "### Arithmetic Operations - Seconds in a day"
   ]
  },
  {
   "cell_type": "code",
   "execution_count": 25,
   "id": "4b968dab",
   "metadata": {},
   "outputs": [
    {
     "name": "stdout",
     "output_type": "stream",
     "text": [
      "Seconds in that many days: 432000\n"
     ]
    }
   ],
   "source": [
    "days = int(input(\"How many days on vacation? \" ))\n",
    "secondsInDay = (24*60)*60\n",
    "calculation = days * secondsInDay\n",
    "print(f\"Seconds in that many days: {calculation}\")"
   ]
  },
  {
   "cell_type": "markdown",
   "id": "fd8f15c4",
   "metadata": {},
   "source": [
    "### Arithmetic Operations - Fix the code: Product"
   ]
  },
  {
   "cell_type": "code",
   "execution_count": 26,
   "id": "db6e50bc",
   "metadata": {},
   "outputs": [
    {
     "name": "stdout",
     "output_type": "stream",
     "text": [
      "The product is 30.\n"
     ]
    }
   ],
   "source": [
    "number1 = int(input(\"What is the first number? \"))\n",
    "number2 = int(input(\"What is the second number? \"))\n",
    "number3 = int(input(\"What is the third number? \"))\n",
    "calculation = number1 * number2 * number3\n",
    "print(f\"The product is {calculation}.\")"
   ]
  },
  {
   "cell_type": "markdown",
   "id": "79d84a79",
   "metadata": {},
   "source": [
    "### Arithmetic Operations - Sum and product"
   ]
  },
  {
   "cell_type": "code",
   "execution_count": 27,
   "id": "0fe25ee9",
   "metadata": {},
   "outputs": [
    {
     "name": "stdout",
     "output_type": "stream",
     "text": [
      "The sum of the numbers: 10\n",
      "The product of the numbers: 21\n"
     ]
    }
   ],
   "source": [
    "number1 = int(input(\"What is the first number? \"))\n",
    "number2 = int(input(\"What is the second number? \"))\n",
    "sum = number1 + number2\n",
    "product = number1 * number2\n",
    "print(f\"The sum of the numbers: {sum}\")\n",
    "print(f\"The product of the numbers: {product}\")"
   ]
  },
  {
   "cell_type": "markdown",
   "id": "df50b3aa",
   "metadata": {},
   "source": [
    "### Arithmetic Operations - Sum and mean"
   ]
  },
  {
   "cell_type": "code",
   "execution_count": 30,
   "id": "2efb86d2",
   "metadata": {},
   "outputs": [
    {
     "name": "stdout",
     "output_type": "stream",
     "text": [
      "The sum of the numbers is 16 and the mean is 4.0\n"
     ]
    }
   ],
   "source": [
    "number1 = int(input(\"What is the first number? \"))\n",
    "number2 = int(input(\"What is the second number? \"))\n",
    "number3 = int(input(\"What is the third number? \"))\n",
    "number4 = int(input(\"What is the fourth number? \"))\n",
    "sum = number1 + number2 + number3 + number4\n",
    "mean = sum/4\n",
    "print(f\"The sum of the numbers is {sum} and the mean is {mean}\")"
   ]
  },
  {
   "cell_type": "markdown",
   "id": "c3f22eff",
   "metadata": {},
   "source": [
    "### Arithmetic Operations - Students in groups"
   ]
  },
  {
   "cell_type": "code",
   "execution_count": 32,
   "id": "c344edff",
   "metadata": {},
   "outputs": [
    {
     "name": "stdout",
     "output_type": "stream",
     "text": [
      "Number of groups formed: 2\n"
     ]
    }
   ],
   "source": [
    "students = int(input(\"How many students on the course? \"))\n",
    "groupSize = int(input(\"Desired group size? \"))\n",
    "numberOfGroups = int(students/groupSize)\n",
    "print(f\"Number of groups formed: {numberOfGroups}\")"
   ]
  },
  {
   "cell_type": "markdown",
   "id": "53782768",
   "metadata": {},
   "source": [
    "### Class Example 4.10.25"
   ]
  },
  {
   "cell_type": "code",
   "execution_count": 1,
   "id": "96979858",
   "metadata": {},
   "outputs": [
    {
     "name": "stdout",
     "output_type": "stream",
     "text": [
      "You are an adult.\n"
     ]
    }
   ],
   "source": [
    "age = int(input(\"What's you age?\"))\n",
    "if age >= 18:\n",
    "    print(\"You are an adult.\")\n",
    "else:\n",
    "    print(\"You are a child.\")"
   ]
  },
  {
   "cell_type": "markdown",
   "id": "82a1c258",
   "metadata": {},
   "source": [
    "### Conditional Statements - Orwell"
   ]
  },
  {
   "cell_type": "code",
   "execution_count": null,
   "id": "f55ae645",
   "metadata": {},
   "outputs": [],
   "source": [
    "number = int(input(\"Please type in a number: \"))\n",
    "\n",
    "if number == 1984:\n",
    "    print(\"Orwell\")"
   ]
  },
  {
   "cell_type": "markdown",
   "id": "ac8a7656",
   "metadata": {},
   "source": [
    "### Conditional Statements - Absolute value"
   ]
  },
  {
   "cell_type": "code",
   "execution_count": 4,
   "id": "7bcfd835",
   "metadata": {},
   "outputs": [
    {
     "name": "stdout",
     "output_type": "stream",
     "text": [
      "The absolute value of this number is 99\n"
     ]
    }
   ],
   "source": [
    "number = int(input(\"Please type in a number: \"))\n",
    "\n",
    "if number < 0:\n",
    "    absolute_value = number * -1\n",
    "    print(f\"The absolute value of this number is {absolute_value}\")\n",
    "else:\n",
    "    print(f\"The absolute value of this number is {number}\")"
   ]
  },
  {
   "cell_type": "markdown",
   "id": "85382d42",
   "metadata": {},
   "source": [
    "### Conditional Statements - Soup or no soup"
   ]
  },
  {
   "cell_type": "code",
   "execution_count": 8,
   "id": "53f9ea46",
   "metadata": {},
   "outputs": [
    {
     "name": "stdout",
     "output_type": "stream",
     "text": [
      "The total cost is 11.8\n",
      "Next please!\n"
     ]
    }
   ],
   "source": [
    "name = input(\"What is your name? \")\n",
    "\n",
    "if name == \"Jerry\":\n",
    "    print(\"Next please!\")\n",
    "else:\n",
    "    portions = int(input(\"How many portions of soup? \"))\n",
    "    cost = portions * 5.9\n",
    "    print(f\"The total cost is {cost}\")\n",
    "    print(\"Next please!\")"
   ]
  },
  {
   "cell_type": "markdown",
   "id": "59126e78",
   "metadata": {},
   "source": [
    "### Conditional Statements - Order of Magnitude"
   ]
  },
  {
   "cell_type": "code",
   "execution_count": 14,
   "id": "4c490c59",
   "metadata": {},
   "outputs": [
    {
     "name": "stdout",
     "output_type": "stream",
     "text": [
      "Thank you!\n"
     ]
    }
   ],
   "source": [
    "number = int(input(\"Please type in a number: \"))\n",
    "\n",
    "if number < 1000 and number >= 100:\n",
    "    print(\"This number is smaller than 1000\")\n",
    "    print(\"Thank you!\")\n",
    "elif number < 100 and number >= 10:\n",
    "    print(\"This number is smaller than 1000\")\n",
    "    print(\"This number is smaller than 100\")\n",
    "    print(\"Thank you!\")\n",
    "elif number < 10:\n",
    "    print(\"This number is smaller than 1000\")\n",
    "    print(\"This number is smaller than 100\")\n",
    "    print(\"This number is smaller than 10\")\n",
    "    print(\"Thank you!\")\n",
    "else:\n",
    "    print(\"Thank you!\")"
   ]
  },
  {
   "cell_type": "markdown",
   "id": "22755e58",
   "metadata": {},
   "source": [
    "### Conditional Statements - Calculator"
   ]
  },
  {
   "cell_type": "code",
   "execution_count": 20,
   "id": "7d3ab7fd",
   "metadata": {},
   "outputs": [
    {
     "name": "stdout",
     "output_type": "stream",
     "text": [
      "6 + 8 = 14\n",
      "6 - 8 = -2\n",
      "6 * 8 = 48\n"
     ]
    }
   ],
   "source": [
    "number1 = int(input(\"Enter Number 1: \"))\n",
    "number2 = int(input(\"Enter Number 2: \"))\n",
    "is_integer = isinstance(number1, int) and isinstance(number2, int)\n",
    "\n",
    "if is_integer == True:\n",
    "    suma = number1 + number2\n",
    "    sumb = number1 - number2 \n",
    "    product = number1 * number2\n",
    "    print(f\"{number1} + {number2} = {suma}\")\n",
    "    print(f\"{number1} - {number2} = {sumb}\")\n",
    "    print(f\"{number1} * {number2} = {product}\")\n",
    "\n"
   ]
  },
  {
   "cell_type": "markdown",
   "id": "d1190cdc",
   "metadata": {},
   "source": [
    "### Conditional Statements - Temperatures"
   ]
  },
  {
   "cell_type": "code",
   "execution_count": 23,
   "id": "c3764e44",
   "metadata": {},
   "outputs": [
    {
     "name": "stdout",
     "output_type": "stream",
     "text": [
      "21.0 degrees in Fahrenheit equals -6.111111111111112 in Celsius.\n",
      "Brr! It's cold in here!\n"
     ]
    }
   ],
   "source": [
    "temperatureF = float(input(\"Please type in a temperature in (F): \"))\n",
    "temperatureC = (temperatureF-32)*(5/9)\n",
    "\n",
    "if temperatureC < 0:\n",
    "    print(f\"{temperatureF} degrees in Fahrenheit equals {temperatureC} in Celsius.\")\n",
    "    print(\"Brr! It's cold in here!\")\n",
    "else:\n",
    "    print(f\"{temperatureF} degrees in Fahrenheit equals {temperatureC} in Celsius.\")"
   ]
  },
  {
   "cell_type": "markdown",
   "id": "370641e1",
   "metadata": {},
   "source": [
    "### Conditional Statements - Daily wages"
   ]
  },
  {
   "cell_type": "code",
   "execution_count": 27,
   "id": "01ec9a38",
   "metadata": {},
   "outputs": [
    {
     "name": "stdout",
     "output_type": "stream",
     "text": [
      "Daily wages: 250.0 euros\n"
     ]
    }
   ],
   "source": [
    "hourly_wage = float(input(\"How much do you make per hour? \"))\n",
    "hours_worked = float(input(\"How many hours did you work today? \"))\n",
    "day_of_week = input(\"What day is today? \")\n",
    "\n",
    "if day_of_week == \"Sunday\":\n",
    "    daily_wages = (hourly_wage * hours_worked) * 2\n",
    "    print(f\"Daily wages: {daily_wages} euros\")\n",
    "else:\n",
    "    daily_wages = hourly_wage * hours_worked\n",
    "    print(f\"Daily wages: {daily_wages} euros\")\n",
    "    \n"
   ]
  },
  {
   "cell_type": "markdown",
   "id": "c248e0ca",
   "metadata": {},
   "source": [
    "### Conditional Statements - Loyalty bonus"
   ]
  },
  {
   "cell_type": "code",
   "execution_count": 30,
   "id": "0151df89",
   "metadata": {},
   "outputs": [
    {
     "name": "stdout",
     "output_type": "stream",
     "text": [
      "Your bonus is 15%\n",
      "You now have 120.75\n"
     ]
    }
   ],
   "source": [
    "points = float(input(\"How many points are on your card? \"))\n",
    "\n",
    "if points < 100:\n",
    "    discount = \"10%\"\n",
    "    bonus_points = points * .1\n",
    "    points = points + bonus_points\n",
    "    print(f\"Your bonus is {discount}\")\n",
    "    print(f\"You now have {points}\")\n",
    "else:\n",
    "    discount = \"15%\"\n",
    "    bonus_points = points * .15\n",
    "    points = points + bonus_points\n",
    "    print(f\"Your bonus is {discount}\")\n",
    "    print(f\"You now have {points}\")"
   ]
  },
  {
   "cell_type": "markdown",
   "id": "88c6bab2",
   "metadata": {},
   "source": [
    "### Conditional Statements - What to wear tomorrow"
   ]
  },
  {
   "cell_type": "code",
   "execution_count": null,
   "id": "0a7cbe75",
   "metadata": {},
   "outputs": [
    {
     "ename": "SyntaxError",
     "evalue": "expected ':' (3663760534.py, line 21)",
     "output_type": "error",
     "traceback": [
      "  \u001b[36mCell\u001b[39m\u001b[36m \u001b[39m\u001b[32mIn[32]\u001b[39m\u001b[32m, line 21\u001b[39m\n\u001b[31m    \u001b[39m\u001b[31mif rain == \"no:\"\u001b[39m\n                    ^\n\u001b[31mSyntaxError\u001b[39m\u001b[31m:\u001b[39m expected ':'\n"
     ]
    }
   ],
   "source": [
    "print(\"What is the weather forecast for tomorrow?\")\n",
    "temperatureF = float(input(\"Enter the temperature (F): \"))\n",
    "temperatureC = (temperatureF-32)*(5/9)\n",
    "rain = input(\"Will it rain (yes/no): \")\n",
    "\n",
    "if temperatureC > 20:\n",
    "    if rain == \"no\":\n",
    "        print(\"Wear jeans and a T-shirt\")\n",
    "    else:\n",
    "        print(\"Wear jeans and a T-shirt\")\n",
    "        print(\"Don't forget your umbrella!\")    \n",
    "elif temperatureC > 10 and temperatureC <= 20:\n",
    "    if rain == \"no\":\n",
    "         print(\"Wear jeans and a T-shirt\")\n",
    "         print(\"I recommend a jumper as well\")\n",
    "    else:\n",
    "        print(\"Wear jeans and a T-shirt\")\n",
    "        print(\"I recommend a jumper as well\")\n",
    "        print(\"Don't forget your umbrella!\")   \n",
    "elif temperatureC > 5 and temperatureC <= 10:\n",
    "    if rain == \"no\":\n",
    "        print(\"Wear jeans and a T-shirt\")\n",
    "        print(\"I recommend a jumper as well\")\n",
    "        print(\"Take a jacket with you\")\n",
    "    else:\n",
    "        print(\"Wear jeans and a T-shirt\")\n",
    "        print(\"I recommend a jumper as well\")\n",
    "        print(\"Take a jacket with you\")\n",
    "        print(\"Don't forget your umbrella!\")\n",
    "else:\n",
    "    if rain == \"no\":\n",
    "        print(\"Wear jeans and a T-shirt\")\n",
    "        print(\"I recommend a jumper as well\")\n",
    "        print(\"Take a jacket with you\")\n",
    "        print(\"Make it a warm coat actually\")\n",
    "        print(\"I think gloves are in order\")\n",
    "    else:\n",
    "        print(\"Wear jeans and a T-shirt\")\n",
    "        print(\"I recommend a jumper as well\")\n",
    "        print(\"Take a jacket with you\")\n",
    "        print(\"Make it a warm coat actually\")\n",
    "        print(\"I think gloves are in order\")\n",
    "        print(\"Don't forget your umbrella!\")"
   ]
  }
 ],
 "metadata": {
  "kernelspec": {
   "display_name": "Python 3",
   "language": "python",
   "name": "python3"
  },
  "language_info": {
   "codemirror_mode": {
    "name": "ipython",
    "version": 3
   },
   "file_extension": ".py",
   "mimetype": "text/x-python",
   "name": "python",
   "nbconvert_exporter": "python",
   "pygments_lexer": "ipython3",
   "version": "3.12.9"
  }
 },
 "nbformat": 4,
 "nbformat_minor": 5
}
