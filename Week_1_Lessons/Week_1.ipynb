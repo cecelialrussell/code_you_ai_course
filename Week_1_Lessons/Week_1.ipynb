{
 "cells": [
  {
   "cell_type": "markdown",
   "id": "6c6069b5",
   "metadata": {},
   "source": [
    "## A program that prints the \"Hello, world!\" message.\n",
    "\n",
    "### A welcome message."
   ]
  },
  {
   "cell_type": "code",
   "execution_count": 12,
   "id": "32fb74c4",
   "metadata": {},
   "outputs": [
    {
     "name": "stdout",
     "output_type": "stream",
     "text": [
      "Hello, world\n"
     ]
    }
   ],
   "source": [
    "print(\"Hello, world\")"
   ]
  },
  {
   "cell_type": "markdown",
   "id": "7eca5ee1",
   "metadata": {},
   "source": [
    "### TODO: ask user their name and save it as a file."
   ]
  },
  {
   "cell_type": "markdown",
   "id": "d9d9bb82",
   "metadata": {},
   "source": [
    "### Collect input for x and print statement."
   ]
  },
  {
   "cell_type": "code",
   "execution_count": 13,
   "id": "8a44acf4",
   "metadata": {},
   "outputs": [
    {
     "name": "stdout",
     "output_type": "stream",
     "text": [
      "The value of x is 17\n"
     ]
    }
   ],
   "source": [
    "x = input()\n",
    "print(\"The value of x is\", x)"
   ]
  }
 ],
 "metadata": {
  "kernelspec": {
   "display_name": "Python 3",
   "language": "python",
   "name": "python3"
  },
  "language_info": {
   "codemirror_mode": {
    "name": "ipython",
    "version": 3
   },
   "file_extension": ".py",
   "mimetype": "text/x-python",
   "name": "python",
   "nbconvert_exporter": "python",
   "pygments_lexer": "ipython3",
   "version": "3.12.9"
  }
 },
 "nbformat": 4,
 "nbformat_minor": 5
}
