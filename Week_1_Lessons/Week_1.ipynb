{
 "cells": [
  {
   "cell_type": "markdown",
   "id": "6c6069b5",
   "metadata": {},
   "source": [
    "## A program that prints the \"Hello, world!\" message.\n",
    "\n",
    "### A welcome message."
   ]
  },
  {
   "cell_type": "code",
   "execution_count": 6,
   "id": "32fb74c4",
   "metadata": {},
   "outputs": [
    {
     "name": "stdout",
     "output_type": "stream",
     "text": [
      "Hello, world\n"
     ]
    }
   ],
   "source": [
    "print(\"Hello, world\")"
   ]
  },
  {
   "cell_type": "markdown",
   "id": "7eca5ee1",
   "metadata": {},
   "source": [
    "### TODO: ask user their name and save it as a file."
   ]
  },
  {
   "cell_type": "markdown",
   "id": "d9d9bb82",
   "metadata": {},
   "source": [
    "### Collect input for x and print statement."
   ]
  },
  {
   "cell_type": "code",
   "execution_count": 7,
   "id": "8a44acf4",
   "metadata": {},
   "outputs": [
    {
     "name": "stdout",
     "output_type": "stream",
     "text": [
      "The value of x is 17\n"
     ]
    }
   ],
   "source": [
    "x = input()\n",
    "print(\"The value of x is\", x)"
   ]
  },
  {
   "cell_type": "markdown",
   "id": "d72eed33",
   "metadata": {},
   "source": [
    "### The code below is concatenating two strings instead of performing math because inputs are string variables."
   ]
  },
  {
   "cell_type": "code",
   "execution_count": 8,
   "id": "e6580edb",
   "metadata": {},
   "outputs": [
    {
     "name": "stdout",
     "output_type": "stream",
     "text": [
      "17 + 19 = 1719\n"
     ]
    }
   ],
   "source": [
    "x = input(\"x: \")\n",
    "y = input(\"y: \")\n",
    "print(x, \"+\", y, \"=\", x+y)"
   ]
  },
  {
   "cell_type": "markdown",
   "id": "012971a2",
   "metadata": {},
   "source": [
    "### The code below captures two separate variable types (integer and float). Then it performs math and prints a statement."
   ]
  },
  {
   "cell_type": "code",
   "execution_count": 9,
   "id": "82db7f4a",
   "metadata": {},
   "outputs": [
    {
     "name": "stdout",
     "output_type": "stream",
     "text": [
      "x =  17\n",
      "y =  -19.12\n",
      "x+y =  -2.120000000000001\n",
      "This is a string: \"-2.120000000000001\"\n"
     ]
    }
   ],
   "source": [
    "x = int(input())\n",
    "y = float(input())\n",
    "print(\"x = \", x)\n",
    "print(\"y = \", y)\n",
    "print(\"x+y = \", x+y)\n",
    "z = 'This is a string: \"' + str(x+y) + '\"'\n",
    "print(z)"
   ]
  },
  {
   "cell_type": "markdown",
   "id": "dfdce0ba",
   "metadata": {},
   "source": [
    "### The code below assigns an integer value to a variable, prints a statement, updates the variable using a mathematical formula, and prints a new statement with a new value."
   ]
  },
  {
   "cell_type": "code",
   "execution_count": 10,
   "id": "34827b45",
   "metadata": {},
   "outputs": [
    {
     "name": "stdout",
     "output_type": "stream",
     "text": [
      "The value of x was 17\n",
      "The value of x is 19\n"
     ]
    }
   ],
   "source": [
    "x = 17\n",
    "print(\"The value of x was\", x)\n",
    "x = x + 2\n",
    "print(\"The value of x is\", x)"
   ]
  },
  {
   "cell_type": "markdown",
   "id": "13accc72",
   "metadata": {},
   "source": [
    "### The various code below demonstrates simple division, floored division, and modulo"
   ]
  },
  {
   "cell_type": "code",
   "execution_count": 12,
   "id": "c48717e0",
   "metadata": {},
   "outputs": [
    {
     "name": "stdout",
     "output_type": "stream",
     "text": [
      "2.5\n",
      "2\n",
      "1\n",
      "-4\n"
     ]
    }
   ],
   "source": [
    "a = 5/2\n",
    "print(a)\n",
    "5//2\n",
    "a = 5//2\n",
    "print(a)\n",
    "5 % 2\n",
    "a = 5 % 2\n",
    "print(a)\n",
    "-7//2\n",
    "a = -7//2\n",
    "print(a)"
   ]
  },
  {
   "cell_type": "markdown",
   "id": "bba2f0bd",
   "metadata": {},
   "source": [
    "### Getting Started - Emoticon"
   ]
  },
  {
   "cell_type": "code",
   "execution_count": 1,
   "id": "0fecad49",
   "metadata": {},
   "outputs": [
    {
     "name": "stdout",
     "output_type": "stream",
     "text": [
      ":-)\n"
     ]
    }
   ],
   "source": [
    "print(\":-)\")"
   ]
  },
  {
   "cell_type": "markdown",
   "id": "c3327ea7",
   "metadata": {},
   "source": [
    "### Getting Started - Seven Brothers"
   ]
  },
  {
   "cell_type": "code",
   "execution_count": 2,
   "id": "9e467763",
   "metadata": {},
   "outputs": [
    {
     "name": "stdout",
     "output_type": "stream",
     "text": [
      "Aapo\n",
      "Eero\n",
      "Juhani\n",
      "Lauri\n",
      "Simeoni\n",
      "Timo\n",
      "Tuomas\n"
     ]
    }
   ],
   "source": [
    "print(\"Aapo\")\n",
    "print(\"Eero\")\n",
    "print(\"Juhani\")\n",
    "print(\"Lauri\")\n",
    "print(\"Simeoni\")\n",
    "print(\"Timo\")\n",
    "print(\"Tuomas\")"
   ]
  },
  {
   "cell_type": "markdown",
   "id": "18d11855",
   "metadata": {},
   "source": [
    "### Getting Started - Row, Row Your Boat"
   ]
  },
  {
   "cell_type": "code",
   "execution_count": 3,
   "id": "097d8be4",
   "metadata": {},
   "outputs": [
    {
     "name": "stdout",
     "output_type": "stream",
     "text": [
      "Row, row, row your boat, Gently down the stream. Merrily,\n",
      "merrily, merrily, merrily, Life is but a dream.\n"
     ]
    }
   ],
   "source": [
    "print(\"Row, row, row your boat, Gently down the stream. Merrily,\")\n",
    "print(\"merrily, merrily, merrily, Life is but a dream.\")"
   ]
  },
  {
   "cell_type": "markdown",
   "id": "811ff122",
   "metadata": {},
   "source": [
    "### Getting Started - Arithmetic"
   ]
  },
  {
   "cell_type": "code",
   "execution_count": 4,
   "id": "aed627ba",
   "metadata": {},
   "outputs": [
    {
     "name": "stdout",
     "output_type": "stream",
     "text": [
      "7\n",
      "9\n",
      "22\n"
     ]
    }
   ],
   "source": [
    "print(2 + 5)\n",
    "print(3 * 3)\n",
    "print(2 + 2 * 10)"
   ]
  },
  {
   "cell_type": "markdown",
   "id": "c0b06842",
   "metadata": {},
   "source": [
    "### Input from User - Name Twice"
   ]
  },
  {
   "cell_type": "code",
   "execution_count": null,
   "id": "96f9494d",
   "metadata": {},
   "outputs": [
    {
     "name": "stdout",
     "output_type": "stream",
     "text": [
      "Paul\n"
     ]
    }
   ],
   "source": [
    "name = input(\"What is your name? \")\n",
    "print(name)\n",
    "print(name)"
   ]
  },
  {
   "cell_type": "markdown",
   "id": "c1e73d90",
   "metadata": {},
   "source": [
    "### Input from User - Name and Exclamation Marks"
   ]
  },
  {
   "cell_type": "code",
   "execution_count": 6,
   "id": "477b846b",
   "metadata": {},
   "outputs": [
    {
     "name": "stdout",
     "output_type": "stream",
     "text": [
      "!Paul!Paul!\n"
     ]
    }
   ],
   "source": [
    "name = input(\"What is your name? \")\n",
    "print(\"!\" + name + \"!\" + name + \"!\")"
   ]
  },
  {
   "cell_type": "markdown",
   "id": "e85cac7a",
   "metadata": {},
   "source": [
    "### Inpupt from User - Name and Address"
   ]
  },
  {
   "cell_type": "code",
   "execution_count": 10,
   "id": "c585905c",
   "metadata": {},
   "outputs": [
    {
     "name": "stdout",
     "output_type": "stream",
     "text": [
      "Given name: Steve\n",
      "Family name: Sanders\n",
      "Street address: 91 Station Road\n",
      "City and postal code: London EC05 6AW\n",
      "Steve Sanders\n",
      "91 Station Road\n",
      "London EC05 6AW\n"
     ]
    }
   ],
   "source": [
    "givenName = input(\"What is your given name? \")\n",
    "familyName = input(\"What is your family name? \")\n",
    "streetAddress = input(\"What is your street address? \")\n",
    "cityAndPostalCode = input(\"What is your City and Postal Code? \")\n",
    "\n",
    "print(\"Given name: \" + givenName)\n",
    "print(\"Family name: \" + familyName)\n",
    "print(\"Street address: \" + streetAddress)\n",
    "print(\"City and postal code: \" + cityAndPostalCode)\n",
    "\n",
    "print(givenName + \" \" + familyName)\n",
    "print(streetAddress)\n",
    "print(cityAndPostalCode)"
   ]
  },
  {
   "cell_type": "markdown",
   "id": "c44ed346",
   "metadata": {},
   "source": [
    "### Input from User - Fix the Code: Utterances"
   ]
  },
  {
   "cell_type": "code",
   "execution_count": 11,
   "id": "4672466d",
   "metadata": {},
   "outputs": [
    {
     "name": "stdout",
     "output_type": "stream",
     "text": [
      "The 1st part: hickory\n",
      "The 2nd part: dickory\n",
      "The 3rd part: dock\n",
      "hickory-dickory-dock!\n"
     ]
    }
   ],
   "source": [
    "firstPart = input(\"What is the 1st part? \")\n",
    "secondPart = input(\"What is the second part? \")\n",
    "thirdPart = input(\"What is the third part? \")\n",
    "\n",
    "print(\"The 1st part: \" + firstPart)\n",
    "print(\"The 2nd part: \" + secondPart)\n",
    "print(\"The 3rd part: \" + thirdPart)\n",
    "print(firstPart + \"-\" + secondPart + \"-\" + thirdPart + \"!\")"
   ]
  },
  {
   "cell_type": "markdown",
   "id": "9c58e4d9",
   "metadata": {},
   "source": [
    "### Input from User - Fix the Code: Utterances"
   ]
  },
  {
   "cell_type": "code",
   "execution_count": 16,
   "id": "e68868b2",
   "metadata": {},
   "outputs": [
    {
     "name": "stdout",
     "output_type": "stream",
     "text": [
      "Mary is a valiant knight, born in the year 1572. One\n",
      "morning Mary woke up to an awful racket: a dragon was\n",
      "approaching the village. Only Mary could save the\n",
      "village's residents.\n"
     ]
    }
   ],
   "source": [
    "name = input(\"What is the character's name? \")\n",
    "year = input(\"What year did the story happen? \")\n",
    "print(name + \" is a valiant knight, born in the year \" + year +\". One\") \n",
    "print(\"morning \" + name + \" woke up to an awful racket: a dragon was\") \n",
    "print(\"approaching the village. Only \" + name + \" could save the\") \n",
    "print(\"village's residents.\")"
   ]
  },
  {
   "cell_type": "markdown",
   "id": "c8ee5cd7",
   "metadata": {},
   "source": [
    "### More about variables - Extra Space:"
   ]
  },
  {
   "cell_type": "code",
   "execution_count": 20,
   "id": "24d977f7",
   "metadata": {},
   "outputs": [
    {
     "name": "stdout",
     "output_type": "stream",
     "text": [
      "my name is Tim Tester, I am 20 years old\n",
      "\n",
      "my skills are\n",
      "- python (beginner)\n",
      "- java (veteran)\n",
      "- programming (semiprofessional)\n",
      "\n",
      "I am looking for a job with a salary of 2000-3000, euros per month\n"
     ]
    }
   ],
   "source": [
    "name = \"Tim Tester\"\n",
    "age = 20\n",
    "skill1 = \"python\"\n",
    "level1 = \"beginner\"\n",
    "skill2 = \"java\"\n",
    "level2 = \"veteran\"\n",
    "skill3 = \"programming\"\n",
    "level3 = \"semiprofessional\"\n",
    "lower = 2000\n",
    "upper = 3000\n",
    "\n",
    "print(f\"my name is {name}, I am {age} years old\\n\")\n",
    "print(\"my skills are\")\n",
    "print(f\"- {skill1} ({level1})\")\n",
    "print(f\"- {skill2} ({level2})\")\n",
    "print(f\"- {skill3} ({level3})\\n\")\n",
    "print(f\"I am looking for a job with a salary of {lower}-{upper}, euros per month\")"
   ]
  },
  {
   "cell_type": "markdown",
   "id": "233420b8",
   "metadata": {},
   "source": [
    "### More about variables - Fix the code: Print a single line"
   ]
  },
  {
   "cell_type": "code",
   "execution_count": 22,
   "id": "bc16ccf3",
   "metadata": {},
   "outputs": [
    {
     "name": "stdout",
     "output_type": "stream",
     "text": [
      "5 + 8 - 4 = 9\n"
     ]
    }
   ],
   "source": [
    "print(5, end=\"\")\n",
    "print(\" + \", end=\"\")\n",
    "print(8, end=\"\")\n",
    "print(\" - \", end=\"\")\n",
    "print(4, end=\"\")\n",
    "print(\" = \", end=\"\")\n",
    "print(5 + 8 - 4)"
   ]
  },
  {
   "cell_type": "markdown",
   "id": "a84dde89",
   "metadata": {},
   "source": [
    "### Arithmetic Operations - Times five"
   ]
  },
  {
   "cell_type": "code",
   "execution_count": 23,
   "id": "5170bb31",
   "metadata": {},
   "outputs": [
    {
     "name": "stdout",
     "output_type": "stream",
     "text": [
      "3 times 5 is 15\n"
     ]
    }
   ],
   "source": [
    "number1 = int(input(\"Please enter a number: \"))\n",
    "number2 = 5\n",
    "calculation = number1 * number2\n",
    "print(f\"{number1} times {number2} is {calculation}\") \n",
    "\n"
   ]
  },
  {
   "cell_type": "markdown",
   "id": "a160ed5e",
   "metadata": {},
   "source": [
    "### Arithmetic Operations - Name and age"
   ]
  },
  {
   "cell_type": "code",
   "execution_count": null,
   "id": "bbe05ccd",
   "metadata": {},
   "outputs": [
    {
     "name": "stdout",
     "output_type": "stream",
     "text": [
      "Hi, Cecelia, you will be 42 years old at the end of the year 2025.\n"
     ]
    }
   ],
   "source": [
    "name = input(\"What is your name? \")\n",
    "year = int(input(\"What year were you born? \"))\n",
    "age = 2025 - year\n",
    "print(f\"Hi {name}, you will be {age} years old at the end of the year 2025.\")"
   ]
  },
  {
   "cell_type": "markdown",
   "id": "0afaea8a",
   "metadata": {},
   "source": [
    "### Arithmetic Operations - Seconds in a day"
   ]
  },
  {
   "cell_type": "code",
   "execution_count": 25,
   "id": "4b968dab",
   "metadata": {},
   "outputs": [
    {
     "name": "stdout",
     "output_type": "stream",
     "text": [
      "Seconds in that many days: 432000\n"
     ]
    }
   ],
   "source": [
    "days = int(input(\"How many days on vacation? \" ))\n",
    "secondsInDay = (24*60)*60\n",
    "calculation = days * secondsInDay\n",
    "print(f\"Seconds in that many days: {calculation}\")"
   ]
  },
  {
   "cell_type": "markdown",
   "id": "fd8f15c4",
   "metadata": {},
   "source": [
    "### Arithmetic Operations - Fix the code: Product"
   ]
  },
  {
   "cell_type": "code",
   "execution_count": 26,
   "id": "db6e50bc",
   "metadata": {},
   "outputs": [
    {
     "name": "stdout",
     "output_type": "stream",
     "text": [
      "The product is 30.\n"
     ]
    }
   ],
   "source": [
    "number1 = int(input(\"What is the first number? \"))\n",
    "number2 = int(input(\"What is the second number? \"))\n",
    "number3 = int(input(\"What is the third number? \"))\n",
    "calculation = number1 * number2 * number3\n",
    "print(f\"The product is {calculation}.\")"
   ]
  },
  {
   "cell_type": "markdown",
   "id": "79d84a79",
   "metadata": {},
   "source": [
    "### Arithmetic Operations - Sum and product"
   ]
  },
  {
   "cell_type": "code",
   "execution_count": 27,
   "id": "0fe25ee9",
   "metadata": {},
   "outputs": [
    {
     "name": "stdout",
     "output_type": "stream",
     "text": [
      "The sum of the numbers: 10\n",
      "The product of the numbers: 21\n"
     ]
    }
   ],
   "source": [
    "number1 = int(input(\"What is the first number? \"))\n",
    "number2 = int(input(\"What is the second number? \"))\n",
    "sum = number1 + number2\n",
    "product = number1 * number2\n",
    "print(f\"The sum of the numbers: {sum}\")\n",
    "print(f\"The product of the numbers: {product}\")"
   ]
  },
  {
   "cell_type": "markdown",
   "id": "df50b3aa",
   "metadata": {},
   "source": [
    "### Arithmetic Operations - Sum and mean"
   ]
  },
  {
   "cell_type": "code",
   "execution_count": 30,
   "id": "2efb86d2",
   "metadata": {},
   "outputs": [
    {
     "name": "stdout",
     "output_type": "stream",
     "text": [
      "The sum of the numbers is 16 and the mean is 4.0\n"
     ]
    }
   ],
   "source": [
    "number1 = int(input(\"What is the first number? \"))\n",
    "number2 = int(input(\"What is the second number? \"))\n",
    "number3 = int(input(\"What is the third number? \"))\n",
    "number4 = int(input(\"What is the fourth number? \"))\n",
    "sum = number1 + number2 + number3 + number4\n",
    "mean = sum/4\n",
    "print(f\"The sum of the numbers is {sum} and the mean is {mean}\")"
   ]
  },
  {
   "cell_type": "markdown",
   "id": "c3f22eff",
   "metadata": {},
   "source": [
    "### Arithmetic Operations - Students in groups"
   ]
  },
  {
   "cell_type": "code",
   "execution_count": null,
   "id": "c344edff",
   "metadata": {},
   "outputs": [
    {
     "name": "stdout",
     "output_type": "stream",
     "text": [
      "Number of groups formed: 2.0\n"
     ]
    }
   ],
   "source": [
    "students = int(input(\"How many students on the course? \"))\n",
    "groupSize = int(input(\"Desired group size? \"))\n",
    "numberOfGroups = int(students/groupSize)\n",
    "print(f\"Number of groups formed: {numberOfGroups}\")"
   ]
  }
 ],
 "metadata": {
  "kernelspec": {
   "display_name": "Python 3",
   "language": "python",
   "name": "python3"
  },
  "language_info": {
   "codemirror_mode": {
    "name": "ipython",
    "version": 3
   },
   "file_extension": ".py",
   "mimetype": "text/x-python",
   "name": "python",
   "nbconvert_exporter": "python",
   "pygments_lexer": "ipython3",
   "version": "3.12.9"
  }
 },
 "nbformat": 4,
 "nbformat_minor": 5
}
