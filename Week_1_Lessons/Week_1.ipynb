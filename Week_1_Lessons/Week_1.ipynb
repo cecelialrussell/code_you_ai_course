{
 "cells": [
  {
   "cell_type": "markdown",
   "id": "6c6069b5",
   "metadata": {},
   "source": [
    "## A program that prints the \"Hello, world!\" message.\n",
    "\n",
    "### A welcome message."
   ]
  },
  {
   "cell_type": "code",
   "execution_count": 6,
   "id": "32fb74c4",
   "metadata": {},
   "outputs": [
    {
     "name": "stdout",
     "output_type": "stream",
     "text": [
      "Hello, world\n"
     ]
    }
   ],
   "source": [
    "print(\"Hello, world\")"
   ]
  },
  {
   "cell_type": "markdown",
   "id": "7eca5ee1",
   "metadata": {},
   "source": [
    "### TODO: ask user their name and save it as a file."
   ]
  },
  {
   "cell_type": "markdown",
   "id": "d9d9bb82",
   "metadata": {},
   "source": [
    "### Collect input for x and print statement."
   ]
  },
  {
   "cell_type": "code",
   "execution_count": 7,
   "id": "8a44acf4",
   "metadata": {},
   "outputs": [
    {
     "name": "stdout",
     "output_type": "stream",
     "text": [
      "The value of x is 17\n"
     ]
    }
   ],
   "source": [
    "x = input()\n",
    "print(\"The value of x is\", x)"
   ]
  },
  {
   "cell_type": "markdown",
   "id": "d72eed33",
   "metadata": {},
   "source": [
    "### The code below is concatenating two strings instead of performing math because inputs are string variables."
   ]
  },
  {
   "cell_type": "code",
   "execution_count": 8,
   "id": "e6580edb",
   "metadata": {},
   "outputs": [
    {
     "name": "stdout",
     "output_type": "stream",
     "text": [
      "17 + 19 = 1719\n"
     ]
    }
   ],
   "source": [
    "x = input(\"x: \")\n",
    "y = input(\"y: \")\n",
    "print(x, \"+\", y, \"=\", x+y)"
   ]
  },
  {
   "cell_type": "markdown",
   "id": "012971a2",
   "metadata": {},
   "source": [
    "### The code below captures two separate variable types (integer and float). Then it performs math and prints a statement."
   ]
  },
  {
   "cell_type": "code",
   "execution_count": 9,
   "id": "82db7f4a",
   "metadata": {},
   "outputs": [
    {
     "name": "stdout",
     "output_type": "stream",
     "text": [
      "x =  17\n",
      "y =  -19.12\n",
      "x+y =  -2.120000000000001\n",
      "This is a string: \"-2.120000000000001\"\n"
     ]
    }
   ],
   "source": [
    "x = int(input())\n",
    "y = float(input())\n",
    "print(\"x = \", x)\n",
    "print(\"y = \", y)\n",
    "print(\"x+y = \", x+y)\n",
    "z = 'This is a string: \"' + str(x+y) + '\"'\n",
    "print(z)"
   ]
  },
  {
   "cell_type": "markdown",
   "id": "dfdce0ba",
   "metadata": {},
   "source": [
    "### The code below assigns an integer value to a variable, prints a statement, updates the variable using a mathematical formula, and prints a new statement with a new value."
   ]
  },
  {
   "cell_type": "code",
   "execution_count": 10,
   "id": "34827b45",
   "metadata": {},
   "outputs": [
    {
     "name": "stdout",
     "output_type": "stream",
     "text": [
      "The value of x was 17\n",
      "The value of x is 19\n"
     ]
    }
   ],
   "source": [
    "x = 17\n",
    "print(\"The value of x was\", x)\n",
    "x = x + 2\n",
    "print(\"The value of x is\", x)"
   ]
  },
  {
   "cell_type": "markdown",
   "id": "13accc72",
   "metadata": {},
   "source": [
    "### The various code below demonstrates simple division, floored division, and modulo"
   ]
  },
  {
   "cell_type": "code",
   "execution_count": 12,
   "id": "c48717e0",
   "metadata": {},
   "outputs": [
    {
     "name": "stdout",
     "output_type": "stream",
     "text": [
      "2.5\n",
      "2\n",
      "1\n",
      "-4\n"
     ]
    }
   ],
   "source": [
    "a = 5/2\n",
    "print(a)\n",
    "5//2\n",
    "a = 5//2\n",
    "print(a)\n",
    "5 % 2\n",
    "a = 5 % 2\n",
    "print(a)\n",
    "-7//2\n",
    "a = -7//2\n",
    "print(a)"
   ]
  }
 ],
 "metadata": {
  "kernelspec": {
   "display_name": "Python 3",
   "language": "python",
   "name": "python3"
  },
  "language_info": {
   "codemirror_mode": {
    "name": "ipython",
    "version": 3
   },
   "file_extension": ".py",
   "mimetype": "text/x-python",
   "name": "python",
   "nbconvert_exporter": "python",
   "pygments_lexer": "ipython3",
   "version": "3.12.9"
  }
 },
 "nbformat": 4,
 "nbformat_minor": 5
}
