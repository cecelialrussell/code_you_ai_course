{
 "cells": [
  {
   "cell_type": "markdown",
   "id": "6c6069b5",
   "metadata": {},
   "source": [
    "## A program that prints the \"Hello, world!\" message.\n",
    "\n",
    "### A welcome message."
   ]
  },
  {
   "cell_type": "code",
   "execution_count": 19,
   "id": "32fb74c4",
   "metadata": {},
   "outputs": [
    {
     "name": "stdout",
     "output_type": "stream",
     "text": [
      "Hello, world\n"
     ]
    }
   ],
   "source": [
    "print(\"Hello, world\")"
   ]
  },
  {
   "cell_type": "markdown",
   "id": "7eca5ee1",
   "metadata": {},
   "source": [
    "### TODO: ask user their name and save it as a file."
   ]
  },
  {
   "cell_type": "markdown",
   "id": "d9d9bb82",
   "metadata": {},
   "source": [
    "### Collect input for x and print statement."
   ]
  },
  {
   "cell_type": "code",
   "execution_count": null,
   "id": "8a44acf4",
   "metadata": {},
   "outputs": [],
   "source": [
    "x = input()\n",
    "print(\"The value of x is\", x)"
   ]
  },
  {
   "cell_type": "markdown",
   "id": "d72eed33",
   "metadata": {},
   "source": [
    "### The code below is concatenating two strings instead of performing math because inputs are string variables."
   ]
  },
  {
   "cell_type": "code",
   "execution_count": null,
   "id": "e6580edb",
   "metadata": {},
   "outputs": [
    {
     "name": "stdout",
     "output_type": "stream",
     "text": [
      "17 + 19 = 1719\n"
     ]
    }
   ],
   "source": [
    "x = input(\"x: \")\n",
    "y = input(\"y: \")\n",
    "print(x, \"+\", y, \"=\", x+y)"
   ]
  },
  {
   "cell_type": "code",
   "execution_count": null,
   "id": "82db7f4a",
   "metadata": {},
   "outputs": [],
   "source": [
    "x = int(input())\n",
    "y = float(input())\n",
    "print(\"x = \", x)\n",
    "print(\"y = \", y)\n",
    "print(\"x+y = \", x+y)\n",
    "z = 'This is a string: \"' + str(x+y) + '\"'\n",
    "print(z)"
   ]
  }
 ],
 "metadata": {
  "kernelspec": {
   "display_name": "Python 3",
   "language": "python",
   "name": "python3"
  },
  "language_info": {
   "codemirror_mode": {
    "name": "ipython",
    "version": 3
   },
   "file_extension": ".py",
   "mimetype": "text/x-python",
   "name": "python",
   "nbconvert_exporter": "python",
   "pygments_lexer": "ipython3",
   "version": "3.12.9"
  }
 },
 "nbformat": 4,
 "nbformat_minor": 5
}
