{
 "cells": [
  {
   "cell_type": "code",
   "execution_count": 1,
   "id": "27467872",
   "metadata": {},
   "outputs": [
    {
     "name": "stdout",
     "output_type": "stream",
     "text": [
      "3.14\n"
     ]
    }
   ],
   "source": [
    "data = [\"apple\", 3.14, 42]\n",
    "print(data[1])"
   ]
  },
  {
   "cell_type": "code",
   "execution_count": 3,
   "id": "affe6e19",
   "metadata": {},
   "outputs": [
    {
     "name": "stdout",
     "output_type": "stream",
     "text": [
      "[[1, 2, 3], [4, 5, 6], [7, 8, 9]]\n"
     ]
    }
   ],
   "source": [
    "matrix = [[1,2,3], [4,5,6], [7,8,9]]\n",
    "print(matrix)"
   ]
  },
  {
   "cell_type": "code",
   "execution_count": 4,
   "id": "e66c55b4",
   "metadata": {},
   "outputs": [
    {
     "name": "stdout",
     "output_type": "stream",
     "text": [
      "[10, 20, 35, 40, 50]\n"
     ]
    }
   ],
   "source": [
    "numbers = [10, 20, 30, 40, 50]\n",
    "numbers[2] = 35\n",
    "print(numbers)"
   ]
  },
  {
   "cell_type": "code",
   "execution_count": 5,
   "id": "a6bfdb93",
   "metadata": {},
   "outputs": [
    {
     "name": "stdout",
     "output_type": "stream",
     "text": [
      "[1, 2, 3, 4]\n"
     ]
    }
   ],
   "source": [
    "def modify_list(lst):\n",
    "    lst.append(4)\n",
    "\n",
    "my_list = [1,2,3]\n",
    "modify_list(my_list)\n",
    "print(my_list)"
   ]
  },
  {
   "cell_type": "code",
   "execution_count": 6,
   "id": "49e1c1c7",
   "metadata": {},
   "outputs": [
    {
     "name": "stdout",
     "output_type": "stream",
     "text": [
      "6\n"
     ]
    }
   ],
   "source": [
    "my_dict = {\"a\": 1, \"b\": 2, \"c\": 3}\n",
    "result = 0\n",
    "for key in my_dict:\n",
    "    result += my_dict[key]\n",
    "print(result)"
   ]
  },
  {
   "cell_type": "code",
   "execution_count": 7,
   "id": "7e32b256",
   "metadata": {},
   "outputs": [
    {
     "ename": "TypeError",
     "evalue": "'tuple' object does not support item assignment",
     "output_type": "error",
     "traceback": [
      "\u001b[31m---------------------------------------------------------------------------\u001b[39m",
      "\u001b[31mTypeError\u001b[39m                                 Traceback (most recent call last)",
      "\u001b[36mCell\u001b[39m\u001b[36m \u001b[39m\u001b[32mIn[7]\u001b[39m\u001b[32m, line 2\u001b[39m\n\u001b[32m      1\u001b[39m my_tuple = (\u001b[32m1\u001b[39m, \u001b[32m2\u001b[39m, \u001b[32m3\u001b[39m)\n\u001b[32m----> \u001b[39m\u001b[32m2\u001b[39m \u001b[43mmy_tuple\u001b[49m\u001b[43m[\u001b[49m\u001b[32;43m1\u001b[39;49m\u001b[43m]\u001b[49m = \u001b[32m4\u001b[39m\n\u001b[32m      3\u001b[39m \u001b[38;5;28mprint\u001b[39m(my_tuple)\n",
      "\u001b[31mTypeError\u001b[39m: 'tuple' object does not support item assignment"
     ]
    }
   ],
   "source": [
    "my_tuple = (1, 2, 3)\n",
    "my_tuple[1] = 4\n",
    "print(my_tuple)"
   ]
  },
  {
   "cell_type": "markdown",
   "id": "745848d0",
   "metadata": {},
   "source": [
    "### Class Exercise #1 5.1.25"
   ]
  },
  {
   "cell_type": "code",
   "execution_count": 8,
   "id": "48ae3d9c",
   "metadata": {},
   "outputs": [
    {
     "name": "stdout",
     "output_type": "stream",
     "text": [
      "Longest word: algorithm\n"
     ]
    }
   ],
   "source": [
    "def find_longest(words):\n",
    "    longest = \"\"\n",
    "    for word in words:\n",
    "        if len(word) > len(longest):\n",
    "            longest = word\n",
    "    return longest\n",
    "\n",
    "sample_words = [\"algorithm\", \"data\", \"structure\", \"python\"]\n",
    "print(f\"Longest word: {find_longest(sample_words)}\")"
   ]
  },
  {
   "cell_type": "markdown",
   "id": "2f84966e",
   "metadata": {},
   "source": [
    "### Class Exercise 2 - 5.1.25"
   ]
  },
  {
   "cell_type": "code",
   "execution_count": null,
   "id": "3f2b6ed8",
   "metadata": {},
   "outputs": [
    {
     "name": "stdout",
     "output_type": "stream",
     "text": [
      "Transposed matrix:\n",
      "[1, 4, 7]\n",
      "[2, 5, 8]\n",
      "[3, 6, 9]\n"
     ]
    }
   ],
   "source": [
    "# Matrix Transposition\n",
    "\n",
    "matrix = [\n",
    "    [1,2,3],\n",
    "    [4,5,6],\n",
    "    [7,8,9]\n",
    "]\n",
    "transposed = [[row[i] for row in matrix] for i in range(len(matrix[0]))]\n",
    "print(\"Transposed matrix:\")\n",
    "for row in transposed:\n",
    "    print(row)\n",
    "\n",
    "# for i = 0: [row for row in matrix] -> [1][4][7]\n",
    "# for i = 1: [row for row in matrix] -> [2][5][8]\n",
    "# for i = 2: [row for row in matrix] -> [3][6][9]\n",
    "# square brackets inside of square brackets are nesting for loops\n",
    "# recreates the lists within list"
   ]
  },
  {
   "cell_type": "markdown",
   "id": "57a1ac22",
   "metadata": {},
   "source": [
    "### Class Exercise 3 - 5.1.25"
   ]
  },
  {
   "cell_type": "code",
   "execution_count": 10,
   "id": "1518ec65",
   "metadata": {},
   "outputs": [
    {
     "name": "stdout",
     "output_type": "stream",
     "text": [
      "Original: ['Book', 'Pen']\n",
      "Modified: ['Book', 'Pen', 'Gift Wrap']\n"
     ]
    }
   ],
   "source": [
    "def process_cart(cart):\n",
    "    temp_cart = cart.copy()\n",
    "    temp_cart.append(\"Gift Wrap\")\n",
    "    return temp_cart\n",
    "\n",
    "original_cart = [\"Book\", \"Pen\"]\n",
    "# Adding items to shopping cart\n",
    "new_cart = process_cart(original_cart)\n",
    "print(f\"Original: {original_cart}\\nModified: {new_cart}\")"
   ]
  },
  {
   "cell_type": "markdown",
   "id": "ab07d19f",
   "metadata": {},
   "source": [
    "### Class Exercise 4 - 5.1.25"
   ]
  },
  {
   "cell_type": "code",
   "execution_count": null,
   "id": "19f4fbf9",
   "metadata": {},
   "outputs": [
    {
     "name": "stdout",
     "output_type": "stream",
     "text": [
      "Updated DB: {'name': 'Alice', 'grades': {'math': 85, 'physics': 90, 'chemistry': 88}}\n"
     ]
    }
   ],
   "source": [
    "# Student Database\n",
    "\n",
    "student_db = {\n",
    "    101: {\"name\": \"Alice\", \"grades\": {\"math\": 85, \"physics\": 90}},\n",
    "    102: {\"name\": \"Bob\", \"grades\": {\"math\": 78, \"physics\": 82}}\n",
    "}\n",
    "\n",
    "def add_grade(db, sid, subject, score):\n",
    "    db[sid][\"grades\"][subject] = score\n",
    "\n",
    "add_grade(student_db, 101, \"chemistry\", 88)\n",
    "print(\"Updated DB:\", student_db[101])\n",
    "\n",
    "# call dictionary, call student id, call grades dictionary, and append with course key and score value"
   ]
  },
  {
   "cell_type": "markdown",
   "id": "611c66d6",
   "metadata": {},
   "source": [
    "### Class Exercise 5 - 5.1.25"
   ]
  },
  {
   "cell_type": "code",
   "execution_count": 12,
   "id": "f876bf77",
   "metadata": {},
   "outputs": [
    {
     "name": "stdout",
     "output_type": "stream",
     "text": [
      "Inverted: {'Alpha': 'A', 'Bravo': 'B', 'Charlie': 'C'}\n"
     ]
    }
   ],
   "source": [
    "def invert_dict(original):\n",
    "    return {v: k for k, v in original.items()}\n",
    "\n",
    "codes = {\"A\": \"Alpha\", \"B\": \"Bravo\", \"C\": \"Charlie\"}\n",
    "print(\"Inverted:\", invert_dict(codes))\n",
    "\n",
    "# Inverting a dictionary means swapping keys and values"
   ]
  },
  {
   "cell_type": "markdown",
   "id": "34e197af",
   "metadata": {},
   "source": [
    "### Class Exercise 6 - 5.1.25"
   ]
  },
  {
   "cell_type": "code",
   "execution_count": 13,
   "id": "63daf928",
   "metadata": {},
   "outputs": [
    {
     "name": "stdout",
     "output_type": "stream",
     "text": [
      "Emma studies Computer Science\n"
     ]
    }
   ],
   "source": [
    "from collections import namedtuple\n",
    "Student = namedtuple('Student', ['name', 'age', 'major'])\n",
    "\n",
    "cs_student = Student(\"Emma\", 20, \"Computer Science\")\n",
    "print(f\"{cs_student.name} studies {cs_student.major}\")"
   ]
  },
  {
   "cell_type": "markdown",
   "id": "0cbe9df2",
   "metadata": {},
   "source": [
    "### Class Exercise 7 - 5.1.25"
   ]
  },
  {
   "cell_type": "code",
   "execution_count": null,
   "id": "d11bdaf5",
   "metadata": {},
   "outputs": [
    {
     "name": "stdout",
     "output_type": "stream",
     "text": [
      "copy: [[99, 2], [3, 4]], original: [[99, 2], [3, 4]]\n"
     ]
    }
   ],
   "source": [
    "matrix = [[1,2], [3,4]]\n",
    "copy = matrix.copy()\n",
    "copy [0][0] = 99\n",
    "print(f\"copy: {copy}, original: {matrix}\")\n",
    "\n",
    "# to prevent unintended mutation, use deepcopy instead of copy matrix.deepcopy()"
   ]
  },
  {
   "cell_type": "markdown",
   "id": "ad3add5f",
   "metadata": {},
   "source": [
    "### Tuples"
   ]
  },
  {
   "cell_type": "code",
   "execution_count": null,
   "id": "845e616c",
   "metadata": {},
   "outputs": [
    {
     "name": "stdout",
     "output_type": "stream",
     "text": [
      "(1, 2, 3)\n"
     ]
    }
   ],
   "source": [
    "# Creating a tuple\n",
    "\n",
    "tup = 1, 2, 3\n",
    "print(tup)"
   ]
  },
  {
   "cell_type": "code",
   "execution_count": null,
   "id": "08591588",
   "metadata": {},
   "outputs": [
    {
     "name": "stdout",
     "output_type": "stream",
     "text": [
      "('s', 't', 'r', 'i', 'n', 'g')\n"
     ]
    }
   ],
   "source": [
    "# Creating a tuple from a string\n",
    "\n",
    "tup = tuple('string')\n",
    "print(tup)"
   ]
  },
  {
   "cell_type": "code",
   "execution_count": null,
   "id": "3e3f35ad",
   "metadata": {},
   "outputs": [
    {
     "name": "stdout",
     "output_type": "stream",
     "text": [
      "s\n"
     ]
    }
   ],
   "source": [
    "# Accessing a tuple element by index\n",
    "\n",
    "print(tup[0])"
   ]
  },
  {
   "cell_type": "code",
   "execution_count": null,
   "id": "ad01cbc8",
   "metadata": {},
   "outputs": [
    {
     "name": "stdout",
     "output_type": "stream",
     "text": [
      "(0, 1, 4, 5, 6, 7, 8, 9)\n"
     ]
    }
   ],
   "source": [
    "# Concatenating multiple tuples\n",
    "\n",
    "print((0, 1) + (4, 5) + (6, 7) + (8, 9))"
   ]
  },
  {
   "cell_type": "code",
   "execution_count": null,
   "id": "3c80f287",
   "metadata": {},
   "outputs": [
    {
     "name": "stdout",
     "output_type": "stream",
     "text": [
      "('foo', 'bar', 'foo', 'bar', 'foo', 'bar', 'foo', 'bar')\n"
     ]
    }
   ],
   "source": [
    "# Multiplying a tuple (repeating its contents)\n",
    "\n",
    "print(('foo', 'bar') * 4)"
   ]
  },
  {
   "cell_type": "code",
   "execution_count": null,
   "id": "1bf1479f",
   "metadata": {},
   "outputs": [
    {
     "name": "stdout",
     "output_type": "stream",
     "text": [
      "5\n"
     ]
    }
   ],
   "source": [
    "# Tuple unpacking\n",
    "\n",
    "tup = 4, 5, 6\n",
    "a, b, c = tup\n",
    "print(b)"
   ]
  },
  {
   "cell_type": "code",
   "execution_count": null,
   "id": "1c8f0f3d",
   "metadata": {},
   "outputs": [
    {
     "name": "stdout",
     "output_type": "stream",
     "text": [
      "a=1, b=2, c=3\n",
      "a=4, b=5, c=6\n",
      "a=7, b=8, c=9\n"
     ]
    }
   ],
   "source": [
    "# Unpacking tuples inside a list and using them in a loop\n",
    "\n",
    "seq = [(1, 2, 3), (4, 5, 6), (7, 8, 9)]\n",
    "for a, b, c in seq:\n",
    "    print('a={0}, b={1}, c={2}'.format(a, b, c))"
   ]
  },
  {
   "cell_type": "markdown",
   "id": "e993f419",
   "metadata": {},
   "source": [
    "### Lists"
   ]
  },
  {
   "cell_type": "code",
   "execution_count": 22,
   "id": "a37c03b4",
   "metadata": {},
   "outputs": [
    {
     "name": "stdout",
     "output_type": "stream",
     "text": [
      "[1, 2, 3, 4, 5]\n"
     ]
    }
   ],
   "source": [
    "# Basic List Creation and Display\n",
    "\n",
    "a_list = [1, 2, 3, 4, 5]\n",
    "print(a_list)"
   ]
  },
  {
   "cell_type": "code",
   "execution_count": 23,
   "id": "cdd7a6e5",
   "metadata": {},
   "outputs": [
    {
     "name": "stdout",
     "output_type": "stream",
     "text": [
      "['foo', 'bar']\n"
     ]
    }
   ],
   "source": [
    "# Converting Tuple to List\n",
    "\n",
    "tup = ('foo', 'bar')\n",
    "b_list = list(tup)\n",
    "print(b_list)"
   ]
  },
  {
   "cell_type": "code",
   "execution_count": 24,
   "id": "dea0c34a",
   "metadata": {},
   "outputs": [
    {
     "name": "stdout",
     "output_type": "stream",
     "text": [
      "['foo', 'peekaboo']\n"
     ]
    }
   ],
   "source": [
    "# Modifying List Elements\n",
    "\n",
    "b_list[1] = 'peekaboo'\n",
    "print(b_list)"
   ]
  },
  {
   "cell_type": "code",
   "execution_count": 25,
   "id": "6146d3d3",
   "metadata": {},
   "outputs": [
    {
     "name": "stdout",
     "output_type": "stream",
     "text": [
      "['foo', 'peekaboo', 'yum']\n"
     ]
    }
   ],
   "source": [
    "# Appending Elements\n",
    "\n",
    "b_list.append('yum')\n",
    "print(b_list)"
   ]
  },
  {
   "cell_type": "code",
   "execution_count": 26,
   "id": "6f108ffb",
   "metadata": {},
   "outputs": [
    {
     "name": "stdout",
     "output_type": "stream",
     "text": [
      "['foo', 'red', 'peekaboo', 'yum']\n"
     ]
    }
   ],
   "source": [
    "# Inserting Elements at a Specific Position\n",
    "\n",
    "b_list.insert(1, 'red')\n",
    "print(b_list)"
   ]
  },
  {
   "cell_type": "code",
   "execution_count": 27,
   "id": "8ec6ee21",
   "metadata": {},
   "outputs": [
    {
     "name": "stdout",
     "output_type": "stream",
     "text": [
      "peekaboo\n",
      "['foo', 'red', 'yum']\n"
     ]
    }
   ],
   "source": [
    "# Removing Elements by Index\n",
    "\n",
    "removed = b_list.pop(2)\n",
    "print(removed)\n",
    "print(b_list)"
   ]
  },
  {
   "cell_type": "code",
   "execution_count": 28,
   "id": "fb6a5dba",
   "metadata": {},
   "outputs": [
    {
     "name": "stdout",
     "output_type": "stream",
     "text": [
      "[1, 2, 3, 4, 5, 6]\n"
     ]
    }
   ],
   "source": [
    "# Concatenating Lists\n",
    "\n",
    "print([1, 2, 3] + [4, 5, 6])"
   ]
  },
  {
   "cell_type": "code",
   "execution_count": 29,
   "id": "66261fea",
   "metadata": {},
   "outputs": [
    {
     "name": "stdout",
     "output_type": "stream",
     "text": [
      "[2, 3, 4, 5]\n",
      "[1, 2, 3, 4, 5]\n",
      "[4, 5, 6, 7, 8, 9]\n",
      "[6, 7, 8, 9]\n",
      "[1, 3, 5, 7, 9]\n",
      "[9, 8, 7, 6, 5, 4, 3, 2, 1]\n"
     ]
    }
   ],
   "source": [
    "# List Slicing Examples\n",
    "\n",
    "seq = [1, 2, 3, 4, 5, 6, 7, 8, 9]\n",
    "print(seq[1:5])\n",
    "print(seq[:5])\n",
    "print(seq[3:])\n",
    "print(seq[-4:])\n",
    "print(seq[::2])\n",
    "print(seq[::-1])"
   ]
  },
  {
   "cell_type": "code",
   "execution_count": 30,
   "id": "735f0127",
   "metadata": {},
   "outputs": [
    {
     "name": "stdout",
     "output_type": "stream",
     "text": [
      "[1, 2, 4, 5]\n"
     ]
    }
   ],
   "source": [
    "# Removing by Value\n",
    "\n",
    "seq2 = [1, 2, 3, 4, 5]\n",
    "seq2.remove(3)\n",
    "print(seq2)"
   ]
  },
  {
   "cell_type": "code",
   "execution_count": 31,
   "id": "42146a08",
   "metadata": {},
   "outputs": [
    {
     "name": "stdout",
     "output_type": "stream",
     "text": [
      "True\n"
     ]
    }
   ],
   "source": [
    "# Checking Membership\n",
    "\n",
    "print(4 in seq2)"
   ]
  },
  {
   "cell_type": "code",
   "execution_count": 32,
   "id": "2e60cba8",
   "metadata": {},
   "outputs": [
    {
     "name": "stdout",
     "output_type": "stream",
     "text": [
      "2\n"
     ]
    }
   ],
   "source": [
    "# Counting Occurrences\n",
    "\n",
    "print([1, 2, 2, 3].count(2))"
   ]
  },
  {
   "cell_type": "code",
   "execution_count": 33,
   "id": "8e11b26b",
   "metadata": {},
   "outputs": [
    {
     "name": "stdout",
     "output_type": "stream",
     "text": [
      "[0, 1, 4, 9, 16]\n"
     ]
    }
   ],
   "source": [
    "# List Comprehension Example\n",
    "\n",
    "squared = [x**2 for x in range(5)]\n",
    "print(squared)"
   ]
  },
  {
   "cell_type": "code",
   "execution_count": 34,
   "id": "997d2476",
   "metadata": {},
   "outputs": [
    {
     "name": "stdout",
     "output_type": "stream",
     "text": [
      "[1, 2, 3, 4, 5, 6, 7, 8, 9]\n"
     ]
    }
   ],
   "source": [
    "# Copying a List\n",
    "\n",
    "copy_list = seq[:]\n",
    "print(copy_list)"
   ]
  },
  {
   "cell_type": "code",
   "execution_count": 35,
   "id": "0e55cb2e",
   "metadata": {},
   "outputs": [
    {
     "name": "stdout",
     "output_type": "stream",
     "text": [
      "[]\n"
     ]
    }
   ],
   "source": [
    "# Clearing a List\n",
    "\n",
    "copy_list.clear()\n",
    "print(copy_list)"
   ]
  },
  {
   "cell_type": "code",
   "execution_count": 36,
   "id": "23c1f275",
   "metadata": {},
   "outputs": [
    {
     "name": "stdout",
     "output_type": "stream",
     "text": [
      "4\n"
     ]
    }
   ],
   "source": [
    "# Finding Index of an Element\n",
    "\n",
    "print(seq.index(5))"
   ]
  },
  {
   "cell_type": "code",
   "execution_count": 37,
   "id": "479b5387",
   "metadata": {},
   "outputs": [
    {
     "name": "stdout",
     "output_type": "stream",
     "text": [
      "[1, 2, 4, 5, 6, 7]\n"
     ]
    }
   ],
   "source": [
    "# Extending a List\n",
    "\n",
    "seq2.extend([6, 7])\n",
    "print(seq2)"
   ]
  }
 ],
 "metadata": {
  "kernelspec": {
   "display_name": "Python 3",
   "language": "python",
   "name": "python3"
  },
  "language_info": {
   "codemirror_mode": {
    "name": "ipython",
    "version": 3
   },
   "file_extension": ".py",
   "mimetype": "text/x-python",
   "name": "python",
   "nbconvert_exporter": "python",
   "pygments_lexer": "ipython3",
   "version": "3.12.9"
  }
 },
 "nbformat": 4,
 "nbformat_minor": 5
}
