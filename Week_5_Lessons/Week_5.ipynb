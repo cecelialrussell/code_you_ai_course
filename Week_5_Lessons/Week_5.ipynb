{
 "cells": [
  {
   "cell_type": "code",
   "execution_count": 1,
   "id": "27467872",
   "metadata": {},
   "outputs": [
    {
     "name": "stdout",
     "output_type": "stream",
     "text": [
      "3.14\n"
     ]
    }
   ],
   "source": [
    "data = [\"apple\", 3.14, 42]\n",
    "print(data[1])"
   ]
  },
  {
   "cell_type": "code",
   "execution_count": 3,
   "id": "affe6e19",
   "metadata": {},
   "outputs": [
    {
     "name": "stdout",
     "output_type": "stream",
     "text": [
      "[[1, 2, 3], [4, 5, 6], [7, 8, 9]]\n"
     ]
    }
   ],
   "source": [
    "matrix = [[1,2,3], [4,5,6], [7,8,9]]\n",
    "print(matrix)"
   ]
  },
  {
   "cell_type": "code",
   "execution_count": 4,
   "id": "e66c55b4",
   "metadata": {},
   "outputs": [
    {
     "name": "stdout",
     "output_type": "stream",
     "text": [
      "[10, 20, 35, 40, 50]\n"
     ]
    }
   ],
   "source": [
    "numbers = [10, 20, 30, 40, 50]\n",
    "numbers[2] = 35\n",
    "print(numbers)"
   ]
  },
  {
   "cell_type": "code",
   "execution_count": 5,
   "id": "a6bfdb93",
   "metadata": {},
   "outputs": [
    {
     "name": "stdout",
     "output_type": "stream",
     "text": [
      "[1, 2, 3, 4]\n"
     ]
    }
   ],
   "source": [
    "def modify_list(lst):\n",
    "    lst.append(4)\n",
    "\n",
    "my_list = [1,2,3]\n",
    "modify_list(my_list)\n",
    "print(my_list)"
   ]
  },
  {
   "cell_type": "code",
   "execution_count": 6,
   "id": "49e1c1c7",
   "metadata": {},
   "outputs": [
    {
     "name": "stdout",
     "output_type": "stream",
     "text": [
      "6\n"
     ]
    }
   ],
   "source": [
    "my_dict = {\"a\": 1, \"b\": 2, \"c\": 3}\n",
    "result = 0\n",
    "for key in my_dict:\n",
    "    result += my_dict[key]\n",
    "print(result)"
   ]
  },
  {
   "cell_type": "code",
   "execution_count": 7,
   "id": "7e32b256",
   "metadata": {},
   "outputs": [
    {
     "ename": "TypeError",
     "evalue": "'tuple' object does not support item assignment",
     "output_type": "error",
     "traceback": [
      "\u001b[31m---------------------------------------------------------------------------\u001b[39m",
      "\u001b[31mTypeError\u001b[39m                                 Traceback (most recent call last)",
      "\u001b[36mCell\u001b[39m\u001b[36m \u001b[39m\u001b[32mIn[7]\u001b[39m\u001b[32m, line 2\u001b[39m\n\u001b[32m      1\u001b[39m my_tuple = (\u001b[32m1\u001b[39m, \u001b[32m2\u001b[39m, \u001b[32m3\u001b[39m)\n\u001b[32m----> \u001b[39m\u001b[32m2\u001b[39m \u001b[43mmy_tuple\u001b[49m\u001b[43m[\u001b[49m\u001b[32;43m1\u001b[39;49m\u001b[43m]\u001b[49m = \u001b[32m4\u001b[39m\n\u001b[32m      3\u001b[39m \u001b[38;5;28mprint\u001b[39m(my_tuple)\n",
      "\u001b[31mTypeError\u001b[39m: 'tuple' object does not support item assignment"
     ]
    }
   ],
   "source": [
    "my_tuple = (1, 2, 3)\n",
    "my_tuple[1] = 4\n",
    "print(my_tuple)"
   ]
  },
  {
   "cell_type": "markdown",
   "id": "745848d0",
   "metadata": {},
   "source": [
    "### Class Exercise #1 5.1.25"
   ]
  },
  {
   "cell_type": "code",
   "execution_count": 8,
   "id": "48ae3d9c",
   "metadata": {},
   "outputs": [
    {
     "name": "stdout",
     "output_type": "stream",
     "text": [
      "Longest word: algorithm\n"
     ]
    }
   ],
   "source": [
    "def find_longest(words):\n",
    "    longest = \"\"\n",
    "    for word in words:\n",
    "        if len(word) > len(longest):\n",
    "            longest = word\n",
    "    return longest\n",
    "\n",
    "sample_words = [\"algorithm\", \"data\", \"structure\", \"python\"]\n",
    "print(f\"Longest word: {find_longest(sample_words)}\")"
   ]
  },
  {
   "cell_type": "markdown",
   "id": "2f84966e",
   "metadata": {},
   "source": [
    "### Class Exercise 2 - 5.1.25"
   ]
  },
  {
   "cell_type": "code",
   "execution_count": null,
   "id": "3f2b6ed8",
   "metadata": {},
   "outputs": [
    {
     "name": "stdout",
     "output_type": "stream",
     "text": [
      "Transposed matrix:\n",
      "[1, 4, 7]\n",
      "[2, 5, 8]\n",
      "[3, 6, 9]\n"
     ]
    }
   ],
   "source": [
    "# Matrix Transposition\n",
    "\n",
    "matrix = [\n",
    "    [1,2,3],\n",
    "    [4,5,6],\n",
    "    [7,8,9]\n",
    "]\n",
    "transposed = [[row[i] for row in matrix] for i in range(len(matrix[0]))]\n",
    "print(\"Transposed matrix:\")\n",
    "for row in transposed:\n",
    "    print(row)\n",
    "\n",
    "# for i = 0: [row for row in matrix] -> [1][4][7]\n",
    "# for i = 1: [row for row in matrix] -> [2][5][8]\n",
    "# for i = 2: [row for row in matrix] -> [3][6][9]\n",
    "# square brackets inside of square brackets are nesting for loops\n",
    "# recreates the lists within list"
   ]
  },
  {
   "cell_type": "markdown",
   "id": "57a1ac22",
   "metadata": {},
   "source": [
    "### Class Exercise 3 - 5.1.25"
   ]
  },
  {
   "cell_type": "code",
   "execution_count": 10,
   "id": "1518ec65",
   "metadata": {},
   "outputs": [
    {
     "name": "stdout",
     "output_type": "stream",
     "text": [
      "Original: ['Book', 'Pen']\n",
      "Modified: ['Book', 'Pen', 'Gift Wrap']\n"
     ]
    }
   ],
   "source": [
    "def process_cart(cart):\n",
    "    temp_cart = cart.copy()\n",
    "    temp_cart.append(\"Gift Wrap\")\n",
    "    return temp_cart\n",
    "\n",
    "original_cart = [\"Book\", \"Pen\"]\n",
    "# Adding items to shopping cart\n",
    "new_cart = process_cart(original_cart)\n",
    "print(f\"Original: {original_cart}\\nModified: {new_cart}\")"
   ]
  },
  {
   "cell_type": "markdown",
   "id": "ab07d19f",
   "metadata": {},
   "source": [
    "### Class Exercise 4 - 5.1.25"
   ]
  },
  {
   "cell_type": "code",
   "execution_count": null,
   "id": "19f4fbf9",
   "metadata": {},
   "outputs": [
    {
     "name": "stdout",
     "output_type": "stream",
     "text": [
      "Updated DB: {'name': 'Alice', 'grades': {'math': 85, 'physics': 90, 'chemistry': 88}}\n"
     ]
    }
   ],
   "source": [
    "# Student Database\n",
    "\n",
    "student_db = {\n",
    "    101: {\"name\": \"Alice\", \"grades\": {\"math\": 85, \"physics\": 90}},\n",
    "    102: {\"name\": \"Bob\", \"grades\": {\"math\": 78, \"physics\": 82}}\n",
    "}\n",
    "\n",
    "def add_grade(db, sid, subject, score):\n",
    "    db[sid][\"grades\"][subject] = score\n",
    "\n",
    "add_grade(student_db, 101, \"chemistry\", 88)\n",
    "print(\"Updated DB:\", student_db[101])\n",
    "\n",
    "# call dictionary, call student id, call grades dictionary, and append with course key and score value"
   ]
  },
  {
   "cell_type": "markdown",
   "id": "611c66d6",
   "metadata": {},
   "source": [
    "### Class Exercise 5 - 5.1.25"
   ]
  },
  {
   "cell_type": "code",
   "execution_count": 12,
   "id": "f876bf77",
   "metadata": {},
   "outputs": [
    {
     "name": "stdout",
     "output_type": "stream",
     "text": [
      "Inverted: {'Alpha': 'A', 'Bravo': 'B', 'Charlie': 'C'}\n"
     ]
    }
   ],
   "source": [
    "def invert_dict(original):\n",
    "    return {v: k for k, v in original.items()}\n",
    "\n",
    "codes = {\"A\": \"Alpha\", \"B\": \"Bravo\", \"C\": \"Charlie\"}\n",
    "print(\"Inverted:\", invert_dict(codes))\n",
    "\n",
    "# Inverting a dictionary means swapping keys and values"
   ]
  },
  {
   "cell_type": "markdown",
   "id": "34e197af",
   "metadata": {},
   "source": [
    "### Class Exercise 6 - 5.1.25"
   ]
  },
  {
   "cell_type": "code",
   "execution_count": 13,
   "id": "63daf928",
   "metadata": {},
   "outputs": [
    {
     "name": "stdout",
     "output_type": "stream",
     "text": [
      "Emma studies Computer Science\n"
     ]
    }
   ],
   "source": [
    "from collections import namedtuple\n",
    "Student = namedtuple('Student', ['name', 'age', 'major'])\n",
    "\n",
    "cs_student = Student(\"Emma\", 20, \"Computer Science\")\n",
    "print(f\"{cs_student.name} studies {cs_student.major}\")"
   ]
  },
  {
   "cell_type": "markdown",
   "id": "0cbe9df2",
   "metadata": {},
   "source": [
    "### Class Exercise 7 - 5.1.25"
   ]
  },
  {
   "cell_type": "code",
   "execution_count": null,
   "id": "d11bdaf5",
   "metadata": {},
   "outputs": [
    {
     "name": "stdout",
     "output_type": "stream",
     "text": [
      "copy: [[99, 2], [3, 4]], original: [[99, 2], [3, 4]]\n"
     ]
    }
   ],
   "source": [
    "matrix = [[1,2], [3,4]]\n",
    "copy = matrix.copy()\n",
    "copy [0][0] = 99\n",
    "print(f\"copy: {copy}, original: {matrix}\")\n",
    "\n",
    "# to prevent unintended mutation, use deepcopy instead of copy matrix.deepcopy()"
   ]
  }
 ],
 "metadata": {
  "kernelspec": {
   "display_name": "Python 3",
   "language": "python",
   "name": "python3"
  },
  "language_info": {
   "codemirror_mode": {
    "name": "ipython",
    "version": 3
   },
   "file_extension": ".py",
   "mimetype": "text/x-python",
   "name": "python",
   "nbconvert_exporter": "python",
   "pygments_lexer": "ipython3",
   "version": "3.12.9"
  }
 },
 "nbformat": 4,
 "nbformat_minor": 5
}
